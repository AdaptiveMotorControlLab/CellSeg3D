{
  "cells": [
    {
      "cell_type": "markdown",
      "metadata": {
        "colab_type": "text",
        "id": "view-in-github"
      },
      "source": [
        "<a href=\"https://colab.research.google.com/github/AdaptiveMotorControlLab/CellSeg3d/blob/main/notebooks/colab_inference_demo.ipynb\" target=\"_parent\"><img src=\"https://colab.research.google.com/assets/colab-badge.svg\" alt=\"Open In Colab\"/></a>"
      ]
    },
    {
      "cell_type": "markdown",
      "metadata": {},
      "source": [
        "# **CellSeg3D : inference demo notebook**\n",
        "\n",
        "---\n",
        "This notebook is part of the [CellSeg3D project](https://github.com/AdaptiveMotorControlLab/CellSeg3d) in the [Mathis Lab of Adaptive Intelligence](https://www.mackenziemathislab.org/).\n",
        "\n",
        "- 💜 The foundation of this notebook owes much to the **[ZeroCostDL4Mic](https://github.com/HenriquesLab/ZeroCostDL4Mic)** project and to the **[DeepLabCut](https://github.com/DeepLabCut/DeepLabCut)** team for bringing Colab into scientific open software."
      ]
    },
    {
      "cell_type": "markdown",
      "metadata": {},
      "source": [
        "# **1. Installing dependencies**\n",
        "---"
      ]
    },
    {
      "cell_type": "markdown",
      "metadata": {},
      "source": [
        "## **1.1 Installing CellSeg3D**\n",
        "---"
      ]
    },
    {
      "cell_type": "code",
      "execution_count": null,
      "metadata": {},
      "outputs": [],
      "source": [
        "#@markdown ##Install CellSeg3D and dependencies\n",
        "!git clone https://github.com/AdaptiveMotorControlLab/CellSeg3d.git --branch main --single-branch ./CellSeg3D\n",
        "!pip install -e CellSeg3D"
      ]
    },
    {
      "cell_type": "markdown",
      "metadata": {},
      "source": [
        "## **1.2. Restart your runtime**\n",
        "---\n",
        "<font size = 4>\n",
        "\n",
        "\n",
        "**<font size = 4> Please ignore the subsequent error message. An automatic restart of your Runtime is expected and is part of the process.**\n",
        "\n",
        "<img width=\"40%\" alt =\"\" src=\"https://github.com/HenriquesLab/ZeroCostDL4Mic/raw/master/Wiki_files/session_crash.png\"><figcaption>  </figcaption>"
      ]
    },
    {
      "cell_type": "code",
      "execution_count": null,
      "metadata": {},
      "outputs": [],
      "source": [
        "# @title Force session restart\n",
        "exit(0)"
      ]
    },
    {
      "cell_type": "markdown",
      "metadata": {},
      "source": [
        "## **1.3 Load key dependencies**\n",
        "---"
      ]
    },
    {
      "cell_type": "code",
      "execution_count": null,
      "metadata": {},
      "outputs": [],
      "source": [
        "# @title Load libraries\n",
        "from pathlib import Path\n",
        "from tifffile import imread\n",
        "from napari_cellseg3d.dev_scripts import remote_inference as cs3d\n",
        "from napari_cellseg3d.utils import LOGGER as logger\n",
        "import logging\n",
        "\n",
        "logger.setLevel(logging.INFO)"
      ]
    },
    {
      "cell_type": "markdown",
      "metadata": {},
      "source": [
        "# **2. Inference**\n",
        "---"
      ]
    },
    {
      "cell_type": "markdown",
      "metadata": {},
      "source": [
        "\n",
        "## **2.1. Check for GPU access**\n",
        "---\n",
        "\n",
        "By default, this session is configured to use Python 3 and GPU acceleration. To verify or adjust these settings:\n",
        "\n",
        "<font size = 4>Navigate to Runtime and select Change the Runtime type.\n",
        "\n",
        "<font size = 4>For Runtime type, ensure it's set to Python 3 (the programming language this program is written in).\n",
        "\n",
        "<font size = 4>Under Accelerator, choose GPU (Graphics Processing Unit).\n"
      ]
    },
    {
      "cell_type": "code",
      "execution_count": null,
      "metadata": {},
      "outputs": [],
      "source": [
        "#@markdown This cell verifies if GPU access is available.\n",
        "\n",
        "import torch\n",
        "if not torch.cuda.is_available():\n",
        "  print('You do not have GPU access.')\n",
        "  print('Did you change your runtime?')\n",
        "  print('If the runtime setting is correct then Google did not allocate a GPU for your session')\n",
        "  print('Expect slow performance. To access GPU try reconnecting later')\n",
        "\n",
        "else:\n",
        "  print('You have GPU access')\n",
        "  !nvidia-smi\n"
      ]
    },
    {
      "cell_type": "markdown",
      "metadata": {},
      "source": [
        "## **2.2 Run inference**\n",
        "---"
      ]
    },
    {
      "cell_type": "code",
      "execution_count": null,
      "metadata": {},
      "outputs": [],
      "source": [
        "# @title Load demo image and inference configuration\n",
        "#@markdown This cell loads a demo image and load the inference configuration.\n",
        "demo_image_path = \"./CellSeg3D/examples/c5image.tif\n",
        "demo_image = imread(demo_image_path)\n",
        "inference_config = cs3d.CONFIG\n",
        "post_process_config = cs3d.PostProcessConfig()\n",
        "# select cle device for colab\n",
        "import pyclesperanto_prototype as cle\n",
        "cle.select_device(\"cupy\")"
      ]
    },
    {
      "cell_type": "code",
      "execution_count": null,
      "metadata": {},
      "outputs": [],
      "source": [
        "# @title Run inference on demo image\n",
        "#@markdown This cell runs the inference on the demo image.\n",
        "result = cs3d.inference_on_images(\n",
        "    demo_image,\n",
        "    config=inference_config,\n",
        ")"
      ]
    },
    {
      "cell_type": "code",
      "execution_count": null,
      "metadata": {},
      "outputs": [],
      "source": [
        "# @title Post-process the result\n",
        "# @markdown This cell post-processes the result of the inference : thresholding, instance segmentation, and statistics.\n",
        "instance_segmentation,stats = cs3d.post_processing(\n",
        "    result[0].semantic_segmentation,\n",
        "    config=post_process_config,\n",
        ")"
      ]
    },
    {
      "cell_type": "code",
      "execution_count": null,
      "metadata": {},
      "outputs": [],
      "source": [
        "# @title Display the result\n",
        "#@markdown This cell displays the result of the inference and post-processing. Use the slider to navigate through the z-stack.\n",
        "# @markdown *KNOWN ISSUE* : The colormap of the labels is not consistent between the z-stacks. \n",
        "import matplotlib.pyplot as plt\n",
        "import ipywidgets as widgets\n",
        "from IPython.display import display\n",
        "import matplotlib\n",
        "import colorsys\n",
        "import numpy as np\n",
        "\n",
        "def random_label_cmap(n=2**16, h = (0,1), l = (.4,1), s =(.2,.8)):\n",
        "    \"\"\"FUNCTION TAKEN FROM STARDIST REPO : https://github.com/stardist/stardist/blob/c6c261081c6f9717fa9f5c47720ad2d5a9153224/stardist/plot/plot.py#L8\"\"\"\n",
        "    h,l,s = np.random.uniform(*h,n), np.random.uniform(*l,n), np.random.uniform(*s,n)\n",
        "    cols = np.stack([colorsys.hls_to_rgb(_h,_l,_s) for _h,_l,_s in zip(h,l,s)],axis=0)\n",
        "    cols[0] = 0\n",
        "    # reset the random generator to the first draw to keep the colormap consistent\n",
        "\n",
        "    return matplotlib.colors.ListedColormap(cols)\n",
        "\n",
        "label_cmap = random_label_cmap(n=instance_segmentation.max()+1)\n",
        "\n",
        "def update_plot(z):\n",
        "    plt.figure(figsize=(15, 15))\n",
        "    plt.subplot(1, 3, 1)\n",
        "    plt.imshow(demo_image[z], cmap='gray')\n",
        "    plt.subplot(1, 3, 2)\n",
        "    plt.imshow(result[0].semantic_segmentation[z], cmap='turbo')\n",
        "    plt.subplot(1, 3, 3)\n",
        "    plt.imshow(instance_segmentation[z], cmap=label_cmap)\n",
        "    plt.show()\n",
        "\n",
        "# Create a slider\n",
        "z_slider = widgets.IntSlider(min=0, max=demo_image.shape[0]-1, step=1, value=demo_image.shape[0] // 2)\n",
        "\n",
        "# Display the slider and update the plot when the slider is changed\n",
        "widgets.interact(update_plot, z=z_slider)"
      ]
    },
    {
      "cell_type": "code",
      "execution_count": null,
      "metadata": {},
      "outputs": [],
      "source": [
        "# @title Display the statistics\n",
        "# @markdown This cell displays the statistics of the post-processed result.\n",
        "import pandas as pd\n",
        "data = pd.DataFrame(stats.get_dict())\n",
        "display(data)"
      ]
    },
    {
      "cell_type": "code",
      "execution_count": null,
      "metadata": {},
      "outputs": [],
      "source": [
        "# @title Plot the a 3D view, with statistics\n",
        "# @markdown This cell plots a 3D view of the cells, with the volume as the size of the points and the sphericity as the color.\n",
        "import plotly.graph_objects as go\n",
        "import numpy as np\n",
        "\n",
        "def plotly_cells_stats(data):\n",
        "\n",
        "    x = data[\"Centroid x\"]\n",
        "    y = data[\"Centroid y\"]\n",
        "    z = data[\"Centroid z\"]\n",
        "\n",
        "    fig = go.Figure(\n",
        "        data=go.Scatter3d(\n",
        "            x=np.floor(x),\n",
        "            y=np.floor(y),\n",
        "            z=np.floor(z),\n",
        "            mode=\"markers\",\n",
        "            marker=dict(\n",
        "                sizemode=\"diameter\",\n",
        "                sizeref=30,\n",
        "                sizemin=20,\n",
        "                size=data[\"Volume\"],\n",
        "                color=data[\"Sphericity (axes)\"],\n",
        "                colorscale=\"Turbo_r\",\n",
        "                colorbar_title=\"Sphericity\",\n",
        "                line_color=\"rgb(140, 140, 170)\",\n",
        "            ),\n",
        "        )\n",
        "    )\n",
        "\n",
        "    fig.update_layout(\n",
        "        height=600,\n",
        "        width=600,\n",
        "        title=f'Total number of cells : {int(data[\"Number objects\"][0])}',\n",
        "    )\n",
        "\n",
        "    fig.show(renderer=\"colab\")\n",
        "    \n",
        "plotly_cells_stats(data)"
      ]
    }
  ],
  "metadata": {
    "accelerator": "GPU",
    "colab": {
      "gpuType": "T4",
      "include_colab_link": true,
      "provenance": []
    },
    "kernelspec": {
      "display_name": "Python 3",
      "name": "python3"
    },
    "language_info": {
      "name": "python"
    }
  },
  "nbformat": 4,
  "nbformat_minor": 0
}
