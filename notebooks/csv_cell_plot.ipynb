{
 "cells": [
  {
   "cell_type": "code",
   "execution_count": null,
   "id": "75972fbe-d49e-40ed-a1d1-13e63ef7436d",
   "metadata": {},
   "outputs": [],
   "source": [
    "import matplotlib.pyplot as plt\n",
    "import matplotlib.cm as cm\n",
    "from matplotlib.colors import Normalize\n",
    "import numpy as np\n",
    "import pandas as pd"
   ]
  },
  {
   "cell_type": "markdown",
   "id": "7d364b4d-bab1-4152-b60c-d1df7cd30c86",
   "metadata": {},
   "source": [
    "# Matplotlib version (static)"
   ]
  },
  {
   "cell_type": "markdown",
   "id": "29adc086-c286-48e4-91b4-38733209c22d",
   "metadata": {},
   "source": [
    "**Enter your csv file name/path below, make sure the notebook is in the same folder if you use the name**"
   ]
  },
  {
   "cell_type": "code",
   "execution_count": null,
   "id": "f2a30d77-d679-468f-a011-f1494a8175d3",
   "metadata": {},
   "outputs": [],
   "source": [
    "dat1 = pd.read_csv(\"plots_data.csv\", index_col=False)"
   ]
  },
  {
   "cell_type": "code",
   "execution_count": null,
   "id": "9be45a69-ac3b-47fb-87b5-3fed81a94d88",
   "metadata": {},
   "outputs": [],
   "source": [
    "dat1"
   ]
  },
  {
   "cell_type": "code",
   "execution_count": null,
   "id": "4074f947-4b61-45c9-bc83-d644250c5bc0",
   "metadata": {},
   "outputs": [],
   "source": [
    "def plot_data(data_path, x_inv=False, y_inv=False, z_inv=False):\n",
    "    data = pd.read_csv(data_path, index_col=False)\n",
    "\n",
    "    x = data[\"Centroid x\"]\n",
    "    y = data[\"Centroid y\"]\n",
    "    z = data[\"Centroid z\"]\n",
    "\n",
    "    x = np.floor(x)\n",
    "    y = np.floor(y)\n",
    "    z = np.floor(z)\n",
    "\n",
    "    maxsph = max(data[\"Sphericity (axes)\"])\n",
    "    minsph = min(data[\"Sphericity (axes)\"])\n",
    "\n",
    "    cmap = cm.jet\n",
    "    norm = Normalize(minsph, maxsph)\n",
    "    col = [cmap(norm(sph)) for sph in data[\"Sphericity (axes)\"]]\n",
    "\n",
    "    fig = plt.figure(figsize=(15, 15))\n",
    "    ax = fig.add_subplot(projection=\"3d\")\n",
    "\n",
    "    scatter = ax.scatter(x, y, z, marker=\"o\", c=col, s=data[\"Volume\"])\n",
    "    fig.colorbar(\n",
    "        cm.ScalarMappable(norm=norm, cmap=cmap), shrink=0.5, label=\"Sphericity\"\n",
    "    )\n",
    "\n",
    "    handles, labels = scatter.legend_elements(prop=\"sizes\", alpha=0.6)\n",
    "    legend2 = ax.legend(\n",
    "        handles, labels, loc=\"center left\", title=\"Volume\", labelspacing=1.7\n",
    "    )\n",
    "\n",
    "    ax.set_title(\n",
    "        f\"Cell location from centroids\\nTotal number of cells : {int(data['Number objects'][0])}\",\n",
    "        fontdict={\"fontsize\": 18},\n",
    "    )\n",
    "    ax.set_xlabel(\"X\")\n",
    "    ax.set_ylabel(\"Y\")\n",
    "    ax.set_zlabel(\"Z\")\n",
    "\n",
    "    if x_inv:\n",
    "        ax.invert_xaxis()\n",
    "    if y_inv:\n",
    "        ax.invert_yaxis()\n",
    "    if z_inv:\n",
    "        ax.invert_zaxis()"
   ]
  },
  {
   "cell_type": "code",
   "execution_count": null,
   "id": "b9fa4042-d77a-4491-ab5e-10eb03b967e4",
   "metadata": {},
   "outputs": [],
   "source": [
    "min(dat1[\"Sphericity (axes)\"])"
   ]
  },
  {
   "cell_type": "code",
   "execution_count": null,
   "id": "e972c9ef-fb58-48d4-8aa5-718b082dec60",
   "metadata": {},
   "outputs": [],
   "source": [
    "max(dat1[\"Sphericity (axes)\"])"
   ]
  },
  {
   "cell_type": "code",
   "execution_count": null,
   "id": "2c8e6f13-c14e-472b-9d65-28c537c7cbbb",
   "metadata": {},
   "outputs": [],
   "source": [
    "plot_data(\"plots_data.csv\")"
   ]
  },
  {
   "cell_type": "code",
   "execution_count": null,
   "id": "096b621f-5d02-468c-874d-d060f16e7ebf",
   "metadata": {},
   "outputs": [],
   "source": [
    "dat2 = pd.read_csv(\"plots_data2.csv\", index_col=False)"
   ]
  },
  {
   "cell_type": "code",
   "execution_count": null,
   "id": "c87f13c1-0720-4fb7-95cd-a6d22a1659f4",
   "metadata": {},
   "outputs": [],
   "source": [
    "plot_data(\"plots_data2.csv\", z_inv=True, x_inv=True)"
   ]
  },
  {
   "cell_type": "markdown",
   "id": "5c738df0-f114-43c8-ba00-3e442fd477b1",
   "metadata": {},
   "source": [
    "# Plotly version\n",
    "## Requires :\n",
    "* Plotly library ``pip install plotly==5.8.0``\n",
    "* Install of jupyter extensions, see [Getting started](https://plotly.com/python/getting-started/) > Jupyter Lab support"
   ]
  },
  {
   "cell_type": "code",
   "execution_count": null,
   "id": "96e21b9e-1a44-4902-ba3f-085de438359f",
   "metadata": {},
   "outputs": [],
   "source": [
    "import plotly.graph_objects as go\n",
    "from plotly.offline import iplot, init_notebook_mode"
   ]
  },
  {
   "cell_type": "code",
   "execution_count": null,
   "id": "ee17d656-2868-4164-9937-8c07d7fc8d4f",
   "metadata": {},
   "outputs": [],
   "source": [
    "def plotly_cells_stats(data):\n",
    "    init_notebook_mode()  # initiate notebook for offline plot\n",
    "\n",
    "    x = data[\"Centroid x\"]\n",
    "    y = data[\"Centroid y\"]\n",
    "    z = data[\"Centroid z\"]\n",
    "\n",
    "    fig = go.Figure(\n",
    "        data=go.Scatter3d(\n",
    "            x=np.floor(x),\n",
    "            y=np.floor(y),\n",
    "            z=np.floor(z),\n",
    "            mode=\"markers\",\n",
    "            marker=dict(\n",
    "                sizemode=\"diameter\",\n",
    "                sizeref=30,\n",
    "                sizemin=20,\n",
    "                size=data[\"Volume\"],\n",
    "                color=data[\"Sphericity (axes)\"],\n",
    "                colorscale=\"Turbo_r\",\n",
    "                colorbar_title=\"Sphericity\",\n",
    "                line_color=\"rgb(140, 140, 170)\",\n",
    "            ),\n",
    "        )\n",
    "    )\n",
    "\n",
    "    fig.update_layout(\n",
    "        height=600,\n",
    "        width=600,\n",
    "        title=f'Total number of cells : {int(data[\"Number objects\"][0])}',\n",
    "    )\n",
    "\n",
    "    fig.show()"
   ]
  },
  {
   "cell_type": "code",
   "execution_count": null,
   "id": "3a16bcf3-34a2-4def-920d-44ee3db069f5",
   "metadata": {},
   "outputs": [],
   "source": [
    "plotly_cells_stats(dat1)"
   ]
  },
  {
   "cell_type": "code",
   "execution_count": null,
   "id": "3fb786a3-3fb9-4a81-b2d7-036dbcffe087",
   "metadata": {},
   "outputs": [],
   "source": [
    "plotly_cells_stats(dat2)"
   ]
  },
  {
   "cell_type": "markdown",
   "id": "36d137e4-9a5d-4761-b322-06bab43972e3",
   "metadata": {},
   "source": [
    "Save as html in case plotly plots do not render correctly :"
   ]
  },
  {
   "cell_type": "code",
   "execution_count": null,
   "id": "0513680c-592d-408c-bf84-b9a85ef3bc91",
   "metadata": {},
   "outputs": [],
   "source": [
    "import os\n",
    "\n",
    "os.system(\"jupyter nbconvert --to html csv_cell_plot.ipynb\")"
   ]
  },
  {
   "cell_type": "code",
   "execution_count": null,
   "id": "c0aa83ca-9919-4279-ad9a-5077b74e12d7",
   "metadata": {},
   "outputs": [],
   "source": []
  }
 ],
 "metadata": {
  "kernelspec": {
   "display_name": "Python 3 (ipykernel)",
   "language": "python",
   "name": "python3"
  },
  "language_info": {
   "codemirror_mode": {
    "name": "ipython",
    "version": 3
   },
   "file_extension": ".py",
   "mimetype": "text/x-python",
   "name": "python",
   "nbconvert_exporter": "python",
   "pygments_lexer": "ipython3",
   "version": "3.8.11"
  }
 },
 "nbformat": 4,
 "nbformat_minor": 5
}
