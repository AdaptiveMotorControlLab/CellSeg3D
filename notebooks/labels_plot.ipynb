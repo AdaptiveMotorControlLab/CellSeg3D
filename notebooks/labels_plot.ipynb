{
 "cells": [
  {
   "cell_type": "markdown",
   "metadata": {},
   "source": [
    "# Labels plot\n",
    "\n",
    "This simple notebook shows how you can plot your labels in jupyter using matplotlib.\n",
    "Viewing in napari is recommended however, as it allows you to interact with thel labels."
   ]
  },
  {
   "cell_type": "code",
   "execution_count": null,
   "id": "d1c53d64-3b95-454c-9183-3fd95f3154ee",
   "metadata": {},
   "outputs": [],
   "source": [
    "import matplotlib.pyplot as plt\n",
    "import os\n",
    "import numpy as np\n",
    "from tifffile import imread"
   ]
  },
  {
   "cell_type": "code",
   "execution_count": null,
   "metadata": {
    "collapsed": false
   },
   "outputs": [],
   "source": [
    "import sys\n",
    "!{sys.executable} -m pip install plotly"
   ]
  },
  {
   "cell_type": "markdown",
   "id": "cb6ce5bf-0a09-46a4-988c-2183d09a8211",
   "metadata": {},
   "source": [
    "## Plot of the labels"
   ]
  },
  {
   "cell_type": "markdown",
   "id": "7aa3b205-2795-4f24-951a-90211a1a96fa",
   "metadata": {},
   "source": [
    "**Enter your image folder below, make sure the tif images you want to see plotted are present.**"
   ]
  },
  {
   "cell_type": "code",
   "execution_count": null,
   "id": "0e3915c7-ad7c-4303-bbf9-4ef8be3c7a0a",
   "metadata": {},
   "outputs": [],
   "source": [
    "pred_path = \"C:/Users/Cyril/Desktop/test/pred/large/\"\n",
    "\n",
    "pred_images = []\n",
    "for filename in sorted(os.listdir(pred_path)):\n",
    "    img = imread(os.path.join(pred_path, filename))\n",
    "    pred_images.append(np.array(img.compute()))"
   ]
  },
  {
   "cell_type": "code",
   "execution_count": null,
   "id": "85aa1e5f-eb1c-4d7f-b7f3-af15bbc479e0",
   "metadata": {},
   "outputs": [],
   "source": [
    "for y_pred in pred_images:\n",
    "    y_pred[y_pred > 0.9] = 1\n",
    "    y_pred[y_pred <= 0.9] = 0\n",
    "    pred3d = y_pred\n",
    "    z, x, y = pred3d.nonzero()\n",
    "    fig = plt.figure(figsize=(10, 10))\n",
    "    ax = plt.axes(projection=\"3d\")\n",
    "    ax.scatter3D(x, y, z, c=z, alpha=1)"
   ]
  },
  {
   "cell_type": "code",
   "execution_count": null,
   "id": "48db4c1f-683a-4d1a-9f06-6e681091b038",
   "metadata": {},
   "outputs": [],
   "source": [
    "import plotly.graph_objects as go\n",
    "from plotly.offline import iplot, init_notebook_mode"
   ]
  },
  {
   "cell_type": "code",
   "execution_count": null,
   "id": "9f138504-2cb3-4008-83da-7e494fecb903",
   "metadata": {},
   "outputs": [],
   "source": [
    "for pred3d in pred_images:\n",
    "    z, x, y = pred3d.nonzero()\n",
    "    fig = go.Figure(\n",
    "        data=go.Scatter3d(\n",
    "            x=x,\n",
    "            y=y,\n",
    "            z=z,\n",
    "            mode=\"markers\",\n",
    "            marker=dict(\n",
    "                size=4,\n",
    "                color=z,  # set color to an array/list of desired values\n",
    "                colorscale=\"Viridis\",  # choose a colorscale\n",
    "                opacity=0.8,\n",
    "            ),\n",
    "        )\n",
    "    )\n",
    "\n",
    "    fig.update_layout(\n",
    "        height=600,\n",
    "        width=600,\n",
    "    )\n",
    "\n",
    "    fig.show()"
   ]
  },
  {
   "cell_type": "markdown",
   "id": "e9b9bb2a-1b86-4b8f-a380-cd21c2681860",
   "metadata": {
    "tags": []
   },
   "source": [
    "Save as html in case plotly plots do not render correctly :"
   ]
  },
  {
   "cell_type": "code",
   "execution_count": null,
   "id": "c7b50635-2797-4c16-912f-239982c0ded8",
   "metadata": {},
   "outputs": [],
   "source": [
    "import os\n",
    "\n",
    "os.system(\"jupyter nbconvert --to html full_plot.ipynb\")"
   ]
  },
  {
   "cell_type": "code",
   "execution_count": null,
   "id": "fca42ff2-6d27-461f-aa6f-2f01b2631b0f",
   "metadata": {},
   "outputs": [],
   "source": []
  }
 ],
 "metadata": {
  "kernelspec": {
   "display_name": "Python 3 (ipykernel)",
   "language": "python",
   "name": "python3"
  },
  "language_info": {
   "codemirror_mode": {
    "name": "ipython",
    "version": 3
   },
   "file_extension": ".py",
   "mimetype": "text/x-python",
   "name": "python",
   "nbconvert_exporter": "python",
   "pygments_lexer": "ipython3",
   "version": "3.8.11"
  }
 },
 "nbformat": 4,
 "nbformat_minor": 5
}
