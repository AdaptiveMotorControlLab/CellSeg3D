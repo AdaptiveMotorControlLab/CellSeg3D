{
 "cells": [
  {
   "cell_type": "code",
   "execution_count": 1,
   "metadata": {
    "tags": []
   },
   "outputs": [],
   "source": [
    "import napari\n",
    "import numpy as np\n",
    "from pathlib import Path\n",
    "from tifffile import imread\n",
    "\n",
    "from napari_cellseg3d.dev_scripts import evaluate_labels as eval\n",
    "from napari_cellseg3d.utils import resize\n",
    "from napari_cellseg3d.code_models.model_instance_seg import (\n",
    "    binary_connected,\n",
    "    binary_watershed,\n",
    "    voronoi_otsu,\n",
    "    to_semantic,\n",
    ")"
   ]
  },
  {
   "cell_type": "code",
   "execution_count": 2,
   "metadata": {
    "tags": []
   },
   "outputs": [],
   "source": [
    "viewer = napari.Viewer()"
   ]
  },
  {
   "cell_type": "code",
   "execution_count": 3,
   "metadata": {
    "collapsed": false,
    "jupyter": {
     "outputs_hidden": false
    }
   },
   "outputs": [
    {
     "name": "stderr",
     "output_type": "stream",
     "text": [
      "In the future `np.bool` will be defined as the corresponding NumPy scalar.\n",
      "In the future `np.bool` will be defined as the corresponding NumPy scalar.\n",
      "In the future `np.bool` will be defined as the corresponding NumPy scalar.\n",
      "In the future `np.bool` will be defined as the corresponding NumPy scalar.\n"
     ]
    },
    {
     "data": {
      "text/plain": [
       "<Labels layer 'gt' at 0x256d14f7610>"
      ]
     },
     "execution_count": 3,
     "metadata": {},
     "output_type": "execute_result"
    }
   ],
   "source": [
    "im_path = Path(\"C:/Users/Cyril/Desktop/test/instance_test\")\n",
    "prediction_path = str(im_path / \"trailmap_ms/trailmap_pred.tif\")\n",
    "gt_labels_path = str(im_path / \"labels_relabel_unique.tif\")\n",
    "\n",
    "prediction = imread(prediction_path)\n",
    "gt_labels = imread(gt_labels_path)\n",
    "\n",
    "zoom = (1 / 5, 1, 1)\n",
    "# prediction_resized = resize(prediction, zoom)\n",
    "prediction_resized = prediction # for trailmap\n",
    "gt_labels_resized = resize(gt_labels, zoom)\n",
    "\n",
    "\n",
    "viewer.add_image(prediction_resized, name=\"pred\", colormap=\"inferno\")\n",
    "viewer.add_labels(gt_labels_resized, name=\"gt\")"
   ]
  },
  {
   "cell_type": "code",
   "execution_count": 4,
   "metadata": {
    "collapsed": false,
    "jupyter": {
     "outputs_hidden": false
    }
   },
   "outputs": [
    {
     "data": {
      "text/plain": [
       "0.7538125057831502"
      ]
     },
     "execution_count": 4,
     "metadata": {},
     "output_type": "execute_result"
    }
   ],
   "source": [
    "from napari_cellseg3d.utils import dice_coeff\n",
    "\n",
    "semantic_gt = to_semantic(gt_labels_resized.copy())\n",
    "semantic_pred = to_semantic(prediction_resized.copy())\n",
    "\n",
    "viewer.add_image(semantic_gt, colormap='bop blue')\n",
    "viewer.add_image(semantic_pred, colormap='red')\n",
    "\n",
    "dice_coeff(\n",
    "    semantic_gt,\n",
    "    prediction_resized\n",
    ")"
   ]
  },
  {
   "cell_type": "code",
   "execution_count": 5,
   "metadata": {
    "collapsed": false,
    "jupyter": {
     "outputs_hidden": false
    }
   },
   "outputs": [],
   "source": [
    "from napari_cellseg3d.dev_scripts.correct_labels import relabel\n",
    "\n",
    "# gt_corrected = relabel(prediction_path, gt_labels_path, go_fast=False)"
   ]
  },
  {
   "cell_type": "code",
   "execution_count": 6,
   "metadata": {
    "collapsed": false,
    "jupyter": {
     "outputs_hidden": false
    }
   },
   "outputs": [],
   "source": [
    "# eval.evaluate_model_performance(gt_labels_resized, gt_labels_resized)"
   ]
  },
  {
   "cell_type": "code",
   "execution_count": 7,
   "metadata": {
    "collapsed": false,
    "jupyter": {
     "outputs_hidden": false
    }
   },
   "outputs": [
    {
     "name": "stdout",
     "output_type": "stream",
     "text": [
      "(25, 64, 64)\n",
      "(25, 64, 64)\n",
      "125\n"
     ]
    }
   ],
   "source": [
    "print(prediction_resized.shape)\n",
    "print(gt_labels_resized.shape)\n",
    "print(np.unique(gt_labels_resized).shape[0])"
   ]
  },
  {
   "cell_type": "code",
   "execution_count": 8,
   "metadata": {
    "collapsed": false,
    "jupyter": {
     "outputs_hidden": false
    }
   },
   "outputs": [
    {
     "data": {
      "text/plain": [
       "<Labels layer 'connected' at 0x256c5a416d0>"
      ]
     },
     "execution_count": 8,
     "metadata": {},
     "output_type": "execute_result"
    }
   ],
   "source": [
    "connected = binary_connected(prediction_resized, thres_small=2)\n",
    "viewer.add_labels(connected, name=\"connected\")"
   ]
  },
  {
   "cell_type": "code",
   "execution_count": 9,
   "metadata": {
    "collapsed": false,
    "jupyter": {
     "outputs_hidden": false
    }
   },
   "outputs": [
    {
     "name": "stdout",
     "output_type": "stream",
     "text": [
      "2023-03-24 14:23:13,590 - Mapping labels...\n"
     ]
    },
    {
     "name": "stderr",
     "output_type": "stream",
     "text": [
      "100%|██████████████████████████████████████████████████████████████████████████████████████████████████████████████████████████████████████████████████████████████████████████████████████████████████| 103/103 [00:00<00:00, 2689.96it/s]"
     ]
    },
    {
     "name": "stdout",
     "output_type": "stream",
     "text": [
      "2023-03-24 14:23:13,631 - Calculating the number of neurons not found...\n",
      "2023-03-24 14:23:13,634 - Percent of non-fused neurons found: 50.40%\n",
      "2023-03-24 14:23:13,635 - Percent of fused neurons found: 36.00%\n",
      "2023-03-24 14:23:13,635 - Overall percent of neurons found: 86.40%\n"
     ]
    },
    {
     "name": "stderr",
     "output_type": "stream",
     "text": [
      "\n"
     ]
    },
    {
     "data": {
      "text/plain": [
       "(63,\n",
       " 45,\n",
       " 16,\n",
       " 16,\n",
       " 0.819027731148306,\n",
       " 0.8401649108992161,\n",
       " 0.83609908334452,\n",
       " 0.8066092803671974,\n",
       " 0.98)"
      ]
     },
     "execution_count": 9,
     "metadata": {},
     "output_type": "execute_result"
    }
   ],
   "source": [
    "eval.evaluate_model_performance(gt_labels_resized, connected)"
   ]
  },
  {
   "cell_type": "code",
   "execution_count": 10,
   "metadata": {
    "collapsed": false,
    "jupyter": {
     "outputs_hidden": false
    }
   },
   "outputs": [
    {
     "name": "stdout",
     "output_type": "stream",
     "text": [
      "2023-03-24 14:23:13,732 - Mapping labels...\n"
     ]
    },
    {
     "name": "stderr",
     "output_type": "stream",
     "text": [
      "100%|██████████████████████████████████████████████████████████████████████████████████████████████████████████████████████████████████████████████████████████████████████████████████████████████████| 101/101 [00:00<00:00, 5221.10it/s]"
     ]
    },
    {
     "name": "stdout",
     "output_type": "stream",
     "text": [
      "2023-03-24 14:23:13,761 - Calculating the number of neurons not found...\n",
      "2023-03-24 14:23:13,774 - Percent of non-fused neurons found: 61.60%\n",
      "2023-03-24 14:23:13,775 - Percent of fused neurons found: 27.20%\n",
      "2023-03-24 14:23:13,776 - Overall percent of neurons found: 88.80%\n"
     ]
    },
    {
     "name": "stderr",
     "output_type": "stream",
     "text": [
      "\n"
     ]
    },
    {
     "data": {
      "text/plain": [
       "(77,\n",
       " 34,\n",
       " 13,\n",
       " 9,\n",
       " 0.728461197681457,\n",
       " 0.8885669859686413,\n",
       " 0.8950588507577087,\n",
       " 0.7472814623489069,\n",
       " 0.878614359974009)"
      ]
     },
     "execution_count": 10,
     "metadata": {},
     "output_type": "execute_result"
    }
   ],
   "source": [
    "watershed = binary_watershed(\n",
    "    prediction_resized, thres_small=2, rem_seed_thres=1\n",
    ")\n",
    "viewer.add_labels(watershed)\n",
    "eval.evaluate_model_performance(gt_labels_resized, watershed)"
   ]
  },
  {
   "cell_type": "code",
   "execution_count": 11,
   "metadata": {
    "collapsed": false,
    "jupyter": {
     "outputs_hidden": false
    }
   },
   "outputs": [
    {
     "data": {
      "text/plain": [
       "(25, 64, 64)"
      ]
     },
     "execution_count": 11,
     "metadata": {},
     "output_type": "execute_result"
    }
   ],
   "source": [
    "voronoi = voronoi_otsu(prediction_resized, 0.6, outline_sigma=0.7)\n",
    "\n",
    "from skimage.morphology import remove_small_objects\n",
    "\n",
    "voronoi = remove_small_objects(voronoi, 2)\n",
    "viewer.add_labels(voronoi)\n",
    "voronoi.shape"
   ]
  },
  {
   "cell_type": "code",
   "execution_count": 12,
   "metadata": {
    "collapsed": false,
    "jupyter": {
     "outputs_hidden": false
    }
   },
   "outputs": [
    {
     "data": {
      "text/plain": [
       "dtype('int64')"
      ]
     },
     "execution_count": 12,
     "metadata": {},
     "output_type": "execute_result"
    }
   ],
   "source": [
    "gt_labels_resized.dtype"
   ]
  },
  {
   "cell_type": "code",
   "execution_count": 13,
   "metadata": {
    "collapsed": false,
    "jupyter": {
     "outputs_hidden": false
    }
   },
   "outputs": [],
   "source": [
    "# np.unique(voronoi, return_counts=True)"
   ]
  },
  {
   "cell_type": "code",
   "execution_count": 14,
   "metadata": {
    "collapsed": false,
    "jupyter": {
     "outputs_hidden": false
    }
   },
   "outputs": [],
   "source": [
    "# np.unique(gt_labels_resized, return_counts=True)"
   ]
  },
  {
   "cell_type": "code",
   "execution_count": 15,
   "metadata": {
    "collapsed": false,
    "jupyter": {
     "outputs_hidden": false
    }
   },
   "outputs": [
    {
     "name": "stdout",
     "output_type": "stream",
     "text": [
      "2023-03-24 14:23:14,241 - Mapping labels...\n"
     ]
    },
    {
     "name": "stderr",
     "output_type": "stream",
     "text": [
      "100%|██████████████████████████████████████████████████████████████████████████████████████████████████████████████████████████████████████████████████████████████████████████████████████████████████| 119/119 [00:00<00:00, 2376.22it/s]"
     ]
    },
    {
     "name": "stdout",
     "output_type": "stream",
     "text": [
      "2023-03-24 14:23:14,301 - Calculating the number of neurons not found...\n",
      "2023-03-24 14:23:14,303 - Percent of non-fused neurons found: 81.60%\n",
      "2023-03-24 14:23:14,304 - Percent of fused neurons found: 6.40%\n",
      "2023-03-24 14:23:14,305 - Overall percent of neurons found: 88.00%\n"
     ]
    },
    {
     "name": "stderr",
     "output_type": "stream",
     "text": [
      "\n"
     ]
    },
    {
     "data": {
      "text/plain": [
       "(102,\n",
       " 8,\n",
       " 14,\n",
       " 16,\n",
       " 0.708505702558253,\n",
       " 0.8832633585884945,\n",
       " 0.9759871495093808,\n",
       " 0.6670483272595948,\n",
       " 0.8653680990771155)"
      ]
     },
     "execution_count": 15,
     "metadata": {},
     "output_type": "execute_result"
    }
   ],
   "source": [
    "eval.evaluate_model_performance(gt_labels_resized, voronoi)"
   ]
  },
  {
   "cell_type": "code",
   "execution_count": 16,
   "metadata": {
    "collapsed": false,
    "jupyter": {
     "outputs_hidden": false
    }
   },
   "outputs": [],
   "source": [
    "# eval.evaluate_model_performance(gt_labels_resized, voronoi)"
   ]
  }
 ],
 "metadata": {
  "kernelspec": {
   "display_name": "Python 3 (ipykernel)",
   "language": "python",
   "name": "python3"
  },
  "language_info": {
   "codemirror_mode": {
    "name": "ipython",
    "version": 3
   },
   "file_extension": ".py",
   "mimetype": "text/x-python",
   "name": "python",
   "nbconvert_exporter": "python",
   "pygments_lexer": "ipython3",
   "version": "3.8.13"
  }
 },
 "nbformat": 4,
 "nbformat_minor": 4
}
