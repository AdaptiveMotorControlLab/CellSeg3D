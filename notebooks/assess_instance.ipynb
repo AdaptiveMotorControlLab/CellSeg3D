{
 "cells": [
  {
   "cell_type": "code",
   "execution_count": 1,
   "metadata": {
    "tags": []
   },
   "outputs": [],
   "source": [
    "import napari\n",
    "import numpy as np\n",
    "from pathlib import Path\n",
    "from tifffile import imread\n",
    "\n",
    "from napari_cellseg3d.dev_scripts import evaluate_labels as eval\n",
    "from napari_cellseg3d.utils import resize\n",
    "from napari_cellseg3d.code_models.model_instance_seg import (\n",
    "    binary_connected,\n",
    "    binary_watershed,\n",
    "    voronoi_otsu,\n",
    "    to_semantic,\n",
    ")"
   ]
  },
  {
   "cell_type": "code",
   "execution_count": 2,
   "metadata": {
    "tags": []
   },
   "outputs": [],
   "source": [
    "viewer = napari.Viewer()"
   ]
  },
  {
   "cell_type": "code",
   "execution_count": 3,
   "metadata": {
    "collapsed": false,
    "jupyter": {
     "outputs_hidden": false
    }
   },
   "outputs": [
    {
     "data": {
      "text/plain": [
       "<Labels layer 'gt' at 0x2350d649130>"
      ]
     },
     "execution_count": 3,
     "metadata": {},
     "output_type": "execute_result"
    }
   ],
   "source": [
    "im_path = Path(\"C:/Users/Cyril/Desktop/test/instance_test\")\n",
    "prediction_path = str(im_path / \"pred.tif\")\n",
    "gt_labels_path = str(im_path / \"labels_relabel_unique.tif\")\n",
    "\n",
    "prediction = imread(prediction_path)\n",
    "gt_labels = imread(gt_labels_path)\n",
    "\n",
    "zoom = (1 / 5, 1, 1)\n",
    "prediction_resized = resize(prediction, zoom)\n",
    "gt_labels_resized = resize(gt_labels, zoom)\n",
    "\n",
    "\n",
    "viewer.add_image(prediction_resized, name=\"pred\", colormap=\"inferno\")\n",
    "viewer.add_labels(gt_labels_resized, name=\"gt\")"
   ]
  },
  {
   "cell_type": "code",
   "execution_count": 4,
   "metadata": {
    "collapsed": false,
    "jupyter": {
     "outputs_hidden": false
    }
   },
   "outputs": [
    {
     "data": {
      "text/plain": [
       "0.5817600487210719"
      ]
     },
     "execution_count": 4,
     "metadata": {},
     "output_type": "execute_result"
    }
   ],
   "source": [
    "from napari_cellseg3d.utils import dice_coeff\n",
    "\n",
    "dice_coeff(to_semantic(gt_labels_resized.copy()), to_semantic(prediction_resized.copy()))"
   ]
  },
  {
   "cell_type": "code",
   "execution_count": 5,
   "metadata": {
    "collapsed": false,
    "jupyter": {
     "outputs_hidden": false
    }
   },
   "outputs": [],
   "source": [
    "from napari_cellseg3d.dev_scripts.correct_labels import relabel\n",
    "\n",
    "# gt_corrected = relabel(prediction_path, gt_labels_path, go_fast=False)"
   ]
  },
  {
   "cell_type": "code",
   "execution_count": 6,
   "metadata": {
    "collapsed": false,
    "jupyter": {
     "outputs_hidden": false
    }
   },
   "outputs": [],
   "source": [
    "# eval.evaluate_model_performance(gt_labels_resized, gt_labels_resized)"
   ]
  },
  {
   "cell_type": "code",
   "execution_count": 7,
   "metadata": {
    "collapsed": false,
    "jupyter": {
     "outputs_hidden": false
    }
   },
   "outputs": [
    {
     "name": "stdout",
     "output_type": "stream",
     "text": [
      "(25, 64, 64)\n",
      "(25, 64, 64)\n",
      "2\n"
     ]
    }
   ],
   "source": [
    "print(prediction_resized.shape)\n",
    "print(gt_labels_resized.shape)\n",
    "print(np.unique(gt_labels_resized).shape[0])"
   ]
  },
  {
   "cell_type": "code",
   "execution_count": 8,
   "metadata": {
    "collapsed": false,
    "jupyter": {
     "outputs_hidden": false
    }
   },
   "outputs": [
    {
     "data": {
      "text/plain": [
       "<Labels layer 'connected' at 0x235263cbb50>"
      ]
     },
     "execution_count": 8,
     "metadata": {},
     "output_type": "execute_result"
    }
   ],
   "source": [
    "connected = binary_connected(prediction_resized,thres_small=2)\n",
    "viewer.add_labels(connected, name=\"connected\")"
   ]
  },
  {
   "cell_type": "code",
   "execution_count": 9,
   "metadata": {
    "collapsed": false,
    "jupyter": {
     "outputs_hidden": false
    }
   },
   "outputs": [
    {
     "name": "stdout",
     "output_type": "stream",
     "text": [
      "2023-03-22 15:48:05,891 - Mapping labels...\n"
     ]
    },
    {
     "name": "stderr",
     "output_type": "stream",
     "text": [
      "100%|████████████████████████████████████████████████████████████████████████████████████████████████████████████████████████████████████████████████████████████████████████| 100/100 [00:00<00:00, 4352.70it/s]"
     ]
    },
    {
     "name": "stdout",
     "output_type": "stream",
     "text": [
      "2023-03-22 15:48:05,919 - Calculating the number of neurons not found...\n",
      "2023-03-22 15:48:05,921 - Percent of non-fused neurons found: 0.00%\n",
      "2023-03-22 15:48:05,922 - Percent of fused neurons found: 0.00%\n",
      "2023-03-22 15:48:05,922 - Overall percent of neurons found: 0.00%\n"
     ]
    },
    {
     "name": "stderr",
     "output_type": "stream",
     "text": [
      "\n"
     ]
    },
    {
     "data": {
      "text/plain": [
       "(0, 0, 1, 12, nan, nan, nan, nan, 1.0)"
      ]
     },
     "execution_count": 9,
     "metadata": {},
     "output_type": "execute_result"
    }
   ],
   "source": [
    "eval.evaluate_model_performance(gt_labels_resized, connected)"
   ]
  },
  {
   "cell_type": "code",
   "execution_count": 10,
   "metadata": {
    "collapsed": false,
    "jupyter": {
     "outputs_hidden": false
    }
   },
   "outputs": [
    {
     "name": "stdout",
     "output_type": "stream",
     "text": [
      "2023-03-22 15:48:05,995 - Mapping labels...\n"
     ]
    },
    {
     "name": "stderr",
     "output_type": "stream",
     "text": [
      "100%|████████████████████████████████████████████████████████████████████████████████████████████████████████████████████████████████████████████████████████████████████████| 100/100 [00:00<00:00, 4354.19it/s]"
     ]
    },
    {
     "name": "stdout",
     "output_type": "stream",
     "text": [
      "2023-03-22 15:48:06,021 - Calculating the number of neurons not found...\n",
      "2023-03-22 15:48:06,023 - Percent of non-fused neurons found: 0.00%\n",
      "2023-03-22 15:48:06,023 - Percent of fused neurons found: 0.00%\n",
      "2023-03-22 15:48:06,024 - Overall percent of neurons found: 0.00%\n"
     ]
    },
    {
     "name": "stderr",
     "output_type": "stream",
     "text": [
      "\n"
     ]
    },
    {
     "data": {
      "text/plain": [
       "(0, 0, 1, 10, nan, nan, nan, nan, 1.0)"
      ]
     },
     "execution_count": 10,
     "metadata": {},
     "output_type": "execute_result"
    }
   ],
   "source": [
    "watershed = binary_watershed(\n",
    "    prediction_resized, thres_small=2, rem_seed_thres=1\n",
    ")\n",
    "viewer.add_labels(watershed)\n",
    "eval.evaluate_model_performance(gt_labels_resized, watershed)"
   ]
  },
  {
   "cell_type": "code",
   "execution_count": 11,
   "metadata": {
    "collapsed": false,
    "jupyter": {
     "outputs_hidden": false
    }
   },
   "outputs": [
    {
     "data": {
      "text/plain": [
       "(25, 64, 64)"
      ]
     },
     "execution_count": 11,
     "metadata": {},
     "output_type": "execute_result"
    }
   ],
   "source": [
    "voronoi = voronoi_otsu(prediction_resized, 1, outline_sigma=1)\n",
    "\n",
    "from skimage.morphology import remove_small_objects\n",
    "\n",
    "voronoi = remove_small_objects(voronoi, 2)\n",
    "viewer.add_labels(voronoi)\n",
    "voronoi.shape"
   ]
  },
  {
   "cell_type": "code",
   "execution_count": 12,
   "metadata": {
    "collapsed": false,
    "jupyter": {
     "outputs_hidden": false
    }
   },
   "outputs": [
    {
     "data": {
      "text/plain": [
       "dtype('int64')"
      ]
     },
     "execution_count": 12,
     "metadata": {},
     "output_type": "execute_result"
    }
   ],
   "source": [
    "gt_labels_resized.dtype"
   ]
  },
  {
   "cell_type": "code",
   "execution_count": 13,
   "metadata": {
    "collapsed": false,
    "jupyter": {
     "outputs_hidden": false
    }
   },
   "outputs": [],
   "source": [
    "# np.unique(voronoi, return_counts=True)"
   ]
  },
  {
   "cell_type": "code",
   "execution_count": 14,
   "metadata": {
    "collapsed": false,
    "jupyter": {
     "outputs_hidden": false
    }
   },
   "outputs": [],
   "source": [
    "# np.unique(gt_labels_resized, return_counts=True)"
   ]
  },
  {
   "cell_type": "code",
   "execution_count": 15,
   "metadata": {
    "collapsed": false,
    "jupyter": {
     "outputs_hidden": false
    }
   },
   "outputs": [
    {
     "name": "stdout",
     "output_type": "stream",
     "text": [
      "2023-03-22 15:48:06,360 - Mapping labels...\n"
     ]
    },
    {
     "name": "stderr",
     "output_type": "stream",
     "text": [
      "100%|████████████████████████████████████████████████████████████████████████████████████████████████████████████████████████████████████████████████████████████████████████| 116/116 [00:00<00:00, 4153.73it/s]"
     ]
    },
    {
     "name": "stdout",
     "output_type": "stream",
     "text": [
      "2023-03-22 15:48:06,392 - Calculating the number of neurons not found...\n",
      "2023-03-22 15:48:06,394 - Percent of non-fused neurons found: 0.00%\n",
      "2023-03-22 15:48:06,395 - Percent of fused neurons found: 0.00%\n",
      "2023-03-22 15:48:06,395 - Overall percent of neurons found: 0.00%\n"
     ]
    },
    {
     "name": "stderr",
     "output_type": "stream",
     "text": [
      "\n"
     ]
    },
    {
     "data": {
      "text/plain": [
       "(0, 0, 1, 17, nan, nan, nan, nan, 0.7306099091287442)"
      ]
     },
     "execution_count": 15,
     "metadata": {},
     "output_type": "execute_result"
    }
   ],
   "source": [
    "eval.evaluate_model_performance(gt_labels_resized, voronoi)"
   ]
  },
  {
   "cell_type": "code",
   "execution_count": 16,
   "metadata": {
    "collapsed": false,
    "jupyter": {
     "outputs_hidden": false
    }
   },
   "outputs": [],
   "source": [
    "# eval.evaluate_model_performance(gt_labels_resized, voronoi)"
   ]
  }
 ],
 "metadata": {
  "kernelspec": {
   "display_name": "Python 3 (ipykernel)",
   "language": "python",
   "name": "python3"
  },
  "language_info": {
   "codemirror_mode": {
    "name": "ipython",
    "version": 3
   },
   "file_extension": ".py",
   "mimetype": "text/x-python",
   "name": "python",
   "nbconvert_exporter": "python",
   "pygments_lexer": "ipython3",
   "version": "3.8.13"
  }
 },
 "nbformat": 4,
 "nbformat_minor": 4
}
