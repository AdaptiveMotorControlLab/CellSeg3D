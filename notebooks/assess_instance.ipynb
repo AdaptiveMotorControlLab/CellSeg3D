{
 "cells": [
  {
   "cell_type": "code",
   "execution_count": 1,
   "metadata": {
    "tags": []
   },
   "outputs": [],
   "source": [
    "import napari\n",
    "import numpy as np\n",
    "from pathlib import Path\n",
    "from tifffile import imread\n",
    "\n",
    "from napari_cellseg3d.dev_scripts import evaluate_labels as eval\n",
    "from napari_cellseg3d.utils import resize\n",
    "from napari_cellseg3d.code_models.model_instance_seg import (\n",
    "    binary_connected,\n",
    "    binary_watershed,\n",
    "    voronoi_otsu,\n",
    "    to_semantic,\n",
    ")"
   ]
  },
  {
   "cell_type": "code",
   "execution_count": 2,
   "metadata": {
    "tags": []
   },
   "outputs": [],
   "source": [
    "viewer = napari.Viewer()"
   ]
  },
  {
   "cell_type": "code",
   "execution_count": 3,
   "metadata": {
    "collapsed": false,
    "jupyter": {
     "outputs_hidden": false
    }
   },
   "outputs": [
    {
     "data": {
      "text/plain": [
       "<Labels layer 'gt' at 0x201a14b1a00>"
      ]
     },
     "execution_count": 3,
     "metadata": {},
     "output_type": "execute_result"
    }
   ],
   "source": [
    "im_path = Path(\"C:/Users/Cyril/Desktop/test/instance_test\")\n",
    "# prediction_path = str(im_path / \"trailmap_ms/trailmap_pred.tif\")\n",
    "prediction_path = str(im_path / \"pred.tif\")\n",
    "gt_labels_path = str(im_path / \"labels_relabel_unique.tif\")\n",
    "\n",
    "prediction = imread(prediction_path)\n",
    "gt_labels = imread(gt_labels_path)\n",
    "\n",
    "zoom = (1 / 5, 1, 1)\n",
    "prediction_resized = resize(prediction, zoom)\n",
    "# prediction_resized = prediction # for trailmap\n",
    "gt_labels_resized = resize(gt_labels, zoom)\n",
    "\n",
    "\n",
    "viewer.add_image(prediction_resized, name=\"pred\", colormap=\"inferno\")\n",
    "viewer.add_labels(gt_labels_resized, name=\"gt\")"
   ]
  },
  {
   "cell_type": "code",
   "execution_count": 4,
   "metadata": {
    "collapsed": false,
    "jupyter": {
     "outputs_hidden": false
    }
   },
   "outputs": [
    {
     "data": {
      "text/plain": [
       "0.8592223181276479"
      ]
     },
     "execution_count": 4,
     "metadata": {},
     "output_type": "execute_result"
    }
   ],
   "source": [
    "from napari_cellseg3d.utils import dice_coeff\n",
    "\n",
    "semantic_gt = to_semantic(gt_labels_resized.copy())\n",
    "semantic_pred = to_semantic(prediction_resized.copy())\n",
    "\n",
    "viewer.add_image(semantic_gt, colormap='bop blue')\n",
    "viewer.add_image(semantic_pred, colormap='red')\n",
    "\n",
    "dice_coeff(\n",
    "    semantic_gt,\n",
    "    prediction_resized\n",
    ")"
   ]
  },
  {
   "cell_type": "code",
   "execution_count": 5,
   "metadata": {
    "collapsed": false,
    "jupyter": {
     "outputs_hidden": false
    }
   },
   "outputs": [],
   "source": [
    "from napari_cellseg3d.dev_scripts.correct_labels import relabel\n",
    "\n",
    "# gt_corrected = relabel(prediction_path, gt_labels_path, go_fast=False)"
   ]
  },
  {
   "cell_type": "code",
   "execution_count": 6,
   "metadata": {
    "collapsed": false,
    "jupyter": {
     "outputs_hidden": false
    }
   },
   "outputs": [],
   "source": [
    "# eval.evaluate_model_performance(gt_labels_resized, gt_labels_resized)"
   ]
  },
  {
   "cell_type": "code",
   "execution_count": 7,
   "metadata": {
    "collapsed": false,
    "jupyter": {
     "outputs_hidden": false
    }
   },
   "outputs": [
    {
     "name": "stdout",
     "output_type": "stream",
     "text": [
      "(25, 64, 64)\n",
      "(25, 64, 64)\n",
      "125\n"
     ]
    }
   ],
   "source": [
    "print(prediction_resized.shape)\n",
    "print(gt_labels_resized.shape)\n",
    "print(np.unique(gt_labels_resized).shape[0])"
   ]
  },
  {
   "cell_type": "code",
   "execution_count": 8,
   "metadata": {
    "collapsed": false,
    "jupyter": {
     "outputs_hidden": false
    }
   },
   "outputs": [
    {
     "data": {
      "text/plain": [
       "<Labels layer 'connected' at 0x201acaf1250>"
      ]
     },
     "execution_count": 8,
     "metadata": {},
     "output_type": "execute_result"
    }
   ],
   "source": [
    "connected = binary_connected(prediction_resized, thres_small=2)\n",
    "viewer.add_labels(connected, name=\"connected\")"
   ]
  },
  {
   "cell_type": "code",
   "execution_count": 9,
   "metadata": {
    "collapsed": false,
    "jupyter": {
     "outputs_hidden": false
    }
   },
   "outputs": [
    {
     "name": "stdout",
     "output_type": "stream",
     "text": [
      "2023-03-31 15:37:19,775 - Mapping labels...\n"
     ]
    },
    {
     "name": "stderr",
     "output_type": "stream",
     "text": [
      "100%|████████████████████████████████████████████████████████████████████████████████████████████████████████████████████████████████| 100/100 [00:00<00:00, 3699.66it/s]"
     ]
    },
    {
     "name": "stdout",
     "output_type": "stream",
     "text": [
      "2023-03-31 15:37:19,812 - Calculating the number of neurons not found...\n",
      "2023-03-31 15:37:19,815 - Percent of non-fused neurons found: 52.00%\n",
      "2023-03-31 15:37:19,816 - Percent of fused neurons found: 36.80%\n",
      "2023-03-31 15:37:19,817 - Overall percent of neurons found: 88.80%\n"
     ]
    },
    {
     "name": "stderr",
     "output_type": "stream",
     "text": [
      "\n"
     ]
    },
    {
     "data": {
      "text/plain": [
       "(65,\n",
       " 46,\n",
       " 13,\n",
       " 12,\n",
       " 0.9042297461803984,\n",
       " 0.8512759824829847,\n",
       " 0.9136359067720888,\n",
       " 0.8728146835389444,\n",
       " 1.0)"
      ]
     },
     "execution_count": 9,
     "metadata": {},
     "output_type": "execute_result"
    }
   ],
   "source": [
    "eval.evaluate_model_performance(gt_labels_resized, connected)"
   ]
  },
  {
   "cell_type": "code",
   "execution_count": 10,
   "metadata": {
    "collapsed": false,
    "jupyter": {
     "outputs_hidden": false
    }
   },
   "outputs": [
    {
     "name": "stdout",
     "output_type": "stream",
     "text": [
      "2023-03-31 15:37:19,919 - Mapping labels...\n"
     ]
    },
    {
     "name": "stderr",
     "output_type": "stream",
     "text": [
      "100%|████████████████████████████████████████████████████████████████████████████████████████████████████████████████████████████████| 100/100 [00:00<00:00, 3992.79it/s]"
     ]
    },
    {
     "name": "stdout",
     "output_type": "stream",
     "text": [
      "2023-03-31 15:37:19,949 - Calculating the number of neurons not found...\n",
      "2023-03-31 15:37:19,952 - Percent of non-fused neurons found: 54.40%\n",
      "2023-03-31 15:37:19,953 - Percent of fused neurons found: 34.40%\n",
      "2023-03-31 15:37:19,953 - Overall percent of neurons found: 88.80%\n"
     ]
    },
    {
     "name": "stderr",
     "output_type": "stream",
     "text": [
      "\n"
     ]
    },
    {
     "data": {
      "text/plain": [
       "(68,\n",
       " 43,\n",
       " 13,\n",
       " 10,\n",
       " 0.8856947654346812,\n",
       " 0.8747475859219296,\n",
       " 0.9187750563205743,\n",
       " 0.862012598981557,\n",
       " 1.0)"
      ]
     },
     "execution_count": 10,
     "metadata": {},
     "output_type": "execute_result"
    }
   ],
   "source": [
    "watershed = binary_watershed(\n",
    "    prediction_resized, thres_small=2, rem_seed_thres=1\n",
    ")\n",
    "viewer.add_labels(watershed)\n",
    "eval.evaluate_model_performance(gt_labels_resized, watershed)"
   ]
  },
  {
   "cell_type": "code",
   "execution_count": 11,
   "metadata": {
    "collapsed": false,
    "jupyter": {
     "outputs_hidden": false
    }
   },
   "outputs": [
    {
     "name": "stdout",
     "output_type": "stream",
     "text": [
      "2023-03-31 15:37:21,076 - build program: kernel 'gaussian_blur_separable_3d' was part of a lengthy source build resulting from a binary cache miss (0.88 s)\n",
      "2023-03-31 15:37:21,514 - build program: kernel 'copy_3d' was part of a lengthy source build resulting from a binary cache miss (0.42 s)\n",
      "2023-03-31 15:37:22,021 - build program: kernel 'detect_maxima_3d' was part of a lengthy source build resulting from a binary cache miss (0.50 s)\n",
      "2023-03-31 15:37:22,642 - build program: kernel 'minimum_z_projection' was part of a lengthy source build resulting from a binary cache miss (0.59 s)\n",
      "2023-03-31 15:37:23,117 - build program: kernel 'minimum_y_projection' was part of a lengthy source build resulting from a binary cache miss (0.46 s)\n",
      "2023-03-31 15:37:23,651 - build program: kernel 'minimum_x_projection' was part of a lengthy source build resulting from a binary cache miss (0.52 s)\n",
      "2023-03-31 15:37:24,188 - build program: kernel 'maximum_z_projection' was part of a lengthy source build resulting from a binary cache miss (0.52 s)\n",
      "2023-03-31 15:37:24,801 - build program: kernel 'maximum_y_projection' was part of a lengthy source build resulting from a binary cache miss (0.60 s)\n",
      "2023-03-31 15:37:25,263 - build program: kernel 'maximum_x_projection' was part of a lengthy source build resulting from a binary cache miss (0.45 s)\n",
      "2023-03-31 15:37:25,766 - build program: kernel 'histogram_3d' was part of a lengthy source build resulting from a binary cache miss (0.49 s)\n",
      "2023-03-31 15:37:26,256 - build program: kernel 'sum_z_projection' was part of a lengthy source build resulting from a binary cache miss (0.48 s)\n",
      "2023-03-31 15:37:26,699 - build program: kernel 'greater_constant_3d' was part of a lengthy source build resulting from a binary cache miss (0.43 s)\n",
      "2023-03-31 15:37:27,158 - build program: kernel 'binary_and_3d' was part of a lengthy source build resulting from a binary cache miss (0.45 s)\n",
      "2023-03-31 15:37:27,635 - build program: kernel 'add_image_and_scalar_3d' was part of a lengthy source build resulting from a binary cache miss (0.47 s)\n",
      "2023-03-31 15:37:28,128 - build program: kernel 'set_nonzero_pixels_to_pixelindex' was part of a lengthy source build resulting from a binary cache miss (0.48 s)\n",
      "2023-03-31 15:37:28,580 - build program: kernel 'set_3d' was part of a lengthy source build resulting from a binary cache miss (0.45 s)\n",
      "2023-03-31 15:37:29,076 - build program: kernel 'nonzero_minimum_box_3d' was part of a lengthy source build resulting from a binary cache miss (0.49 s)\n",
      "2023-03-31 15:37:29,551 - build program: kernel 'set_2d' was part of a lengthy source build resulting from a binary cache miss (0.46 s)\n",
      "2023-03-31 15:37:30,035 - build program: kernel 'flag_existing_labels' was part of a lengthy source build resulting from a binary cache miss (0.48 s)\n",
      "2023-03-31 15:37:30,544 - build program: kernel 'set_column_2d' was part of a lengthy source build resulting from a binary cache miss (0.50 s)\n",
      "2023-03-31 15:37:31,033 - build program: kernel 'sum_reduction_x' was part of a lengthy source build resulting from a binary cache miss (0.48 s)\n",
      "2023-03-31 15:37:31,572 - build program: kernel 'block_enumerate' was part of a lengthy source build resulting from a binary cache miss (0.53 s)\n",
      "2023-03-31 15:37:32,094 - build program: kernel 'replace_intensities' was part of a lengthy source build resulting from a binary cache miss (0.51 s)\n",
      "2023-03-31 15:37:32,685 - build program: kernel 'add_images_weighted_3d' was part of a lengthy source build resulting from a binary cache miss (0.58 s)\n",
      "2023-03-31 15:37:33,256 - build program: kernel 'onlyzero_overwrite_maximum_box_3d' was part of a lengthy source build resulting from a binary cache miss (0.56 s)\n",
      "2023-03-31 15:37:33,845 - build program: kernel 'onlyzero_overwrite_maximum_diamond_3d' was part of a lengthy source build resulting from a binary cache miss (0.58 s)\n",
      "2023-03-31 15:37:34,369 - build program: kernel 'mask_3d' was part of a lengthy source build resulting from a binary cache miss (0.50 s)\n",
      "2023-03-31 15:37:34,888 - build program: kernel 'mask_3d' was part of a lengthy source build resulting from a binary cache miss (0.50 s)\n"
     ]
    },
    {
     "data": {
      "text/plain": [
       "(25, 64, 64)"
      ]
     },
     "execution_count": 11,
     "metadata": {},
     "output_type": "execute_result"
    }
   ],
   "source": [
    "voronoi = voronoi_otsu(prediction_resized, 0.6, outline_sigma=0.7)\n",
    "\n",
    "from skimage.morphology import remove_small_objects\n",
    "\n",
    "voronoi = remove_small_objects(voronoi, 2)\n",
    "viewer.add_labels(voronoi)\n",
    "voronoi.shape"
   ]
  },
  {
   "cell_type": "code",
   "execution_count": 12,
   "metadata": {
    "collapsed": false,
    "jupyter": {
     "outputs_hidden": false
    }
   },
   "outputs": [
    {
     "data": {
      "text/plain": [
       "dtype('int64')"
      ]
     },
     "execution_count": 12,
     "metadata": {},
     "output_type": "execute_result"
    }
   ],
   "source": [
    "gt_labels_resized.dtype"
   ]
  },
  {
   "cell_type": "code",
   "execution_count": 13,
   "metadata": {
    "collapsed": false,
    "jupyter": {
     "outputs_hidden": false
    }
   },
   "outputs": [],
   "source": [
    "# np.unique(voronoi, return_counts=True)"
   ]
  },
  {
   "cell_type": "code",
   "execution_count": 14,
   "metadata": {
    "collapsed": false,
    "jupyter": {
     "outputs_hidden": false
    }
   },
   "outputs": [],
   "source": [
    "# np.unique(gt_labels_resized, return_counts=True)"
   ]
  },
  {
   "cell_type": "code",
   "execution_count": 15,
   "metadata": {
    "collapsed": false,
    "jupyter": {
     "outputs_hidden": false
    }
   },
   "outputs": [
    {
     "name": "stdout",
     "output_type": "stream",
     "text": [
      "2023-03-31 15:37:36,854 - Mapping labels...\n"
     ]
    },
    {
     "name": "stderr",
     "output_type": "stream",
     "text": [
      "100%|█████████████████████████████████████████████████████████████████████████████████████████████████████████████████████████████████| 123/123 [00:00<00:00, 611.96it/s]"
     ]
    },
    {
     "name": "stdout",
     "output_type": "stream",
     "text": [
      "2023-03-31 15:37:37,087 - Calculating the number of neurons not found...\n",
      "2023-03-31 15:37:37,098 - Percent of non-fused neurons found: 87.20%\n",
      "2023-03-31 15:37:37,104 - Percent of fused neurons found: 1.60%\n",
      "2023-03-31 15:37:37,114 - Overall percent of neurons found: 88.80%\n"
     ]
    },
    {
     "name": "stderr",
     "output_type": "stream",
     "text": [
      "\n"
     ]
    },
    {
     "data": {
      "text/plain": [
       "(109,\n",
       " 2,\n",
       " 13,\n",
       " 8,\n",
       " 0.8285521200005869,\n",
       " 0.8809251900364068,\n",
       " 0.9838709677419355,\n",
       " 0.782258064516129,\n",
       " 1.0)"
      ]
     },
     "execution_count": 15,
     "metadata": {},
     "output_type": "execute_result"
    }
   ],
   "source": [
    "eval.evaluate_model_performance(gt_labels_resized, voronoi)"
   ]
  },
  {
   "cell_type": "code",
   "execution_count": 16,
   "metadata": {
    "collapsed": false,
    "jupyter": {
     "outputs_hidden": false
    }
   },
   "outputs": [
    {
     "name": "stdout",
     "output_type": "stream",
     "text": [
      "2023-03-31 15:40:34,683 - No OpenGL_accelerate module loaded: No module named 'OpenGL_accelerate'\n"
     ]
    }
   ],
   "source": [
    "# eval.evaluate_model_performance(gt_labels_resized, voronoi)"
   ]
  },
  {
   "cell_type": "code",
   "execution_count": null,
   "metadata": {},
   "outputs": [],
   "source": []
  }
 ],
 "metadata": {
  "kernelspec": {
   "display_name": "Python 3 (ipykernel)",
   "language": "python",
   "name": "python3"
  },
  "language_info": {
   "codemirror_mode": {
    "name": "ipython",
    "version": 3
   },
   "file_extension": ".py",
   "mimetype": "text/x-python",
   "name": "python",
   "nbconvert_exporter": "python",
   "pygments_lexer": "ipython3",
   "version": "3.8.16"
  }
 },
 "nbformat": 4,
 "nbformat_minor": 4
}
