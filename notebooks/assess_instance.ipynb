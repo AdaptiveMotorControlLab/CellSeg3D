{
 "cells": [
  {
   "cell_type": "code",
   "execution_count": 1,
   "metadata": {
    "tags": []
   },
   "outputs": [],
   "source": [
    "import napari\n",
    "import numpy as np\n",
    "from pathlib import Path\n",
    "from tifffile import imread\n",
    "\n",
    "from napari_cellseg3d.dev_scripts import evaluate_labels as eval\n",
    "from napari_cellseg3d.utils import resize\n",
    "from napari_cellseg3d.code_models.model_instance_seg import (\n",
    "    binary_connected,\n",
    "    binary_watershed,\n",
    "    voronoi_otsu,\n",
    ")"
   ]
  },
  {
   "cell_type": "code",
   "execution_count": 2,
   "metadata": {
    "tags": []
   },
   "outputs": [],
   "source": [
    "viewer = napari.Viewer()"
   ]
  },
  {
   "cell_type": "code",
   "execution_count": 3,
   "metadata": {
    "collapsed": false,
    "jupyter": {
     "outputs_hidden": false
    }
   },
   "outputs": [
    {
     "name": "stdout",
     "output_type": "stream",
     "text": [
      "(25, 64, 64)\n",
      "(25, 64, 64)\n"
     ]
    }
   ],
   "source": [
    "im_path = Path(\"C:/Users/Cyril/Desktop/test/instance_test\")\n",
    "prediction_path = str(im_path / \"pred.tif\")\n",
    "gt_labels_path = str(im_path / \"labels_relabel_unique.tif\")\n",
    "\n",
    "prediction = imread(prediction_path)\n",
    "gt_labels = imread(gt_labels_path)\n",
    "\n",
    "zoom = (1 / 5, 1, 1)\n",
    "prediction_resized = resize(prediction, zoom)\n",
    "gt_labels_resized = resize(gt_labels, zoom)\n",
    "\n",
    "\n",
    "viewer.add_image(prediction_resized, name=\"pred\", colormap=\"inferno\")\n",
    "viewer.add_labels(gt_labels_resized, name=\"gt\")\n",
    "print(prediction_resized.shape)\n",
    "print(gt_labels_resized.shape)"
   ]
  },
  {
   "cell_type": "code",
   "execution_count": 4,
   "metadata": {
    "collapsed": false,
    "jupyter": {
     "outputs_hidden": false
    }
   },
   "outputs": [
    {
     "data": {
      "text/plain": [
       "0.5817600487210719"
      ]
     },
     "execution_count": 4,
     "metadata": {},
     "output_type": "execute_result"
    }
   ],
   "source": [
    "from napari_cellseg3d.utils import dice_coeff\n",
    "\n",
    "dice_coeff(\n",
    "    to_semantic(gt_labels_resized.copy()),\n",
    "    to_semantic(prediction_resized.copy()),\n",
    ")"
   ]
  },
  {
   "cell_type": "code",
   "execution_count": 5,
   "metadata": {
    "collapsed": false,
    "jupyter": {
     "outputs_hidden": false
    }
   },
   "outputs": [],
   "source": [
    "from napari_cellseg3d.dev_scripts.correct_labels import relabel\n",
    "\n",
    "# gt_corrected = relabel(prediction_path, gt_labels_path, go_fast=False)"
   ]
  },
  {
   "cell_type": "code",
   "execution_count": 6,
   "metadata": {
    "collapsed": false,
    "jupyter": {
     "outputs_hidden": false
    }
   },
   "outputs": [],
   "source": [
    "# eval.evaluate_model_performance(gt_labels_resized, gt_labels_resized)"
   ]
  },
  {
   "cell_type": "code",
   "execution_count": 7,
   "metadata": {
    "collapsed": false,
    "jupyter": {
     "outputs_hidden": false
    }
   },
   "outputs": [
    {
     "name": "stdout",
     "output_type": "stream",
     "text": [
      "(25, 64, 64)\n",
      "(25, 64, 64)\n",
      "125\n"
     ]
    }
   ],
   "source": [
    "print(prediction_resized.shape)\n",
    "print(gt_labels_resized.shape)\n",
    "print(np.unique(gt_labels_resized).shape[0])"
   ]
  },
  {
   "cell_type": "code",
   "execution_count": 8,
   "metadata": {
    "collapsed": false,
    "jupyter": {
     "outputs_hidden": false
    }
   },
   "outputs": [
    {
     "data": {
      "text/plain": [
       "<Labels layer 'connected' at 0x195713d1940>"
      ]
     },
     "execution_count": 8,
     "metadata": {},
     "output_type": "execute_result"
    }
   ],
   "source": [
    "connected = binary_connected(prediction_resized, thres_small=2)\n",
    "viewer.add_labels(connected, name=\"connected\")"
   ]
  },
  {
   "cell_type": "code",
   "execution_count": 9,
   "metadata": {
    "collapsed": false,
    "jupyter": {
     "outputs_hidden": false
    }
   },
   "outputs": [
    {
     "name": "stdout",
     "output_type": "stream",
     "text": [
      "2023-03-22 14:47:30,112 - Mapping labels...\n"
     ]
    },
    {
     "name": "stderr",
     "output_type": "stream",
     "text": [
      "100%|████████████████████████████████████████████████████████████████████████████████████████████████████████████████████████████████████████████████████████████████████████| 125/125 [00:00<00:00, 3913.33it/s]"
     ]
    },
    {
     "name": "stdout",
     "output_type": "stream",
     "text": [
      "2023-03-22 14:47:30,150 - Calculating the number of neurons not found...\n"
     ]
    },
    {
     "name": "stderr",
     "output_type": "stream",
     "text": [
      "\n"
     ]
    },
    {
     "data": {
      "text/plain": [
       "(65,\n",
       " 46,\n",
       " 13,\n",
       " 12,\n",
       " 0.9042297461803984,\n",
       " 0.8512759824829847,\n",
       " 0.9136359067720888,\n",
       " 0.8728146835389444,\n",
       " 1.0)"
      ]
     },
     "execution_count": 9,
     "metadata": {},
     "output_type": "execute_result"
    }
   ],
   "source": [
    "eval.evaluate_model_performance(gt_labels_resized, connected)"
   ]
  },
  {
   "cell_type": "code",
   "execution_count": 6,
   "metadata": {
    "collapsed": false,
    "jupyter": {
     "outputs_hidden": false
    }
   },
   "outputs": [
    {
     "name": "stdout",
     "output_type": "stream",
     "text": [
      "2023-03-22 15:48:47,168 - Mapping labels...\n"
     ]
    },
    {
     "name": "stderr",
     "output_type": "stream",
     "text": [
      "100%|████████████████████████████████████████████████████████████████████████████████████████████████████████████████████████████████████████████████████████████████████████| 100/100 [00:00<00:00, 3454.21it/s]"
     ]
    },
    {
     "name": "stdout",
     "output_type": "stream",
     "text": [
      "2023-03-22 15:48:47,201 - Calculating the number of neurons not found...\n",
      "2023-03-22 15:48:47,203 - Percent of non-fused neurons found: 54.40%\n",
      "2023-03-22 15:48:47,203 - Percent of fused neurons found: 34.40%\n",
      "2023-03-22 15:48:47,204 - Overall percent of neurons found: 88.80%\n"
     ]
    },
    {
     "name": "stderr",
     "output_type": "stream",
     "text": [
      "\n"
     ]
    },
    {
     "data": {
      "text/plain": [
       "(68,\n",
       " 43,\n",
       " 13,\n",
       " 10,\n",
       " 0.8856947654346812,\n",
       " 0.8747475859219296,\n",
       " 0.9187750563205743,\n",
       " 0.862012598981557,\n",
       " 1.0)"
      ]
     },
     "execution_count": 6,
     "metadata": {},
     "output_type": "execute_result"
    }
   ],
   "source": [
    "connected = binary_connected(prediction_resized)\n",
    "viewer.add_labels(connected, name=\"connected\")\n",
    "connected.dtype"
   ]
  },
  {
   "cell_type": "code",
   "execution_count": 7,
   "metadata": {
    "collapsed": false,
    "jupyter": {
     "outputs_hidden": false
    }
   },
   "outputs": [
    {
     "name": "stdout",
     "output_type": "stream",
     "text": [
      "2023-03-22 14:47:30,231 - Mapping labels...\n"
     ]
    },
    {
     "name": "stderr",
     "output_type": "stream",
     "text": [
      "100%|██████████████████████████████████████████████████████████████████████████████████████████████████████████████████████████████████████████████████████████████████████████| 95/95 [00:00<00:00, 3069.93it/s]"
     ]
    },
    {
     "name": "stdout",
     "output_type": "stream",
     "text": [
      "2023-03-22 14:47:30,265 - Calculating the number of neurons not found...\n"
     ]
    },
    {
     "name": "stderr",
     "output_type": "stream",
     "text": [
      "\n"
     ]
    },
    {
     "data": {
      "text/plain": [
       "(45,\n",
       " 38,\n",
       " 41,\n",
       " 8,\n",
       " 0.8424215218790255,\n",
       " 0.9295584641244191,\n",
       " 0.9332428837640889,\n",
       " 0.8300682812799907,\n",
       " 1.0)"
      ]
     },
     "execution_count": 7,
     "metadata": {},
     "output_type": "execute_result"
    }
   ],
   "source": [
    "eval.evaluate_model_performance(gt_labels_resized, connected)"
   ]
  },
  {
   "cell_type": "code",
   "execution_count": 8,
   "metadata": {
    "collapsed": false,
    "jupyter": {
     "outputs_hidden": false
    }
   },
   "outputs": [
    {
     "name": "stdout",
     "output_type": "stream",
     "text": [
      "2023-03-22 14:47:30,344 - Mapping labels...\n"
     ]
    },
    {
     "name": "stderr",
     "output_type": "stream",
     "text": [
      "100%|██████████████████████████████████████████████████████████████████████████████████████████████████████████████████████████████████████████████████████████████████████████| 80/80 [00:00<00:00, 2864.94it/s]"
     ]
    },
    {
     "name": "stdout",
     "output_type": "stream",
     "text": [
      "2023-03-22 14:47:30,376 - Calculating the number of neurons not found...\n"
     ]
    },
    {
     "name": "stderr",
     "output_type": "stream",
     "text": [
      "\n"
     ]
    },
    {
     "data": {
      "text/plain": [
       "(47,\n",
       " 37,\n",
       " 40,\n",
       " 0,\n",
       " 0.8426909426266451,\n",
       " 0.9355733839977192,\n",
       " 0.9369165405470844,\n",
       " 0.8198206611354032,\n",
       " nan)"
      ]
     },
     "execution_count": 8,
     "metadata": {},
     "output_type": "execute_result"
    }
   ],
   "source": [
    "watershed = binary_watershed(\n",
    "    prediction_resized, thres_small=20, rem_seed_thres=5\n",
    ")\n",
    "viewer.add_labels(watershed)\n",
    "eval.evaluate_model_performance(gt_labels_resized, watershed)"
   ]
  },
  {
   "cell_type": "code",
   "execution_count": 9,
   "metadata": {
    "collapsed": false,
    "jupyter": {
     "outputs_hidden": false
    }
   },
   "outputs": [
    {
     "data": {
      "text/plain": [
       "(25, 64, 64)"
      ]
     },
     "execution_count": 9,
     "metadata": {},
     "output_type": "execute_result"
    }
   ],
   "source": [
    "voronoi = voronoi_otsu(prediction_resized, 1, outline_sigma=0.5)\n",
    "\n",
    "from skimage.morphology import remove_small_objects\n",
    "\n",
    "voronoi = remove_small_objects(voronoi, 10)\n",
    "viewer.add_labels(voronoi)\n",
    "voronoi.shape"
   ]
  },
  {
   "cell_type": "code",
   "execution_count": 10,
   "metadata": {
    "collapsed": false,
    "jupyter": {
     "outputs_hidden": false
    }
   },
   "outputs": [
    {
     "data": {
      "text/plain": [
       "dtype('int64')"
      ]
     },
     "execution_count": 10,
     "metadata": {},
     "output_type": "execute_result"
    }
   ],
   "source": [
    "gt_labels_resized.dtype"
   ]
  },
  {
   "cell_type": "code",
   "execution_count": 11,
   "metadata": {
    "collapsed": false,
    "jupyter": {
     "outputs_hidden": false
    }
   },
   "outputs": [
    {
     "data": {
      "text/plain": [
       "(array([  0,   2,   3,   7,  10,  11,  12,  14,  15,  16,  17,  18,  19,\n",
       "         20,  21,  22,  23,  24,  25,  26,  27,  28,  29,  30,  31,  32,\n",
       "         33,  34,  37,  38,  39,  40,  42,  43,  44,  45,  46,  47,  48,\n",
       "         49,  50,  51,  52,  53,  54,  55,  56,  57,  58,  59,  60,  61,\n",
       "         63,  64,  65,  67,  68,  69,  70,  71,  72,  73,  74,  75,  76,\n",
       "         77,  79,  80,  81,  82,  83,  85,  86,  87,  88,  89,  90,  92,\n",
       "         94,  95,  96,  97,  98,  99, 101, 102, 103, 104, 105, 106, 107,\n",
       "        108, 109, 111, 112, 113, 114, 115, 116, 117, 118, 119, 120, 121,\n",
       "        122], dtype=uint32),\n",
       " array([97911,    46,    18,    10,    47,    57,    44,    54,    22,\n",
       "           94,    36,    42,    51,    41,    35,    42,    46,    47,\n",
       "           52,    31,    12,    45,    68,   106,    69,    56,    32,\n",
       "           69,    46,    75,    78,    41,    42,    42,    50,    50,\n",
       "           48,    50,    44,    49,    50,    54,    58,    43,    41,\n",
       "           39,    49,    15,    33,    25,    44,    52,    32,    81,\n",
       "           29,    46,    42,    46,    34,    30,    34,    36,    57,\n",
       "           21,    26,    51,    40,    49,    34,    46,    45,    13,\n",
       "           28,    37,    44,    31,    46,    47,    42,    40,    42,\n",
       "           47,   116,    44,    32,    33,    28,    27,    41,    35,\n",
       "           37,    41,    38,    33,    50,    25,    33,    80,    19,\n",
       "           28,    36,    28,    14,    31,    54], dtype=int64))"
      ]
     },
     "execution_count": 11,
     "metadata": {},
     "output_type": "execute_result"
    }
   ],
   "source": [
    "np.unique(voronoi, return_counts=True)"
   ]
  },
  {
   "cell_type": "code",
   "execution_count": 12,
   "metadata": {
    "collapsed": false,
    "jupyter": {
     "outputs_hidden": false
    }
   },
   "outputs": [
    {
     "data": {
      "text/plain": [
       "(array([  0,   1,   2,   3,   4,   5,   6,   7,   8,   9,  10,  11,  12,\n",
       "         13,  14,  15,  16,  17,  18,  19,  20,  21,  22,  23,  24,  25,\n",
       "         26,  27,  28,  29,  30,  31,  32,  33,  34,  35,  36,  37,  38,\n",
       "         39,  40,  41,  42,  43,  44,  45,  46,  47,  48,  49,  50,  51,\n",
       "         52,  53,  54,  55,  56,  57,  58,  59,  60,  61,  62,  63,  64,\n",
       "         65,  66,  67,  68,  69,  70,  71,  72,  73,  74,  75,  76,  77,\n",
       "         78,  79,  80,  81,  82,  83,  84,  85,  86,  87,  88,  89,  90,\n",
       "         91,  93,  94,  95,  96,  97,  98,  99, 100, 101, 102, 103, 104,\n",
       "        105, 106, 107, 108, 109, 110, 111, 112, 113, 114, 115, 116, 117,\n",
       "        118, 119, 120, 121, 122, 123, 124, 125], dtype=int64),\n",
       " array([97748,     4,     4,     4,    91,     4,    29,    54,    25,\n",
       "           59,    26,    18,     4,    37,    39,    21,     4,    38,\n",
       "           33,    47,    67,    31,    16,     4,    61,    92,    50,\n",
       "           43,    29,    26,    38,    22,    39,    28,    32,    43,\n",
       "           32,    60,    48,    16,    36,    77,    64,    41,    41,\n",
       "           54,    29,    22,    46,    47,    26,    17,    31,    76,\n",
       "           28,    58,    40,    57,    35,    19,    41,    47,    48,\n",
       "           60,    44,    46,    33,    46,    53,    54,    71,     8,\n",
       "           26,    45,    20,    55,    26,    43,    62,    55,    54,\n",
       "           43,    51,    33,    43,    45,    36,    22,    22,    52,\n",
       "           24,    44,    36,    60,    42,    31,    59,     8,    34,\n",
       "           43,    57,    54,    46,    69,    42,    47,    25,    18,\n",
       "           41,    41,    56,     4,    48,     4,    66,    14,    25,\n",
       "           33,    25,     7,     5,     7,    19,    32,    40],\n",
       "       dtype=int64))"
      ]
     },
     "execution_count": 12,
     "metadata": {},
     "output_type": "execute_result"
    }
   ],
   "source": [
    "np.unique(gt_labels_resized, return_counts=True)"
   ]
  },
  {
   "cell_type": "code",
   "execution_count": 13,
   "metadata": {
    "collapsed": false,
    "jupyter": {
     "outputs_hidden": false
    }
   },
   "outputs": [
    {
     "name": "stdout",
     "output_type": "stream",
     "text": [
      "2023-03-22 14:47:30,755 - Mapping labels...\n"
     ]
    },
    {
     "name": "stderr",
     "output_type": "stream",
     "text": [
      "100%|████████████████████████████████████████████████████████████████████████████████████████████████████████████████████████████████████████████████████████████████████████| 105/105 [00:00<00:00, 3290.07it/s]"
     ]
    },
    {
     "name": "stdout",
     "output_type": "stream",
     "text": [
      "2023-03-22 14:47:30,792 - Calculating the number of neurons not found...\n"
     ]
    },
    {
     "name": "stderr",
     "output_type": "stream",
     "text": [
      "\n"
     ]
    },
    {
     "data": {
      "text/plain": [
       "(72,\n",
       " 8,\n",
       " 44,\n",
       " 1,\n",
       " 0.8348479609766444,\n",
       " 0.9314226186350036,\n",
       " 0.9483750072126669,\n",
       " 0.8528417100412058,\n",
       " 1.0)"
      ]
     },
     "execution_count": 13,
     "metadata": {},
     "output_type": "execute_result"
    }
   ],
   "source": [
    "eval.evaluate_model_performance(gt_labels_resized, voronoi)"
   ]
  },
  {
   "cell_type": "code",
   "execution_count": 14,
   "metadata": {
    "collapsed": false,
    "jupyter": {
     "outputs_hidden": false
    }
   },
   "outputs": [],
   "source": [
    "# eval.evaluate_model_performance(gt_labels_resized, voronoi)"
   ]
  }
 ],
 "metadata": {
  "kernelspec": {
   "display_name": "Python 3 (ipykernel)",
   "language": "python",
   "name": "python3"
  },
  "language_info": {
   "codemirror_mode": {
    "name": "ipython",
    "version": 3
   },
   "file_extension": ".py",
   "mimetype": "text/x-python",
   "name": "python",
   "nbconvert_exporter": "python",
   "pygments_lexer": "ipython3",
   "version": "3.8.13"
  }
 },
 "nbformat": 4,
 "nbformat_minor": 4
}
