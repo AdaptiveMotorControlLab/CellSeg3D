{
 "cells": [
  {
   "cell_type": "code",
   "execution_count": 1,
   "metadata": {
    "pycharm": {
     "is_executing": true
    },
    "tags": []
   },
   "outputs": [],
   "source": [
    "import napari\n",
    "import numpy as np\n",
    "from pathlib import Path\n",
    "from tifffile import imread\n",
    "\n",
    "from napari_cellseg3d.dev_scripts import evaluate_labels as eval\n",
    "from napari_cellseg3d.utils import resize\n",
    "from napari_cellseg3d.code_models.model_instance_seg import binary_connected, binary_watershed, voronoi_otsu"
   ]
  },
  {
   "cell_type": "code",
   "execution_count": 2,
   "metadata": {
    "pycharm": {
     "is_executing": true
    },
    "tags": []
   },
   "outputs": [],
   "source": [
    "viewer = napari.Viewer()"
   ]
  },
  {
   "cell_type": "code",
   "execution_count": 3,
   "metadata": {
    "collapsed": false,
    "jupyter": {
     "outputs_hidden": false
    }
   },
   "outputs": [
    {
     "name": "stderr",
     "output_type": "stream",
     "text": [
      "In the future `np.bool` will be defined as the corresponding NumPy scalar.\n",
      "In the future `np.bool` will be defined as the corresponding NumPy scalar.\n",
      "In the future `np.bool` will be defined as the corresponding NumPy scalar.\n",
      "In the future `np.bool` will be defined as the corresponding NumPy scalar.\n"
     ]
    },
    {
     "name": "stdout",
     "output_type": "stream",
     "text": [
      "(25, 64, 64)\n",
      "(25, 64, 64)\n"
     ]
    }
   ],
   "source": [
    "im_path = Path(\"C:/Users/Cyril/Desktop/test/instance_test\")\n",
    "prediction_path = str(im_path / \"pred.tif\")\n",
    "gt_labels_path = str(im_path / \"labels_relabel_unique.tif\")\n",
    "\n",
    "prediction = imread(prediction_path)\n",
    "gt_labels = imread(gt_labels_path)\n",
    "\n",
    "zoom = (1/5,1,1)\n",
    "prediction_resized = resize(prediction, zoom)\n",
    "gt_labels_resized = resize(gt_labels, zoom)\n",
    "\n",
    "\n",
    "viewer.add_image(prediction_resized, name='pred', colormap='inferno')\n",
    "viewer.add_labels(gt_labels_resized, name='gt')\n",
    "print(prediction_resized.shape)\n",
    "print(gt_labels_resized.shape)"
   ]
  },
  {
   "cell_type": "code",
   "execution_count": 4,
   "metadata": {
    "collapsed": false,
    "jupyter": {
     "outputs_hidden": false
    },
    "pycharm": {
     "is_executing": true
    }
   },
   "outputs": [],
   "source": [
    "from napari_cellseg3d.dev_scripts.correct_labels import relabel\n",
    "# gt_corrected = relabel(prediction_path, gt_labels_path, go_fast=False)"
   ]
  },
  {
   "cell_type": "code",
   "execution_count": 5,
   "metadata": {
    "collapsed": false,
    "jupyter": {
     "outputs_hidden": false
    }
   },
   "outputs": [
    {
     "name": "stdout",
     "output_type": "stream",
     "text": [
      "Mapping labels...\n"
     ]
    },
    {
     "name": "stderr",
     "output_type": "stream",
     "text": [
      "100%|██████████████████████████████████████████████████████████████████████████████| 125/125 [00:00<00:00, 2953.37it/s]"
     ]
    },
    {
     "name": "stdout",
     "output_type": "stream",
     "text": [
      "i: 1\n",
      "unique: 1\n",
      "i: 2\n",
      "unique: 2\n",
      "i: 3\n",
      "unique: 3\n",
      "i: 4\n",
      "unique: 4\n",
      "i: 5\n",
      "unique: 5\n",
      "i: 6\n",
      "unique: 6\n",
      "i: 7\n",
      "unique: 7\n",
      "i: 8\n",
      "unique: 8\n",
      "i: 9\n",
      "unique: 9\n",
      "i: 10\n",
      "unique: 10\n",
      "i: 11\n",
      "unique: 11\n",
      "i: 12\n",
      "unique: 12\n",
      "i: 13\n",
      "unique: 13\n",
      "i: 14\n",
      "unique: 14\n",
      "i: 15\n",
      "unique: 15\n",
      "i: 16\n",
      "unique: 16\n",
      "i: 17\n",
      "unique: 17\n",
      "i: 18\n",
      "unique: 18\n",
      "i: 19\n",
      "unique: 19\n",
      "i: 20\n",
      "unique: 20\n",
      "i: 21\n",
      "unique: 21\n",
      "i: 22\n",
      "unique: 22\n",
      "i: 23\n",
      "unique: 23\n",
      "i: 24\n",
      "unique: 24\n",
      "i: 25\n",
      "unique: 25\n",
      "i: 26\n",
      "unique: 26\n",
      "i: 27\n",
      "unique: 27\n",
      "i: 28\n",
      "unique: 28\n",
      "i: 29\n",
      "unique: 29\n",
      "i: 30\n",
      "unique: 30\n",
      "i: 31\n",
      "unique: 31\n",
      "i: 32\n",
      "unique: 32\n",
      "i: 33\n",
      "unique: 33\n",
      "i: 34\n",
      "unique: 34\n",
      "i: 35\n",
      "unique: 35\n",
      "i: 36\n",
      "unique: 36\n",
      "i: 37\n",
      "unique: 37\n",
      "i: 38\n",
      "unique: 38\n",
      "i: 39\n",
      "unique: 39\n",
      "i: 40\n",
      "unique: 40\n",
      "i: 41\n",
      "unique: 41\n",
      "i: 42\n",
      "unique: 42\n",
      "i: 43\n",
      "unique: 43\n",
      "i: 44\n",
      "unique: 44\n",
      "i: 45\n",
      "unique: 45\n",
      "i: 46\n",
      "unique: 46\n",
      "i: 47\n",
      "unique: 47\n",
      "i: 48\n",
      "unique: 48\n",
      "i: 49\n",
      "unique: 49\n",
      "i: 50\n",
      "unique: 50\n",
      "i: 51\n",
      "unique: 51\n",
      "i: 52\n",
      "unique: 52\n",
      "i: 53\n",
      "unique: 53\n",
      "i: 54\n",
      "unique: 54\n",
      "i: 55\n",
      "unique: 55\n",
      "i: 56\n",
      "unique: 56\n",
      "i: 57\n",
      "unique: 57\n",
      "i: 58\n",
      "unique: 58\n",
      "i: 59\n",
      "unique: 59\n",
      "i: 60\n",
      "unique: 60\n",
      "i: 61\n",
      "unique: 61\n",
      "i: 62\n",
      "unique: 62\n",
      "i: 63\n",
      "unique: 63\n",
      "i: 64\n",
      "unique: 64\n",
      "i: 65\n",
      "unique: 65\n",
      "i: 66\n",
      "unique: 66\n",
      "i: 67\n",
      "unique: 67\n",
      "i: 68\n",
      "unique: 68\n",
      "i: 69\n",
      "unique: 69\n",
      "i: 70\n",
      "unique: 70\n",
      "i: 71\n",
      "unique: 71\n",
      "i: 72\n",
      "unique: 72\n",
      "i: 73\n",
      "unique: 73\n",
      "i: 74\n",
      "unique: 74\n",
      "i: 75\n",
      "unique: 75\n",
      "i: 76\n",
      "unique: 76\n",
      "i: 77\n",
      "unique: 77\n",
      "i: 78\n",
      "unique: 78\n",
      "i: 79\n",
      "unique: 79\n",
      "i: 80\n",
      "unique: 80\n",
      "i: 81\n",
      "unique: 81\n",
      "i: 82\n",
      "unique: 82\n",
      "i: 83\n",
      "unique: 83\n",
      "i: 84\n",
      "unique: 84\n",
      "i: 85\n",
      "unique: 85\n",
      "i: 86\n",
      "unique: 86\n",
      "i: 87\n",
      "unique: 87\n",
      "i: 88\n",
      "unique: 88\n",
      "i: 89\n",
      "unique: 89\n",
      "i: 90\n",
      "unique: 90\n",
      "i: 91\n",
      "unique: 91\n",
      "i: 93\n",
      "unique: 93\n",
      "i: 94\n",
      "unique: 94\n",
      "i: 95\n",
      "unique: 95\n",
      "i: 96\n",
      "unique: 96\n",
      "i: 97\n",
      "unique: 97\n",
      "i: 98\n",
      "unique: 98\n",
      "i: 99\n",
      "unique: 99\n",
      "i: 100\n",
      "unique: 100\n",
      "i: 101\n",
      "unique: 101\n",
      "i: 102\n",
      "unique: 102\n",
      "i: 103\n",
      "unique: 103\n",
      "i: 104\n",
      "unique: 104\n",
      "i: 105\n",
      "unique: 105\n",
      "i: 106\n",
      "unique: 106\n",
      "i: 107\n",
      "unique: 107\n",
      "i: 108\n",
      "unique: 108\n",
      "i: 109\n",
      "unique: 109\n",
      "i: 110\n",
      "unique: 110\n",
      "i: 111\n",
      "unique: 111\n",
      "i: 112\n",
      "unique: 112\n",
      "i: 113\n",
      "unique: 113\n",
      "i: 114\n",
      "unique: 114\n",
      "i: 115\n",
      "unique: 115\n",
      "i: 116\n",
      "unique: 116\n",
      "i: 117\n",
      "unique: 117\n",
      "i: 118\n",
      "unique: 118\n",
      "i: 119\n",
      "unique: 119\n",
      "i: 120\n",
      "unique: 120\n",
      "i: 121\n",
      "unique: 121\n",
      "i: 122\n",
      "unique: 122\n",
      "i: 123\n",
      "unique: 123\n",
      "i: 124\n",
      "unique: 124\n",
      "i: 125\n",
      "unique: 125\n",
      "map_fused_neurons: []\n",
      "Calculating the number of neurons not found...\n",
      "Neurons found:  124\n",
      "Neurons fused:  0\n",
      "Neurons not found:  0\n",
      "Artefacts found:  0\n",
      "Mean true positive ratio of the model:  1.0\n",
      "Mean ratio of the neurons pixels correctly labelled:  1.0\n",
      "Mean ratio of the neurons pixels correctly labelled for fused neurons:  nan\n",
      "Mean true positive ratio of the model for fused neurons:  nan\n",
      "Mean ratio of false pixel in artefacts:  nan\n"
     ]
    },
    {
     "name": "stderr",
     "output_type": "stream",
     "text": [
      "\n"
     ]
    },
    {
     "data": {
      "text/plain": [
       "(124, 0, 0, 0, 1.0, 1.0, nan, nan, nan)"
      ]
     },
     "execution_count": 5,
     "metadata": {},
     "output_type": "execute_result"
    }
   ],
   "source": [
    "eval.evaluate_model_performance(gt_labels_resized, gt_labels_resized)"
   ]
  },
  {
   "cell_type": "code",
   "execution_count": 10,
   "metadata": {
    "collapsed": false,
    "jupyter": {
     "outputs_hidden": false
    }
   },
   "outputs": [
    {
     "data": {
      "text/plain": [
       "dtype('int32')"
      ]
     },
     "execution_count": 10,
     "metadata": {},
     "output_type": "execute_result"
    }
   ],
   "source": [
    "connected = binary_connected(prediction_resized)\n",
    "viewer.add_labels(connected,name='connected')\n",
    "connected.dtype"
   ]
  },
  {
   "cell_type": "code",
   "execution_count": null,
   "metadata": {
    "collapsed": false,
    "jupyter": {
     "outputs_hidden": false
    }
   },
   "outputs": [],
   "source": [
    "eval.evaluate_model_performance(gt_labels_resized, connected)"
   ]
  },
  {
   "cell_type": "code",
   "execution_count": null,
   "metadata": {
    "collapsed": false,
    "jupyter": {
     "outputs_hidden": false
    }
   },
   "outputs": [],
   "source": [
    "watershed = binary_watershed(prediction_resized, thres_small=20, rem_seed_thres=5)\n",
    "viewer.add_labels(watershed)\n",
    "eval.evaluate_model_performance(gt_labels_resized, watershed)"
   ]
  },
  {
   "cell_type": "code",
   "execution_count": 6,
   "metadata": {
    "collapsed": false,
    "jupyter": {
     "outputs_hidden": false
    }
   },
   "outputs": [],
   "source": [
    "voronoi = voronoi_otsu(prediction_resized, 1, outline_sigma=0.5)\n",
    "viewer.add_labels(voronoi)\n",
    "voronoi.shape"
   ]
  },
  {
   "cell_type": "code",
   "execution_count": 9,
   "metadata": {
    "collapsed": false,
    "jupyter": {
     "outputs_hidden": false
    }
   },
   "outputs": [
    {
     "data": {
      "text/plain": [
       "dtype('int64')"
      ]
     },
     "execution_count": 9,
     "metadata": {},
     "output_type": "execute_result"
    }
   ],
   "source": [
    "gt_labels_resized.dtype"
   ]
  },
  {
   "cell_type": "code",
   "execution_count": null,
   "metadata": {
    "collapsed": false,
    "jupyter": {
     "outputs_hidden": false
    },
    "pycharm": {
     "is_executing": true
    }
   },
   "outputs": [],
   "source": [
    "# np.unique(voronoi, return_counts=True)"
   ]
  },
  {
   "cell_type": "code",
   "execution_count": null,
   "metadata": {
    "collapsed": false,
    "jupyter": {
     "outputs_hidden": false
    }
   },
   "outputs": [],
   "source": [
    "# np.unique(gt_labels, return_counts=True)"
   ]
  },
  {
   "cell_type": "code",
   "execution_count": null,
   "metadata": {
    "collapsed": false,
    "jupyter": {
     "outputs_hidden": false
    }
   },
   "outputs": [],
   "source": [
    "eval.evaluate_model_performance(gt_labels_resized, voronoi)"
   ]
  },
  {
   "cell_type": "code",
   "execution_count": null,
   "metadata": {
    "collapsed": false,
    "jupyter": {
     "outputs_hidden": false
    },
    "pycharm": {
     "is_executing": true
    }
   },
   "outputs": [],
   "source": [
    "# eval.evaluate_model_performance(gt_labels_resized, voronoi)"
   ]
  }
 ],
 "metadata": {
  "kernelspec": {
   "display_name": "Python 3 (ipykernel)",
   "language": "python",
   "name": "python3"
  },
  "language_info": {
   "codemirror_mode": {
    "name": "ipython",
    "version": 3
   },
   "file_extension": ".py",
   "mimetype": "text/x-python",
   "name": "python",
   "nbconvert_exporter": "python",
   "pygments_lexer": "ipython3",
   "version": "3.8.13"
  }
 },
 "nbformat": 4,
 "nbformat_minor": 4
}
