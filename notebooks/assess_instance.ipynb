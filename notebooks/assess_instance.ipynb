{
 "cells": [
  {
   "cell_type": "code",
   "execution_count": 1,
   "metadata": {
    "pycharm": {
     "is_executing": true
    },
    "tags": []
   },
   "outputs": [],
   "source": [
    "import napari\n",
    "import numpy as np\n",
    "from pathlib import Path\n",
    "from tifffile import imread\n",
    "\n",
    "from napari_cellseg3d.dev_scripts import evaluate_labels as eval\n",
    "from napari_cellseg3d.utils import resize\n",
    "from napari_cellseg3d.code_models.model_instance_seg import binary_connected, binary_watershed, voronoi_otsu"
   ]
  },
  {
   "cell_type": "code",
   "execution_count": 2,
   "metadata": {
    "pycharm": {
     "is_executing": true
    },
    "tags": []
   },
   "outputs": [],
   "source": [
    "viewer = napari.Viewer()"
   ]
  },
  {
   "cell_type": "code",
   "execution_count": 3,
   "metadata": {
    "collapsed": false,
    "jupyter": {
     "outputs_hidden": false
    }
   },
   "outputs": [
    {
     "name": "stderr",
     "output_type": "stream",
     "text": [
      "In the future `np.bool` will be defined as the corresponding NumPy scalar.\n",
      "In the future `np.bool` will be defined as the corresponding NumPy scalar.\n",
      "In the future `np.bool` will be defined as the corresponding NumPy scalar.\n",
      "In the future `np.bool` will be defined as the corresponding NumPy scalar.\n"
     ]
    },
    {
     "name": "stdout",
     "output_type": "stream",
     "text": [
      "(25, 64, 64)\n",
      "(25, 64, 64)\n"
     ]
    }
   ],
   "source": [
    "im_path = Path(\"C:/Users/Cyril/Desktop/test/instance_test\")\n",
    "prediction_path = str(im_path / \"pred.tif\")\n",
    "gt_labels_path = str(im_path / \"labels_relabel_unique.tif\")\n",
    "\n",
    "prediction = imread(prediction_path)\n",
    "gt_labels = imread(gt_labels_path)\n",
    "\n",
    "zoom = (1/5,1,1)\n",
    "prediction_resized = resize(prediction, zoom)\n",
    "gt_labels_resized = resize(gt_labels, zoom)\n",
    "\n",
    "\n",
    "viewer.add_image(prediction_resized, name='pred', colormap='inferno')\n",
    "viewer.add_labels(gt_labels_resized, name='gt')\n",
    "print(prediction_resized.shape)\n",
    "print(gt_labels_resized.shape)"
   ]
  },
  {
   "cell_type": "code",
   "execution_count": 4,
   "metadata": {
    "collapsed": false,
    "jupyter": {
     "outputs_hidden": false
    },
    "pycharm": {
     "is_executing": true
    }
   },
   "outputs": [],
   "source": [
    "from napari_cellseg3d.dev_scripts.correct_labels import relabel\n",
    "# gt_corrected = relabel(prediction_path, gt_labels_path, go_fast=False)"
   ]
  },
  {
   "cell_type": "code",
   "execution_count": 5,
   "metadata": {
    "collapsed": false,
    "jupyter": {
     "outputs_hidden": false
    }
   },
   "outputs": [
    {
     "name": "stderr",
     "output_type": "stream",
     "text": [
      "100%|██████████████████████████████████████████████████████████████████████████████| 125/125 [00:00<00:00, 2926.92it/s]"
     ]
    },
    {
     "name": "stdout",
     "output_type": "stream",
     "text": [
      "Neurons found:  124\n",
      "Neurons fused:  0\n",
      "Neurons not found:  0\n",
      "Artefacts found:  0\n",
      "Mean true positive ratio of the model:  1.0\n",
      "Mean ratio of the neurons pixels correctly labelled:  1.0\n",
      "Mean ratio of the neurons pixels correctly labelled for fused neurons:  nan\n",
      "Mean true positive ratio of the model for fused neurons:  nan\n",
      "Mean ratio of false pixel in artefacts:  nan\n"
     ]
    },
    {
     "name": "stderr",
     "output_type": "stream",
     "text": [
      "\n"
     ]
    },
    {
     "data": {
      "text/plain": [
       "(124, 0, 0, 0, 1.0, 1.0, nan, nan, nan)"
      ]
     },
     "execution_count": 5,
     "metadata": {},
     "output_type": "execute_result"
    }
   ],
   "source": [
    "eval.evaluate_model_performance(gt_labels_resized, gt_labels_resized)"
   ]
  },
  {
   "cell_type": "code",
   "execution_count": 6,
   "metadata": {
    "collapsed": false,
    "jupyter": {
     "outputs_hidden": false
    }
   },
   "outputs": [
    {
     "data": {
      "text/plain": [
       "<Labels layer 'connected' at 0x2368a056d30>"
      ]
     },
     "execution_count": 6,
     "metadata": {},
     "output_type": "execute_result"
    }
   ],
   "source": [
    "connected = binary_connected(prediction_resized)\n",
    "viewer.add_labels(connected,name='connected')"
   ]
  },
  {
   "cell_type": "code",
   "execution_count": 7,
   "metadata": {
    "collapsed": false,
    "jupyter": {
     "outputs_hidden": false
    }
   },
   "outputs": [
    {
     "name": "stderr",
     "output_type": "stream",
     "text": [
      "100%|████████████████████████████████████████████████████████████████████████████████| 95/95 [00:00<00:00, 1912.60it/s]"
     ]
    },
    {
     "name": "stdout",
     "output_type": "stream",
     "text": [
      "Neurons found:  45\n",
      "Neurons fused:  38\n",
      "Neurons not found:  41\n",
      "Artefacts found:  8\n",
      "Mean true positive ratio of the model:  0.8424215218790255\n",
      "Mean ratio of the neurons pixels correctly labelled:  0.9295584641244191\n",
      "Mean ratio of the neurons pixels correctly labelled for fused neurons:  0.9332428837640889\n",
      "Mean true positive ratio of the model for fused neurons:  0.8300682812799907\n",
      "Mean ratio of false pixel in artefacts:  1.0\n"
     ]
    },
    {
     "name": "stderr",
     "output_type": "stream",
     "text": [
      "\n"
     ]
    },
    {
     "data": {
      "text/plain": [
       "(45,\n",
       " 38,\n",
       " 41,\n",
       " 8,\n",
       " 0.8424215218790255,\n",
       " 0.9295584641244191,\n",
       " 0.9332428837640889,\n",
       " 0.8300682812799907,\n",
       " 1.0)"
      ]
     },
     "execution_count": 7,
     "metadata": {},
     "output_type": "execute_result"
    }
   ],
   "source": [
    "eval.evaluate_model_performance(gt_labels_resized, connected)"
   ]
  },
  {
   "cell_type": "code",
   "execution_count": 8,
   "metadata": {
    "collapsed": false,
    "jupyter": {
     "outputs_hidden": false
    }
   },
   "outputs": [
    {
     "name": "stderr",
     "output_type": "stream",
     "text": [
      "100%|████████████████████████████████████████████████████████████████████████████████| 80/80 [00:00<00:00, 2290.34it/s]"
     ]
    },
    {
     "name": "stdout",
     "output_type": "stream",
     "text": [
      "Neurons found:  47\n",
      "Neurons fused:  37\n",
      "Neurons not found:  40\n",
      "Artefacts found:  0\n",
      "Mean true positive ratio of the model:  0.8426909426266451\n",
      "Mean ratio of the neurons pixels correctly labelled:  0.9355733839977192\n",
      "Mean ratio of the neurons pixels correctly labelled for fused neurons:  0.9369165405470844\n",
      "Mean true positive ratio of the model for fused neurons:  0.8198206611354032\n",
      "Mean ratio of false pixel in artefacts:  nan\n"
     ]
    },
    {
     "name": "stderr",
     "output_type": "stream",
     "text": [
      "\n"
     ]
    },
    {
     "data": {
      "text/plain": [
       "(47,\n",
       " 37,\n",
       " 40,\n",
       " 0,\n",
       " 0.8426909426266451,\n",
       " 0.9355733839977192,\n",
       " 0.9369165405470844,\n",
       " 0.8198206611354032,\n",
       " nan)"
      ]
     },
     "execution_count": 8,
     "metadata": {},
     "output_type": "execute_result"
    }
   ],
   "source": [
    "watershed = binary_watershed(prediction_resized, thres_small=20, rem_seed_thres=5)\n",
    "viewer.add_labels(watershed)\n",
    "eval.evaluate_model_performance(gt_labels_resized, watershed)"
   ]
  },
  {
   "cell_type": "code",
   "execution_count": 9,
   "metadata": {
    "collapsed": false,
    "jupyter": {
     "outputs_hidden": false
    }
   },
   "outputs": [
    {
     "data": {
      "text/plain": [
       "(25, 64, 64)"
      ]
     },
     "execution_count": 9,
     "metadata": {},
     "output_type": "execute_result"
    }
   ],
   "source": [
    "voronoi = voronoi_otsu(prediction_resized, 1, outline_sigma=0.5)\n",
    "viewer.add_labels(voronoi)\n",
    "voronoi.shape"
   ]
  },
  {
   "cell_type": "code",
   "execution_count": 10,
   "metadata": {
    "collapsed": false,
    "jupyter": {
     "outputs_hidden": false
    },
    "pycharm": {
     "is_executing": true
    }
   },
   "outputs": [],
   "source": [
    "# np.unique(voronoi, return_counts=True)"
   ]
  },
  {
   "cell_type": "code",
   "execution_count": 11,
   "metadata": {
    "collapsed": false,
    "jupyter": {
     "outputs_hidden": false
    }
   },
   "outputs": [],
   "source": [
    "# np.unique(gt_labels, return_counts=True)"
   ]
  },
  {
   "cell_type": "code",
   "execution_count": null,
   "metadata": {
    "collapsed": false,
    "jupyter": {
     "outputs_hidden": false
    }
   },
   "outputs": [
    {
     "name": "stderr",
     "output_type": "stream",
     "text": [
      " 28%|██████████████████████▍                                                          | 34/123 [07:33<22:45, 15.34s/it]"
     ]
    }
   ],
   "source": [
    "eval.evaluate_model_performance(gt_labels_resized, voronoi)"
   ]
  },
  {
   "cell_type": "code",
   "execution_count": null,
   "metadata": {
    "collapsed": false,
    "jupyter": {
     "outputs_hidden": false
    },
    "pycharm": {
     "is_executing": true
    }
   },
   "outputs": [],
   "source": [
    "# eval.evaluate_model_performance(gt_labels_resized, voronoi)"
   ]
  }
 ],
 "metadata": {
  "kernelspec": {
   "display_name": "Python 3 (ipykernel)",
   "language": "python",
   "name": "python3"
  },
  "language_info": {
   "codemirror_mode": {
    "name": "ipython",
    "version": 3
   },
   "file_extension": ".py",
   "mimetype": "text/x-python",
   "name": "python",
   "nbconvert_exporter": "python",
   "pygments_lexer": "ipython3",
   "version": "3.8.13"
  }
 },
 "nbformat": 4,
 "nbformat_minor": 4
}
