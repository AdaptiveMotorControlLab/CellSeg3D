{
 "cells": [
  {
   "cell_type": "code",
   "execution_count": 7,
   "metadata": {
    "collapsed": true,
    "ExecuteTime": {
     "end_time": "2023-07-10T08:00:14.017741900Z",
     "start_time": "2023-07-10T08:00:14.007742500Z"
    }
   },
   "outputs": [],
   "source": [
    "from napari_cellseg3d.code_models.models.wnet.train_wnet import Config, train\n",
    "from napari_cellseg3d.config import PRETRAINED_WEIGHTS_DIR\n",
    "from pathlib import Path"
   ]
  },
  {
   "cell_type": "code",
   "execution_count": 8,
   "outputs": [],
   "source": [
    "config = Config()"
   ],
   "metadata": {
    "collapsed": false,
    "ExecuteTime": {
     "end_time": "2023-07-10T08:00:14.382675700Z",
     "start_time": "2023-07-10T08:00:14.354604Z"
    }
   }
  },
  {
   "cell_type": "markdown",
   "source": [
    "## Basic config :"
   ],
   "metadata": {
    "collapsed": false
   }
  },
  {
   "cell_type": "code",
   "execution_count": 9,
   "outputs": [],
   "source": [
    "config.num_epochs = 100\n",
    "config.val_interval = 1 # performs validation with test dataset every n epochs\n",
    "config.batch_size = 1"
   ],
   "metadata": {
    "collapsed": false,
    "ExecuteTime": {
     "end_time": "2023-07-10T08:00:15.040773600Z",
     "start_time": "2023-07-10T08:00:15.020804400Z"
    }
   }
  },
  {
   "cell_type": "markdown",
   "source": [],
   "metadata": {
    "collapsed": false
   }
  },
  {
   "cell_type": "markdown",
   "source": [
    "### Image directories :\n",
    "- `train_volume_directory` : The path to the folder containing the 3D .tif files on which to train\n",
    "- `eval_volume_directory` : If available, the path to the validation set to compute Dice metric on; labels should be in a \"lab\" folder, volumes in \"vol\" at the specified path. Images and labels should match when sorted alphabetically"
   ],
   "metadata": {
    "collapsed": false
   }
  },
  {
   "cell_type": "code",
   "execution_count": 10,
   "outputs": [],
   "source": [
    "config.train_volume_directory = str(Path.home() / \"Desktop/Code/WNet-benchmark/dataset/VIP_small\")\n",
    "config.eval_volume_directory = None\n",
    "\n",
    "config.save_model_path = \"./results\""
   ],
   "metadata": {
    "collapsed": false,
    "ExecuteTime": {
     "end_time": "2023-07-10T08:00:15.810624400Z",
     "start_time": "2023-07-10T08:00:15.791682400Z"
    }
   }
  },
  {
   "cell_type": "markdown",
   "source": [
    "### Advanced config\n",
    "Note : more parameters can be found in the config.py file, depending on your needs"
   ],
   "metadata": {
    "collapsed": false
   }
  },
  {
   "cell_type": "code",
   "execution_count": 11,
   "outputs": [],
   "source": [
    "config.in_channels = 1\n",
    "config.out_channels = 1\n",
    "config.num_classes = 2\n",
    "config.dropout = 0.65\n",
    "\n",
    "config.lr = 1e-6 # learning rate\n",
    "config.scheduler = \"None\"  # \"CosineAnnealingLR\"  # \"ReduceLROnPlateau\" # can be further tweaked in config\n",
    "config.weight_decay = 0.01  # None"
   ],
   "metadata": {
    "collapsed": false,
    "ExecuteTime": {
     "end_time": "2023-07-10T08:00:16.455904800Z",
     "start_time": "2023-07-10T08:00:16.445901900Z"
    }
   }
  },
  {
   "cell_type": "code",
   "execution_count": null,
   "outputs": [
    {
     "name": "stdout",
     "output_type": "stream",
     "text": [
      "Using device: cpu\n",
      "Config:\n",
      "('in_channels', 1)\n",
      "('out_channels', 1)\n",
      "('num_classes', 2)\n",
      "('dropout', 0.65)\n",
      "('use_clipping', False)\n",
      "('clipping', 1)\n",
      "('lr', 1e-06)\n",
      "('scheduler', 'None')\n",
      "('weight_decay', 0.01)\n",
      "('intensity_sigma', 1)\n",
      "('spatial_sigma', 4)\n",
      "('radius', 2)\n",
      "('n_cuts_weight', 0.5)\n",
      "('reconstruction_loss', 'MSE')\n",
      "('rec_loss_weight', 0.005)\n",
      "('num_epochs', 100)\n",
      "('val_interval', 1)\n",
      "('batch_size', 1)\n",
      "('num_workers', 4)\n",
      "('sa', 50)\n",
      "('sb', 20)\n",
      "('sg', 1)\n",
      "('w1', 50)\n",
      "('w2', 20)\n",
      "('n_iter', 5)\n",
      "('train_volume_directory', 'C:\\\\Users\\\\Cyril\\\\Desktop\\\\Code\\\\WNet-benchmark\\\\dataset\\\\VIP_small')\n",
      "('eval_volume_directory', None)\n",
      "('normalize_input', True)\n",
      "('normalizing_function', <function remap_image at 0x000002C93F738DC0>)\n",
      "('use_patch', False)\n",
      "('patch_size', (64, 64, 64))\n",
      "('num_patches', 30)\n",
      "('eval_num_patches', 20)\n",
      "('do_augmentation', True)\n",
      "('parallel', False)\n",
      "('save_model', True)\n",
      "('save_model_path', './../results/new_model/wnet_new_model_all_data_3class.pth')\n",
      "('save_every', 5)\n",
      "('weights_path', None)\n",
      "Initializing training...\n",
      "Getting the data\n",
      "2023-07-10 10:00:17,137 - Images :\n",
      "2023-07-10 10:00:17,137 - 1\n",
      "2023-07-10 10:00:17,137 - 2\n",
      "2023-07-10 10:00:17,137 - **********\n"
     ]
    },
    {
     "name": "stderr",
     "output_type": "stream",
     "text": [
      "Loading dataset: 100%|██████████| 2/2 [00:00<?, ?it/s]"
     ]
    },
    {
     "name": "stdout",
     "output_type": "stream",
     "text": [
      "data shape: torch.Size([64, 64, 64])\n",
      "Initializing the model:\n",
      "- getting the model\n"
     ]
    },
    {
     "name": "stderr",
     "output_type": "stream",
     "text": [
      "\n"
     ]
    },
    {
     "name": "stdout",
     "output_type": "stream",
     "text": [
      "- getting the optimizers\n",
      "- getting the loss functions\n",
      "Radius set to 2\n",
      "- getting the learning rate schedulers\n",
      "Ready\n",
      "Training the model\n",
      "**************************************************\n",
      "Epoch 1 of 100\n"
     ]
    }
   ],
   "source": [
    "pretrained_weights = str(Path(PRETRAINED_WEIGHTS_DIR) / \"wnet.pth\") # use None to train from scratch\n",
    "\n",
    "train(weights_path=None, train_config=config)"
   ],
   "metadata": {
    "collapsed": false,
    "ExecuteTime": {
     "start_time": "2023-07-10T08:00:17.127474Z"
    }
   }
  },
  {
   "cell_type": "code",
   "execution_count": null,
   "outputs": [],
   "source": [],
   "metadata": {
    "collapsed": false
   }
  }
 ],
 "metadata": {
  "kernelspec": {
   "display_name": "Python 3",
   "language": "python",
   "name": "python3"
  },
  "language_info": {
   "codemirror_mode": {
    "name": "ipython",
    "version": 2
   },
   "file_extension": ".py",
   "mimetype": "text/x-python",
   "name": "python",
   "nbconvert_exporter": "python",
   "pygments_lexer": "ipython2",
   "version": "2.7.6"
  }
 },
 "nbformat": 4,
 "nbformat_minor": 0
}
