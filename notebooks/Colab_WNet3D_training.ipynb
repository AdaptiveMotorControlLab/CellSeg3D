{
 "cells": [
  {
   "cell_type": "markdown",
   "metadata": {
    "colab_type": "text",
    "id": "view-in-github"
   },
   "source": [
    "<a href=\"https://colab.research.google.com/github/AdaptiveMotorControlLab/CellSeg3d/blob/main/notebooks/Colab_WNet3D_training.ipynb\" target=\"_parent\"><img src=\"https://colab.research.google.com/assets/colab-badge.svg\" alt=\"Open In Colab\"/></a>"
   ]
  },
  {
   "cell_type": "markdown",
   "metadata": {
    "id": "BTUVNXX7R3Go"
   },
   "source": [
    "# **WNet3D: self-supervised 3D cell segmentation**\n",
    "\n",
    "---\n",
    "\n",
    "This notebook is part of the [CellSeg3D project](https://github.com/AdaptiveMotorControlLab/CellSeg3d) in the [Mathis Lab of Adaptive Intelligence](https://www.mackenziemathislab.org/).\n",
    "\n",
    "- 💜 The foundation of this notebook owes much to the **[ZeroCostDL4Mic](https://github.com/HenriquesLab/ZeroCostDL4Mic)** project and to the **[DeepLabCut](https://github.com/DeepLabCut/DeepLabCut)** team for bringing Colab into scientific open software."
   ]
  },
  {
   "cell_type": "markdown",
   "metadata": {
    "id": "zmVCksV0EfVT"
   },
   "source": [
    "#**1. Installing dependencies**\n",
    "---"
   ]
  },
  {
   "cell_type": "code",
   "execution_count": null,
   "metadata": {
    "id": "td_vf_pneSak"
   },
   "outputs": [],
   "source": [
    "#@markdown ##Play to install WNet dependencies\n",
    "!pip install napari-cellseg3d"
   ]
  },
  {
   "cell_type": "markdown",
   "metadata": {
    "id": "nqctRognFGDT"
   },
   "source": [
    "##**1.2 Load key dependencies**\n",
    "---"
   ]
  },
  {
   "cell_type": "code",
   "execution_count": 2,
   "metadata": {
    "colab": {
     "base_uri": "https://localhost:8080/"
    },
    "id": "wOOhJjkxjXz-",
    "outputId": "8f94416d-a482-4ec6-f980-a728e908d90d"
   },
   "outputs": [
    {
     "name": "stderr",
     "output_type": "stream",
     "text": [
      "INFO:napari_cellseg3d.utils:wandb not installed, wandb config will not be taken into account\n",
      "WARNING:napari_cellseg3d.utils:wandb not installed, wandb config will not be taken into account\n"
     ]
    }
   ],
   "source": [
    "# @title\n",
    "from pathlib import Path\n",
    "from napari_cellseg3d.dev_scripts import colab_training as c\n",
    "from napari_cellseg3d.config import WNetTrainingWorkerConfig, WandBConfig, WeightsInfo, PRETRAINED_WEIGHTS_DIR"
   ]
  },
  {
   "cell_type": "markdown",
   "metadata": {
    "id": "Ax-vJAWRwIKi"
   },
   "source": [
    "## (optional) **1.3 Initialize Weights & Biases integration **\n",
    "---\n",
    "If you wish to utilize Weights & Biases (WandB) for monitoring and logging your training session, execute the cell below.\n",
    "To enable it, just input your API key in the space provided."
   ]
  },
  {
   "cell_type": "code",
   "execution_count": null,
   "metadata": {
    "id": "QNgC3awjwb7G"
   },
   "outputs": [],
   "source": [
    "# !pip install -q wandb\n",
    "# import wandb\n",
    "# wandb.login()"
   ]
  },
  {
   "cell_type": "markdown",
   "metadata": {
    "id": "Zi9gRBHFFyX-"
   },
   "source": [
    "# **2. Complete the Colab session**\n",
    "---\n"
   ]
  },
  {
   "cell_type": "markdown",
   "metadata": {
    "id": "zSU-LYTfFnvF"
   },
   "source": [
    "\n",
    "## **2.1. Check for GPU access**\n",
    "---\n",
    "\n",
    "By default, this session is configured to use Python 3 and GPU acceleration. To verify or adjust these settings:\n",
    "\n",
    "<font size = 4>Navigate to Runtime and select Change the Runtime type.\n",
    "\n",
    "<font size = 4>For Runtime type, ensure it's set to Python 3 (the programming language this program is written in).\n",
    "\n",
    "<font size = 4>Under Accelerator, choose GPU (Graphics Processing Unit).\n"
   ]
  },
  {
   "cell_type": "code",
   "execution_count": 3,
   "metadata": {
    "colab": {
     "base_uri": "https://localhost:8080/"
    },
    "id": "Ie7bXiMgFtPH",
    "outputId": "3276444c-5109-47b4-f507-ea9acaab15ad"
   },
   "outputs": [
    {
     "name": "stdout",
     "output_type": "stream",
     "text": [
      "You have GPU access\n",
      "Fri May  3 17:19:13 2024       \n",
      "+---------------------------------------------------------------------------------------+\n",
      "| NVIDIA-SMI 535.104.05             Driver Version: 535.104.05   CUDA Version: 12.2     |\n",
      "|-----------------------------------------+----------------------+----------------------+\n",
      "| GPU  Name                 Persistence-M | Bus-Id        Disp.A | Volatile Uncorr. ECC |\n",
      "| Fan  Temp   Perf          Pwr:Usage/Cap |         Memory-Usage | GPU-Util  Compute M. |\n",
      "|                                         |                      |               MIG M. |\n",
      "|=========================================+======================+======================|\n",
      "|   0  Tesla T4                       Off | 00000000:00:04.0 Off |                    0 |\n",
      "| N/A   50C    P8              10W /  70W |      3MiB / 15360MiB |      0%      Default |\n",
      "|                                         |                      |                  N/A |\n",
      "+-----------------------------------------+----------------------+----------------------+\n",
      "                                                                                         \n",
      "+---------------------------------------------------------------------------------------+\n",
      "| Processes:                                                                            |\n",
      "|  GPU   GI   CI        PID   Type   Process name                            GPU Memory |\n",
      "|        ID   ID                                                             Usage      |\n",
      "|=======================================================================================|\n",
      "|  No running processes found                                                           |\n",
      "+---------------------------------------------------------------------------------------+\n"
     ]
    }
   ],
   "source": [
    "#@markdown ##Execute the cell below to verify if GPU access is available.\n",
    "\n",
    "import torch\n",
    "if not torch.cuda.is_available():\n",
    "  print('You do not have GPU access.')\n",
    "  print('Did you change your runtime?')\n",
    "  print('If the runtime setting is correct then Google did not allocate a GPU for your session')\n",
    "  print('Expect slow performance. To access GPU try reconnecting later')\n",
    "\n",
    "else:\n",
    "  print('You have GPU access')\n",
    "  !nvidia-smi\n"
   ]
  },
  {
   "cell_type": "markdown",
   "metadata": {
    "id": "X_bbk7RAF2yw"
   },
   "source": [
    "## **2.2. Mount Google Drive**\n",
    "---\n",
    "<font size = 4>To integrate this notebook with your personal data, save your data on Google Drive in accordance with the directory structures detailed in Section 0.\n",
    "\n",
    "1. <font size = 4> **Run** the **cell** below and click on the provided link.\n",
    "\n",
    "2. <font size = 4>Log in to your Google account and grant the necessary permissions by clicking 'Allow'.\n",
    "\n",
    "3. <font size = 4>Copy the generated authorization code and paste it into the cell, then press 'Enter'. This grants Colab access to read and write data to your Google Drive.\n",
    "\n",
    "4. <font size = 4> After completion, you can view your data in the notebook. Simply click the Files tab on the top left and select 'Refresh'."
   ]
  },
  {
   "cell_type": "code",
   "execution_count": 4,
   "metadata": {
    "colab": {
     "base_uri": "https://localhost:8080/"
    },
    "id": "AsIARCablq1V",
    "outputId": "77ffdbd1-4c89-4a56-e3da-7777a607a328"
   },
   "outputs": [
    {
     "name": "stdout",
     "output_type": "stream",
     "text": [
      "Mounted at /content/gdrive\n"
     ]
    }
   ],
   "source": [
    "# mount user's Google Drive to Google Colab.\n",
    "from google.colab import drive\n",
    "drive.mount('/content/gdrive')"
   ]
  },
  {
   "cell_type": "markdown",
   "metadata": {
    "id": "r6FI22lkQLTv"
   },
   "source": [
    "**<font size = 4> If you cannot see your files, reactivate your session by connecting to your hosted runtime.**\n",
    "\n",
    "\n",
    "<img width=\"40%\" alt =\"Example of image detection with retinanet.\" src=\"https://github.com/HenriquesLab/ZeroCostDL4Mic/raw/master/Wiki_files/connect_to_hosted.png\"><figcaption> Connect to a hosted runtime. </figcaption>"
   ]
  },
  {
   "cell_type": "markdown",
   "metadata": {
    "id": "IkOpxYjaGM0m"
   },
   "source": [
    "# **3. Select your parameters and paths**\n",
    "---"
   ]
  },
  {
   "cell_type": "markdown",
   "metadata": {
    "id": "65FhTkYlGKRt"
   },
   "source": [
    "## **3.1. Choosing parameters**\n",
    "\n",
    "---\n",
    "\n",
    "### **Paths to the training data and model**\n",
    "\n",
    "* <font size = 4>**`training_source`** specifies the paths to the training data. They must be a single multipage TIF file each\n",
    "\n",
    "* <font size = 4>**`model_save_path`** specifies the directory where the model checkpoints will be saved.\n",
    "\n",
    "<font size = 4>**Tip:** To easily copy paths, navigate to the 'Files' tab, right-click on a folder or file, and choose 'Copy path'.\n",
    "\n",
    "### **Training parameters**\n",
    "\n",
    "* <font size = 4>**`number_of_epochs`** is the number of times the entire training data will be seen by the model. Default: 50\n",
    "\n",
    "* <font size = 4>**`batchs_size`** is the number of image that will be bundled together at each training step. Default: 4\n",
    "\n",
    "* <font size = 4>**`learning_rate`** is the step size of the update of the model's weight. Try decreasing it if the NCuts loss is unstable. Default: 2e-5\n",
    "\n",
    "* <font size = 4>**`num_classes`** is the number of brightness clusters to segment the image in. Try raising it to 3 if you have artifacts or \"halos\" around your cells that have significantly different brightness. Default: 2\n",
    "\n",
    "* <font size = 4>**`weight_decay`** is a regularization parameter used to prevent overfitting. Default: 0.01\n",
    "\n",
    "* <font size = 4>**`validation_frequency`** is the frequency at which the provided evaluation data is used to estimate the model's performance.\n",
    "\n",
    "* <font size = 4>**`intensity_sigma`** is the standard deviation of the feature similarity term. Default: 1\n",
    "\n",
    "* <font size = 4>**`spatial_sigma`** is the standard deviation of the spatial proximity term. Default: 4\n",
    "\n",
    "* <font size = 4>**`ncuts_radius`** is the radius for the NCuts loss computation, in pixels. Default: 2\n",
    "\n",
    "* <font size = 4>**`rec_loss`** is the loss to use for the decoder. Can be Mean Square Error (MSE) or Binary Cross Entropy (BCE). Default : MSE\n",
    "\n",
    "* <font size = 4>**`n_cuts_weight`** is the weight of the NCuts loss in the weighted sum for the backward pass. Default: 0.5\n",
    "* <font size = 4>**`rec_loss_weight`** is the weight of the reconstruction loss. Default: 0.005\n"
   ]
  },
  {
   "cell_type": "code",
   "execution_count": null,
   "metadata": {
    "cellView": "form",
    "id": "tTSCC6ChGuuA"
   },
   "outputs": [],
   "source": [
    "#@markdown ###Path to the training data:\n",
    "training_source = \"./gdrive/MyDrive/CELLSEG_BENCHMARK/DATA/WNET/VIP_full\" #@param {type:\"string\"}\n",
    "#@markdown ###Model name and path to model folder:\n",
    "model_save_path = \"./gdrive/MyDrive/CELLSEG_BENCHMARK/WNET_TRAINING_RESULTS\" #@param {type:\"string\"}\n",
    "#@markdown ---\n",
    "#@markdown ###Perform validation on a test dataset\n",
    "do_validation = False #@param {type:\"boolean\"}\n",
    "#@markdown ###Path to evaluation data (optional, use if checked above):\n",
    "eval_source = \"./gdrive/MyDrive/CELLSEG_BENCHMARK/DATA/WNET/eval/vol/\" #@param {type:\"string\"}\n",
    "eval_target = \"./gdrive/MyDrive/CELLSEG_BENCHMARK/DATA/WNET/eval/lab/\" #@param {type:\"string\"}\n",
    "#@markdown ---\n",
    "#@markdown ###Training parameters\n",
    "number_of_epochs = 50 #@param {type:\"number\"}\n",
    "#@markdown ###Default advanced parameters\n",
    "use_default_advanced_parameters = False #@param {type:\"boolean\"}\n",
    "#@markdown <font size = 4>If not, please change:\n",
    "\n",
    "#@markdown <font size = 3>Training parameters:\n",
    "batch_size =  4 #@param {type:\"number\"}\n",
    "learning_rate = 2e-5 #@param {type:\"number\"}\n",
    "num_classes = 2 #@param {type:\"number\"}\n",
    "weight_decay = 0.01 #@param {type:\"number\"}\n",
    "#@markdown <font size = 3>Validation parameters:\n",
    "validation_frequency = 2 #@param {type:\"number\"}\n",
    "#@markdown <font size = 3>SoftNCuts parameters:\n",
    "intensity_sigma = 1.0 #@param {type:\"number\"}\n",
    "spatial_sigma = 4.0 #@param {type:\"number\"}\n",
    "ncuts_radius = 2 #@param {type:\"number\"}\n",
    "#@markdown <font size = 3>Reconstruction loss:\n",
    "rec_loss = \"MSE\" #@param[\"MSE\", \"BCE\"]\n",
    "#@markdown <font size = 3>Weighted sum of losses:\n",
    "n_cuts_weight = 0.5 #@param {type:\"number\"}\n",
    "rec_loss_weight = 0.005 #@param {type:\"number\"}"
   ]
  },
  {
   "cell_type": "markdown",
   "metadata": {
    "id": "HtoIo5GcKIXX"
   },
   "source": []
  },
  {
   "cell_type": "markdown",
   "metadata": {
    "id": "arWhMU6aKsri"
   },
   "source": [
    "# **4. Train the network**\n",
    "---\n",
    "\n",
    "<font size = 4>Important Reminder: Google Colab imposes a maximum session time to prevent extended GPU usage, such as for data mining. Ensure your training duration stays under 12 hours. If your training is projected to exceed this limit, consider reducing the `number_of_epochs`."
   ]
  },
  {
   "cell_type": "markdown",
   "metadata": {
    "id": "L59J90S_Kva3"
   },
   "source": [
    "## **4.1. Initialize the config**\n",
    "---"
   ]
  },
  {
   "cell_type": "code",
   "execution_count": null,
   "metadata": {
    "id": "YOgLyUwPjvUX"
   },
   "outputs": [],
   "source": [
    "# @title\n",
    "train_data_folder = Path(training_source)\n",
    "results_path = Path(model_save_path)\n",
    "results_path.mkdir(exist_ok=True)\n",
    "eval_image_folder = Path(eval_source)\n",
    "eval_label_folder = Path(eval_target)\n",
    "\n",
    "eval_dict = c.create_eval_dataset_dict(\n",
    "        eval_image_folder,\n",
    "        eval_label_folder,\n",
    "    ) if do_validation else None\n",
    "\n",
    "try:\n",
    "  import wandb\n",
    "  WANDB_INSTALLED = True\n",
    "except ImportError:\n",
    "  WANDB_INSTALLED = False\n",
    "\n",
    "\n",
    "train_config = WNetTrainingWorkerConfig(\n",
    "    device=\"cuda:0\",\n",
    "    max_epochs=number_of_epochs,\n",
    "    learning_rate=2e-5,\n",
    "    validation_interval=2,\n",
    "    batch_size=4,\n",
    "    num_workers=2,\n",
    "    weights_info=WeightsInfo(),\n",
    "    results_path_folder=str(results_path),\n",
    "    train_data_dict=c.create_dataset_dict_no_labs(train_data_folder),\n",
    "    eval_volume_dict=eval_dict,\n",
    ") if use_default_advanced_parameters else WNetTrainingWorkerConfig(\n",
    "    device=\"cuda:0\",\n",
    "    max_epochs=number_of_epochs,\n",
    "    learning_rate=learning_rate,\n",
    "    validation_interval=validation_frequency,\n",
    "    batch_size=batch_size,\n",
    "    num_workers=2,\n",
    "    weights_info=WeightsInfo(),\n",
    "    results_path_folder=str(results_path),\n",
    "    train_data_dict=c.create_dataset_dict_no_labs(train_data_folder),\n",
    "    eval_volume_dict=eval_dict,\n",
    "    # advanced\n",
    "    num_classes=num_classes,\n",
    "    weight_decay=weight_decay,\n",
    "    intensity_sigma=intensity_sigma,\n",
    "    spatial_sigma=spatial_sigma,\n",
    "    radius=ncuts_radius,\n",
    "    reconstruction_loss=rec_loss,\n",
    "    n_cuts_weight=n_cuts_weight,\n",
    "    rec_loss_weight=rec_loss_weight,\n",
    ")\n",
    "wandb_config = WandBConfig(\n",
    "    mode=\"disabled\" if not WANDB_INSTALLED else \"online\",\n",
    "    save_model_artifact=False,\n",
    ")"
   ]
  },
  {
   "cell_type": "markdown",
   "metadata": {
    "id": "idowGpeQPIm2"
   },
   "source": [
    "## **4.2. Start training**\n",
    "---"
   ]
  },
  {
   "cell_type": "code",
   "execution_count": null,
   "metadata": {
    "id": "OXxKZhGMqguz"
   },
   "outputs": [],
   "source": [
    "# @title\n",
    "worker = c.get_colab_worker(worker_config=train_config, wandb_config=wandb_config)\n",
    "for epoch_loss in worker.train():\n",
    "  continue"
   ]
  },
  {
   "cell_type": "code",
   "execution_count": null,
   "metadata": {},
   "outputs": [],
   "source": [
    "# Once you have trained the model, you will have the weights as a .pth file"
   ]
  }
 ],
 "metadata": {
  "accelerator": "GPU",
  "colab": {
   "gpuType": "T4",
   "include_colab_link": true,
   "provenance": []
  },
  "kernelspec": {
   "display_name": "Python 3",
   "name": "python3"
  },
  "language_info": {
   "name": "python"
  }
 },
 "nbformat": 4,
 "nbformat_minor": 0
}
