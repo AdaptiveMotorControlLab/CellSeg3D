{
  "cells": [
    {
      "cell_type": "markdown",
      "metadata": {
        "id": "view-in-github",
        "colab_type": "text"
      },
      "source": [
        "<a href=\"https://colab.research.google.com/github/MMathisLab/CellSeg3d/blob/main/Notebooks/Colab_inference_demo.ipynb\" target=\"_parent\"><img src=\"https://colab.research.google.com/assets/colab-badge.svg\" alt=\"Open In Colab\"/></a>"
      ]
    },
    {
      "cell_type": "markdown",
      "metadata": {
        "id": "PoYFnmmQAm-x"
      },
      "source": [
        "# **CellSeg3D : inference demo notebook**\n",
        "\n",
        "---\n",
        "This notebook is part of the [CellSeg3D project](https://github.com/AdaptiveMotorControlLab/CellSeg3d) in the [Mathis Lab of Adaptive Intelligence](https://www.mackenziemathislab.org/).\n",
        "\n",
        "- 💜 The foundation of this notebook owes much to the **[ZeroCostDL4Mic](https://github.com/HenriquesLab/ZeroCostDL4Mic)** project and to the **[DeepLabCut](https://github.com/DeepLabCut/DeepLabCut)** team."
      ]
    },
    {
      "cell_type": "markdown",
      "metadata": {
        "id": "vJLmPrWhAm-z"
      },
      "source": [
        "# **1. Installing dependencies**\n",
        "---"
      ]
    },
    {
      "cell_type": "markdown",
      "metadata": {
        "id": "CUNTOWCnAm-z"
      },
      "source": [
        "## **1.1 Installing CellSeg3D**\n",
        "---"
      ]
    },
    {
      "cell_type": "code",
      "execution_count": null,
      "metadata": {
        "id": "bnFKu6uFAm-z",
        "collapsed": true
      },
      "outputs": [],
      "source": [
        "#@markdown ##Install CellSeg3D and grab demo data\n",
        "!git clone https://github.com/AdaptiveMotorControlLab/CellSeg3d.git --branch main --single-branch ./CellSeg3D\n",
        "!pip install napari-cellseg3d"
      ]
    },
    {
      "cell_type": "markdown",
      "metadata": {
        "id": "pSVZsebrAm-0"
      },
      "source": [
        "## **1.3 Load key dependencies**\n",
        "---"
      ]
    },
    {
      "cell_type": "code",
      "execution_count": null,
      "metadata": {
        "id": "vzm75tE_Am-0"
      },
      "outputs": [],
      "source": [
        "# @title Load libraries\n",
        "import napari_cellseg3d\n",
        "from tifffile import imread\n",
        "from pathlib import Path\n",
        "from napari_cellseg3d.dev_scripts import remote_inference as cs3d\n",
        "from napari_cellseg3d.utils import LOGGER as logger\n",
        "\n",
        "import logging\n",
        "\n",
        "logger.setLevel(logging.INFO)"
      ]
    },
    {
      "cell_type": "markdown",
      "metadata": {
        "id": "XLEJsiVNAm-0"
      },
      "source": [
        "# **2. Inference**\n",
        "---"
      ]
    },
    {
      "cell_type": "markdown",
      "metadata": {
        "id": "gjp4WL40Am-0"
      },
      "source": [
        "\n",
        "## **2.1. Check for GPU access**\n",
        "---\n",
        "\n",
        "By default, this session is configured to use Python 3 and GPU acceleration. To verify or adjust these settings:\n",
        "\n",
        "<font size = 4>Navigate to Runtime and select Change the Runtime type.\n",
        "\n",
        "<font size = 4>For Runtime type, ensure it's set to Python 3 (the programming language this program is written in).\n",
        "\n",
        "<font size = 4>Under Accelerator, choose GPU (Graphics Processing Unit).\n"
      ]
    },
    {
      "cell_type": "code",
      "execution_count": null,
      "metadata": {
        "id": "Fe8hNkOpAm-0"
      },
      "outputs": [],
      "source": [
        "#@markdown This cell verifies if GPU access is available.\n",
        "\n",
        "import torch\n",
        "if not torch.cuda.is_available():\n",
        "  print('You do not have GPU access.')\n",
        "  print('Did you change your runtime?')\n",
        "  print('If the runtime setting is correct then Google did not allocate a GPU for your session')\n",
        "  print('Expect slow performance. To access GPU try reconnecting later')\n",
        "\n",
        "else:\n",
        "  print('You have GPU access')\n",
        "  !nvidia-smi\n"
      ]
    },
    {
      "cell_type": "markdown",
      "metadata": {
        "id": "JBCyJAGsAm-0"
      },
      "source": [
        "## **2.2 Run inference**\n",
        "---"
      ]
    },
    {
      "cell_type": "code",
      "execution_count": 4,
      "metadata": {
        "id": "O0jLRpARAm-0",
        "colab": {
          "base_uri": "https://localhost:8080/",
          "height": 35
        },
        "outputId": "e4e8549c-7100-4c0c-bc30-505c0dfeb138"
      },
      "outputs": [
        {
          "output_type": "execute_result",
          "data": {
            "text/plain": [
              "'cupy backend (experimental)'"
            ],
            "application/vnd.google.colaboratory.intrinsic+json": {
              "type": "string"
            }
          },
          "metadata": {},
          "execution_count": 4
        }
      ],
      "source": [
        "demo_image_path = \"/content/CellSeg3D/examples/c5image.tif\"\n",
        "demo_image = imread(demo_image_path)\n",
        "inference_config = cs3d.CONFIG\n",
        "post_process_config = cs3d.PostProcessConfig()\n",
        "# select cle device for colab\n",
        "import pyclesperanto_prototype as cle\n",
        "cle.select_device(\"cupy\")"
      ]
    },
    {
      "cell_type": "markdown",
      "source": [
        "### Select the pretrained model"
      ],
      "metadata": {
        "id": "b6vIW_oDlpok"
      }
    },
    {
      "cell_type": "code",
      "source": [
        "model_selection = \"SwinUNetR\" #@param [\"SwinUNetR\", \"WNet3D\", \"SegResNet\"]\n",
        "print(f\"Selected model: {model_selection}\")"
      ],
      "metadata": {
        "id": "5tkEI1q-loqB",
        "colab": {
          "base_uri": "https://localhost:8080/"
        },
        "outputId": "d41875da-3879-4158-8a0f-6330afe442af"
      },
      "execution_count": 5,
      "outputs": [
        {
          "output_type": "stream",
          "name": "stdout",
          "text": [
            "Selected model: SwinUNetR\n"
          ]
        }
      ]
    },
    {
      "cell_type": "code",
      "source": [
        "from napari_cellseg3d.config import ModelInfo\n",
        "\n",
        "model_info = ModelInfo(\n",
        "    name=model_selection,\n",
        "    model_input_size=64 if model_selection == \"SegResNet\" else [64,64,64],\n",
        "    num_classes=2,\n",
        ")\n",
        "inference_config.model_info = model_info"
      ],
      "metadata": {
        "id": "aPFS4WTdmPo3"
      },
      "execution_count": 6,
      "outputs": []
    },
    {
      "cell_type": "code",
      "execution_count": 7,
      "metadata": {
        "id": "hIEKoyEGAm-0",
        "colab": {
          "base_uri": "https://localhost:8080/"
        },
        "outputId": "2103baf6-8875-433b-8799-41e0d1f3c7f0"
      },
      "outputs": [
        {
          "output_type": "stream",
          "name": "stdout",
          "text": [
            "--------------------\n",
            "Parameters summary :\n",
            "Model is : SwinUNetR\n",
            "Window inference is enabled\n",
            "Window size is 64\n",
            "Window overlap is 0.25\n",
            "Dataset loaded on cuda device\n",
            "--------------------\n",
            "MODEL DIMS : [64, 64, 64]\n",
            "Model name : SwinUNetR\n",
            "Instantiating model...\n"
          ]
        },
        {
          "output_type": "stream",
          "name": "stderr",
          "text": [
            "monai.networks.nets.swin_unetr SwinUNETR.__init__:img_size: Argument `img_size` has been deprecated since version 1.3. It will be removed in version 1.5. The img_size argument is not required anymore and checks on the input size are run during forward().\n",
            "INFO:napari_cellseg3d.utils:********************\n"
          ]
        },
        {
          "output_type": "stream",
          "name": "stdout",
          "text": [
            "Loading weights...\n"
          ]
        },
        {
          "output_type": "stream",
          "name": "stderr",
          "text": [
            "INFO:napari_cellseg3d.utils:Downloading the model from HuggingFace https://huggingface.co/C-Achard/cellseg3d/resolve/main/SwinUNetR_latest.tar.gz....\n",
            "270729216B [00:10, 26012663.01B/s]                                 \n",
            "You are using `torch.load` with `weights_only=False` (the current default value), which uses the default pickle module implicitly. It is possible to construct malicious pickle data which will execute arbitrary code during unpickling (See https://github.com/pytorch/pytorch/blob/main/SECURITY.md#untrusted-models for more details). In a future release, the default value for `weights_only` will be flipped to `True`. This limits the functions that could be executed during unpickling. Arbitrary objects will no longer be allowed to be loaded via this mode unless they are explicitly allowlisted by the user via `torch.serialization.add_safe_globals`. We recommend you start setting `weights_only=True` for any use case where you don't have full control of the loaded file. Please open an issue on GitHub for any issues related to this experimental feature.\n"
          ]
        },
        {
          "output_type": "stream",
          "name": "stdout",
          "text": [
            "Weights status : <All keys matched successfully>\n",
            "Done\n",
            "--------------------\n",
            "Parameters summary :\n",
            "Model is : SwinUNetR\n",
            "Window inference is enabled\n",
            "Window size is 64\n",
            "Window overlap is 0.25\n",
            "Dataset loaded on cuda device\n",
            "--------------------\n",
            "Loading layer\n",
            "2024-12-22 18:58:42,183 - INFO - Apply pending transforms - lazy: False, pending: 0, upcoming 'QuantileNormalization', transform is not lazy\n",
            "2024-12-22 18:58:42,279 - INFO - Apply pending transforms - lazy: False, pending: 0, upcoming 'ToTensor', transform is not lazy\n",
            "2024-12-22 18:58:42,290 - INFO - Apply pending transforms - lazy: False, pending: 0, upcoming 'EnsureType', transform is not lazy\n",
            "Done\n",
            "----------\n",
            "Inference started on layer...\n",
            "Post-processing...\n",
            "Layer prediction saved as : volume_SwinUNetR_pred_1_2024_12_22_18_58_48\n"
          ]
        }
      ],
      "source": [
        "result = cs3d.inference_on_images(\n",
        "    demo_image,\n",
        "    config=inference_config,\n",
        ")"
      ]
    },
    {
      "cell_type": "code",
      "execution_count": 8,
      "metadata": {
        "id": "IFbmZ3_zAm-1",
        "colab": {
          "base_uri": "https://localhost:8080/"
        },
        "outputId": "bde6a6c5-f47f-4164-9e1c-3bf5a94dd00d"
      },
      "outputs": [
        {
          "output_type": "stream",
          "name": "stderr",
          "text": [
            "1it [00:00,  9.61it/s]\n",
            "clesperanto's cupy / CUDA backend is experimental. Please use it with care. The following functions are known to cause issues in the CUDA backend:\n",
            "affine_transform, apply_vector_field, create(uint64), create(int32), create(int64), resample, scale, spots_to_pointlist\n",
            "divide by zero encountered in scalar divide\n",
            "invalid value encountered in scalar multiply\n",
            "WARNING:napari_cellseg3d.utils:0 invalid sphericities were set to NaN. This occurs for objects with a volume of 1 pixel.\n"
          ]
        }
      ],
      "source": [
        "# @title Post-process the result\n",
        "# @markdown This cell post-processes the result of the inference : thresholding, instance segmentation, and statistics.\n",
        "\n",
        "if model_selection == \"WNet3D\":\n",
        "   result[0].semantic_segmentation = result[0].semantic_segmentation[1]\n",
        "\n",
        "instance_segmentation,stats = cs3d.post_processing(\n",
        "    result[0].semantic_segmentation,\n",
        "    config=post_process_config,\n",
        ")"
      ]
    },
    {
      "cell_type": "code",
      "execution_count": 9,
      "metadata": {
        "id": "TMRiQ-m4Am-1",
        "colab": {
          "base_uri": "https://localhost:8080/",
          "height": 496,
          "referenced_widgets": [
            "7a72ee57e14c440bb2ce281da67e1311",
            "2692114df7304a1cbc703e8bd0f848c3",
            "697f7288fff64aefbee1a5c0d4894987",
            "1e79fde882a44cd984a54a71c3337759",
            "9cb58613b1a74eaeb285f6d2d77d567b",
            "a1d487697e4b4ea6b897f380c2b112cc",
            "10441f745a6f41cf8655b2fafbb8204f"
          ]
        },
        "outputId": "2d819126-5478-4d98-a5e2-ecacb7872465"
      },
      "outputs": [
        {
          "output_type": "display_data",
          "data": {
            "text/plain": [
              "interactive(children=(IntSlider(value=62, description='z', max=123), Output()), _dom_classes=('widget-interact…"
            ],
            "application/vnd.jupyter.widget-view+json": {
              "version_major": 2,
              "version_minor": 0,
              "model_id": "7a72ee57e14c440bb2ce281da67e1311"
            }
          },
          "metadata": {}
        },
        {
          "output_type": "execute_result",
          "data": {
            "text/plain": [
              "<function __main__.update_plot(z)>"
            ],
            "text/html": [
              "<div style=\"max-width:800px; border: 1px solid var(--colab-border-color);\"><style>\n",
              "      pre.function-repr-contents {\n",
              "        overflow-x: auto;\n",
              "        padding: 8px 12px;\n",
              "        max-height: 500px;\n",
              "      }\n",
              "\n",
              "      pre.function-repr-contents.function-repr-contents-collapsed {\n",
              "        cursor: pointer;\n",
              "        max-height: 100px;\n",
              "      }\n",
              "    </style>\n",
              "    <pre style=\"white-space: initial; background:\n",
              "         var(--colab-secondary-surface-color); padding: 8px 12px;\n",
              "         border-bottom: 1px solid var(--colab-border-color);\"><b>update_plot</b><br/>def update_plot(z)</pre><pre class=\"function-repr-contents function-repr-contents-collapsed\" style=\"\"><a class=\"filepath\" style=\"display:none\" href=\"#\">/content/&lt;ipython-input-9-245acde924e0&gt;</a>&lt;no docstring&gt;</pre></div>"
            ]
          },
          "metadata": {},
          "execution_count": 9
        }
      ],
      "source": [
        "# @title Display the result\n",
        "#@markdown This cell displays the result of the inference and post-processing. Use the slider to navigate through the z-stack.\n",
        "# @markdown *KNOWN ISSUE* : The colormap of the labels is not consistent between the z-stacks.\n",
        "import matplotlib.pyplot as plt\n",
        "import ipywidgets as widgets\n",
        "from IPython.display import display\n",
        "import matplotlib\n",
        "import colorsys\n",
        "import numpy as np\n",
        "\n",
        "def random_label_cmap(n=2**16, h = (0,1), l = (.4,1), s =(.2,.8)):\n",
        "    \"\"\"FUNCTION TAKEN FROM STARDIST REPO : https://github.com/stardist/stardist/blob/c6c261081c6f9717fa9f5c47720ad2d5a9153224/stardist/plot/plot.py#L8\"\"\"\n",
        "    h,l,s = np.random.uniform(*h,n), np.random.uniform(*l,n), np.random.uniform(*s,n)\n",
        "    cols = np.stack([colorsys.hls_to_rgb(_h,_l,_s) for _h,_l,_s in zip(h,l,s)],axis=0)\n",
        "    cols[0] = 0\n",
        "    # reset the random generator to the first draw to keep the colormap consistent\n",
        "\n",
        "    return matplotlib.colors.ListedColormap(cols)\n",
        "\n",
        "label_cmap = random_label_cmap(n=instance_segmentation.max()+1)\n",
        "\n",
        "def update_plot(z):\n",
        "    plt.figure(figsize=(15, 15))\n",
        "    plt.subplot(1, 3, 1)\n",
        "    plt.imshow(demo_image[z], cmap='gray')\n",
        "    plt.subplot(1, 3, 2)\n",
        "    plt.imshow(result[0].semantic_segmentation[z], cmap='turbo')\n",
        "    plt.subplot(1, 3, 3)\n",
        "    plt.imshow(instance_segmentation[z], cmap=label_cmap)\n",
        "    plt.show()\n",
        "\n",
        "# Create a slider\n",
        "z_slider = widgets.IntSlider(min=0, max=demo_image.shape[0]-1, step=1, value=demo_image.shape[0] // 2)\n",
        "\n",
        "# Display the slider and update the plot when the slider is changed\n",
        "widgets.interact(update_plot, z=z_slider)"
      ]
    },
    {
      "cell_type": "code",
      "execution_count": 10,
      "metadata": {
        "id": "Tw5exJ5EAm-1",
        "colab": {
          "base_uri": "https://localhost:8080/",
          "height": 424
        },
        "outputId": "3aa36115-0b22-495b-b7e9-3eba7c06069a"
      },
      "outputs": [
        {
          "output_type": "display_data",
          "data": {
            "text/plain": [
              "     Volume  Centroid x  Centroid y  Centroid z  Sphericity (axes)  \\\n",
              "0     190.0    5.405263   69.157895   36.210526           0.778113   \n",
              "1      18.0    5.833333   85.000000   83.944444           0.000007   \n",
              "2      67.0    7.283582   65.492537   92.059701           0.867751   \n",
              "3     108.0   10.324074   84.342593   68.861111           0.672490   \n",
              "4      35.0    9.428571   84.314286   92.600000           0.649649   \n",
              "..      ...         ...         ...         ...                ...   \n",
              "317    11.0  122.363636   14.727273   25.000000           0.951651   \n",
              "318    24.0  122.166667   26.083333   38.083333           0.990075   \n",
              "319    16.0  122.125000   34.125000   36.500000           0.944672   \n",
              "320    13.0  122.076923   43.538462   53.615385           0.939852   \n",
              "321    21.0  122.523810   49.666667   36.238095           0.895437   \n",
              "\n",
              "        Image size Total image volume Total object volume (pixels)  \\\n",
              "0    (124, 86, 94)            1002416                      33504.0   \n",
              "1                                                                    \n",
              "2                                                                    \n",
              "3                                                                    \n",
              "4                                                                    \n",
              "..             ...                ...                          ...   \n",
              "317                                                                  \n",
              "318                                                                  \n",
              "319                                                                  \n",
              "320                                                                  \n",
              "321                                                                  \n",
              "\n",
              "    Filling ratio Number objects  \n",
              "0        0.033423            322  \n",
              "1                                 \n",
              "2                                 \n",
              "3                                 \n",
              "4                                 \n",
              "..            ...            ...  \n",
              "317                               \n",
              "318                               \n",
              "319                               \n",
              "320                               \n",
              "321                               \n",
              "\n",
              "[322 rows x 10 columns]"
            ],
            "text/html": [
              "\n",
              "  <div id=\"df-d77c2b02-196a-4065-a702-d49385eda75d\" class=\"colab-df-container\">\n",
              "    <div>\n",
              "<style scoped>\n",
              "    .dataframe tbody tr th:only-of-type {\n",
              "        vertical-align: middle;\n",
              "    }\n",
              "\n",
              "    .dataframe tbody tr th {\n",
              "        vertical-align: top;\n",
              "    }\n",
              "\n",
              "    .dataframe thead th {\n",
              "        text-align: right;\n",
              "    }\n",
              "</style>\n",
              "<table border=\"1\" class=\"dataframe\">\n",
              "  <thead>\n",
              "    <tr style=\"text-align: right;\">\n",
              "      <th></th>\n",
              "      <th>Volume</th>\n",
              "      <th>Centroid x</th>\n",
              "      <th>Centroid y</th>\n",
              "      <th>Centroid z</th>\n",
              "      <th>Sphericity (axes)</th>\n",
              "      <th>Image size</th>\n",
              "      <th>Total image volume</th>\n",
              "      <th>Total object volume (pixels)</th>\n",
              "      <th>Filling ratio</th>\n",
              "      <th>Number objects</th>\n",
              "    </tr>\n",
              "  </thead>\n",
              "  <tbody>\n",
              "    <tr>\n",
              "      <th>0</th>\n",
              "      <td>190.0</td>\n",
              "      <td>5.405263</td>\n",
              "      <td>69.157895</td>\n",
              "      <td>36.210526</td>\n",
              "      <td>0.778113</td>\n",
              "      <td>(124, 86, 94)</td>\n",
              "      <td>1002416</td>\n",
              "      <td>33504.0</td>\n",
              "      <td>0.033423</td>\n",
              "      <td>322</td>\n",
              "    </tr>\n",
              "    <tr>\n",
              "      <th>1</th>\n",
              "      <td>18.0</td>\n",
              "      <td>5.833333</td>\n",
              "      <td>85.000000</td>\n",
              "      <td>83.944444</td>\n",
              "      <td>0.000007</td>\n",
              "      <td></td>\n",
              "      <td></td>\n",
              "      <td></td>\n",
              "      <td></td>\n",
              "      <td></td>\n",
              "    </tr>\n",
              "    <tr>\n",
              "      <th>2</th>\n",
              "      <td>67.0</td>\n",
              "      <td>7.283582</td>\n",
              "      <td>65.492537</td>\n",
              "      <td>92.059701</td>\n",
              "      <td>0.867751</td>\n",
              "      <td></td>\n",
              "      <td></td>\n",
              "      <td></td>\n",
              "      <td></td>\n",
              "      <td></td>\n",
              "    </tr>\n",
              "    <tr>\n",
              "      <th>3</th>\n",
              "      <td>108.0</td>\n",
              "      <td>10.324074</td>\n",
              "      <td>84.342593</td>\n",
              "      <td>68.861111</td>\n",
              "      <td>0.672490</td>\n",
              "      <td></td>\n",
              "      <td></td>\n",
              "      <td></td>\n",
              "      <td></td>\n",
              "      <td></td>\n",
              "    </tr>\n",
              "    <tr>\n",
              "      <th>4</th>\n",
              "      <td>35.0</td>\n",
              "      <td>9.428571</td>\n",
              "      <td>84.314286</td>\n",
              "      <td>92.600000</td>\n",
              "      <td>0.649649</td>\n",
              "      <td></td>\n",
              "      <td></td>\n",
              "      <td></td>\n",
              "      <td></td>\n",
              "      <td></td>\n",
              "    </tr>\n",
              "    <tr>\n",
              "      <th>...</th>\n",
              "      <td>...</td>\n",
              "      <td>...</td>\n",
              "      <td>...</td>\n",
              "      <td>...</td>\n",
              "      <td>...</td>\n",
              "      <td>...</td>\n",
              "      <td>...</td>\n",
              "      <td>...</td>\n",
              "      <td>...</td>\n",
              "      <td>...</td>\n",
              "    </tr>\n",
              "    <tr>\n",
              "      <th>317</th>\n",
              "      <td>11.0</td>\n",
              "      <td>122.363636</td>\n",
              "      <td>14.727273</td>\n",
              "      <td>25.000000</td>\n",
              "      <td>0.951651</td>\n",
              "      <td></td>\n",
              "      <td></td>\n",
              "      <td></td>\n",
              "      <td></td>\n",
              "      <td></td>\n",
              "    </tr>\n",
              "    <tr>\n",
              "      <th>318</th>\n",
              "      <td>24.0</td>\n",
              "      <td>122.166667</td>\n",
              "      <td>26.083333</td>\n",
              "      <td>38.083333</td>\n",
              "      <td>0.990075</td>\n",
              "      <td></td>\n",
              "      <td></td>\n",
              "      <td></td>\n",
              "      <td></td>\n",
              "      <td></td>\n",
              "    </tr>\n",
              "    <tr>\n",
              "      <th>319</th>\n",
              "      <td>16.0</td>\n",
              "      <td>122.125000</td>\n",
              "      <td>34.125000</td>\n",
              "      <td>36.500000</td>\n",
              "      <td>0.944672</td>\n",
              "      <td></td>\n",
              "      <td></td>\n",
              "      <td></td>\n",
              "      <td></td>\n",
              "      <td></td>\n",
              "    </tr>\n",
              "    <tr>\n",
              "      <th>320</th>\n",
              "      <td>13.0</td>\n",
              "      <td>122.076923</td>\n",
              "      <td>43.538462</td>\n",
              "      <td>53.615385</td>\n",
              "      <td>0.939852</td>\n",
              "      <td></td>\n",
              "      <td></td>\n",
              "      <td></td>\n",
              "      <td></td>\n",
              "      <td></td>\n",
              "    </tr>\n",
              "    <tr>\n",
              "      <th>321</th>\n",
              "      <td>21.0</td>\n",
              "      <td>122.523810</td>\n",
              "      <td>49.666667</td>\n",
              "      <td>36.238095</td>\n",
              "      <td>0.895437</td>\n",
              "      <td></td>\n",
              "      <td></td>\n",
              "      <td></td>\n",
              "      <td></td>\n",
              "      <td></td>\n",
              "    </tr>\n",
              "  </tbody>\n",
              "</table>\n",
              "<p>322 rows × 10 columns</p>\n",
              "</div>\n",
              "    <div class=\"colab-df-buttons\">\n",
              "\n",
              "  <div class=\"colab-df-container\">\n",
              "    <button class=\"colab-df-convert\" onclick=\"convertToInteractive('df-d77c2b02-196a-4065-a702-d49385eda75d')\"\n",
              "            title=\"Convert this dataframe to an interactive table.\"\n",
              "            style=\"display:none;\">\n",
              "\n",
              "  <svg xmlns=\"http://www.w3.org/2000/svg\" height=\"24px\" viewBox=\"0 -960 960 960\">\n",
              "    <path d=\"M120-120v-720h720v720H120Zm60-500h600v-160H180v160Zm220 220h160v-160H400v160Zm0 220h160v-160H400v160ZM180-400h160v-160H180v160Zm440 0h160v-160H620v160ZM180-180h160v-160H180v160Zm440 0h160v-160H620v160Z\"/>\n",
              "  </svg>\n",
              "    </button>\n",
              "\n",
              "  <style>\n",
              "    .colab-df-container {\n",
              "      display:flex;\n",
              "      gap: 12px;\n",
              "    }\n",
              "\n",
              "    .colab-df-convert {\n",
              "      background-color: #E8F0FE;\n",
              "      border: none;\n",
              "      border-radius: 50%;\n",
              "      cursor: pointer;\n",
              "      display: none;\n",
              "      fill: #1967D2;\n",
              "      height: 32px;\n",
              "      padding: 0 0 0 0;\n",
              "      width: 32px;\n",
              "    }\n",
              "\n",
              "    .colab-df-convert:hover {\n",
              "      background-color: #E2EBFA;\n",
              "      box-shadow: 0px 1px 2px rgba(60, 64, 67, 0.3), 0px 1px 3px 1px rgba(60, 64, 67, 0.15);\n",
              "      fill: #174EA6;\n",
              "    }\n",
              "\n",
              "    .colab-df-buttons div {\n",
              "      margin-bottom: 4px;\n",
              "    }\n",
              "\n",
              "    [theme=dark] .colab-df-convert {\n",
              "      background-color: #3B4455;\n",
              "      fill: #D2E3FC;\n",
              "    }\n",
              "\n",
              "    [theme=dark] .colab-df-convert:hover {\n",
              "      background-color: #434B5C;\n",
              "      box-shadow: 0px 1px 3px 1px rgba(0, 0, 0, 0.15);\n",
              "      filter: drop-shadow(0px 1px 2px rgba(0, 0, 0, 0.3));\n",
              "      fill: #FFFFFF;\n",
              "    }\n",
              "  </style>\n",
              "\n",
              "    <script>\n",
              "      const buttonEl =\n",
              "        document.querySelector('#df-d77c2b02-196a-4065-a702-d49385eda75d button.colab-df-convert');\n",
              "      buttonEl.style.display =\n",
              "        google.colab.kernel.accessAllowed ? 'block' : 'none';\n",
              "\n",
              "      async function convertToInteractive(key) {\n",
              "        const element = document.querySelector('#df-d77c2b02-196a-4065-a702-d49385eda75d');\n",
              "        const dataTable =\n",
              "          await google.colab.kernel.invokeFunction('convertToInteractive',\n",
              "                                                    [key], {});\n",
              "        if (!dataTable) return;\n",
              "\n",
              "        const docLinkHtml = 'Like what you see? Visit the ' +\n",
              "          '<a target=\"_blank\" href=https://colab.research.google.com/notebooks/data_table.ipynb>data table notebook</a>'\n",
              "          + ' to learn more about interactive tables.';\n",
              "        element.innerHTML = '';\n",
              "        dataTable['output_type'] = 'display_data';\n",
              "        await google.colab.output.renderOutput(dataTable, element);\n",
              "        const docLink = document.createElement('div');\n",
              "        docLink.innerHTML = docLinkHtml;\n",
              "        element.appendChild(docLink);\n",
              "      }\n",
              "    </script>\n",
              "  </div>\n",
              "\n",
              "\n",
              "<div id=\"df-a4e29aa3-fdf4-4375-8bef-bc657af5ebaa\">\n",
              "  <button class=\"colab-df-quickchart\" onclick=\"quickchart('df-a4e29aa3-fdf4-4375-8bef-bc657af5ebaa')\"\n",
              "            title=\"Suggest charts\"\n",
              "            style=\"display:none;\">\n",
              "\n",
              "<svg xmlns=\"http://www.w3.org/2000/svg\" height=\"24px\"viewBox=\"0 0 24 24\"\n",
              "     width=\"24px\">\n",
              "    <g>\n",
              "        <path d=\"M19 3H5c-1.1 0-2 .9-2 2v14c0 1.1.9 2 2 2h14c1.1 0 2-.9 2-2V5c0-1.1-.9-2-2-2zM9 17H7v-7h2v7zm4 0h-2V7h2v10zm4 0h-2v-4h2v4z\"/>\n",
              "    </g>\n",
              "</svg>\n",
              "  </button>\n",
              "\n",
              "<style>\n",
              "  .colab-df-quickchart {\n",
              "      --bg-color: #E8F0FE;\n",
              "      --fill-color: #1967D2;\n",
              "      --hover-bg-color: #E2EBFA;\n",
              "      --hover-fill-color: #174EA6;\n",
              "      --disabled-fill-color: #AAA;\n",
              "      --disabled-bg-color: #DDD;\n",
              "  }\n",
              "\n",
              "  [theme=dark] .colab-df-quickchart {\n",
              "      --bg-color: #3B4455;\n",
              "      --fill-color: #D2E3FC;\n",
              "      --hover-bg-color: #434B5C;\n",
              "      --hover-fill-color: #FFFFFF;\n",
              "      --disabled-bg-color: #3B4455;\n",
              "      --disabled-fill-color: #666;\n",
              "  }\n",
              "\n",
              "  .colab-df-quickchart {\n",
              "    background-color: var(--bg-color);\n",
              "    border: none;\n",
              "    border-radius: 50%;\n",
              "    cursor: pointer;\n",
              "    display: none;\n",
              "    fill: var(--fill-color);\n",
              "    height: 32px;\n",
              "    padding: 0;\n",
              "    width: 32px;\n",
              "  }\n",
              "\n",
              "  .colab-df-quickchart:hover {\n",
              "    background-color: var(--hover-bg-color);\n",
              "    box-shadow: 0 1px 2px rgba(60, 64, 67, 0.3), 0 1px 3px 1px rgba(60, 64, 67, 0.15);\n",
              "    fill: var(--button-hover-fill-color);\n",
              "  }\n",
              "\n",
              "  .colab-df-quickchart-complete:disabled,\n",
              "  .colab-df-quickchart-complete:disabled:hover {\n",
              "    background-color: var(--disabled-bg-color);\n",
              "    fill: var(--disabled-fill-color);\n",
              "    box-shadow: none;\n",
              "  }\n",
              "\n",
              "  .colab-df-spinner {\n",
              "    border: 2px solid var(--fill-color);\n",
              "    border-color: transparent;\n",
              "    border-bottom-color: var(--fill-color);\n",
              "    animation:\n",
              "      spin 1s steps(1) infinite;\n",
              "  }\n",
              "\n",
              "  @keyframes spin {\n",
              "    0% {\n",
              "      border-color: transparent;\n",
              "      border-bottom-color: var(--fill-color);\n",
              "      border-left-color: var(--fill-color);\n",
              "    }\n",
              "    20% {\n",
              "      border-color: transparent;\n",
              "      border-left-color: var(--fill-color);\n",
              "      border-top-color: var(--fill-color);\n",
              "    }\n",
              "    30% {\n",
              "      border-color: transparent;\n",
              "      border-left-color: var(--fill-color);\n",
              "      border-top-color: var(--fill-color);\n",
              "      border-right-color: var(--fill-color);\n",
              "    }\n",
              "    40% {\n",
              "      border-color: transparent;\n",
              "      border-right-color: var(--fill-color);\n",
              "      border-top-color: var(--fill-color);\n",
              "    }\n",
              "    60% {\n",
              "      border-color: transparent;\n",
              "      border-right-color: var(--fill-color);\n",
              "    }\n",
              "    80% {\n",
              "      border-color: transparent;\n",
              "      border-right-color: var(--fill-color);\n",
              "      border-bottom-color: var(--fill-color);\n",
              "    }\n",
              "    90% {\n",
              "      border-color: transparent;\n",
              "      border-bottom-color: var(--fill-color);\n",
              "    }\n",
              "  }\n",
              "</style>\n",
              "\n",
              "  <script>\n",
              "    async function quickchart(key) {\n",
              "      const quickchartButtonEl =\n",
              "        document.querySelector('#' + key + ' button');\n",
              "      quickchartButtonEl.disabled = true;  // To prevent multiple clicks.\n",
              "      quickchartButtonEl.classList.add('colab-df-spinner');\n",
              "      try {\n",
              "        const charts = await google.colab.kernel.invokeFunction(\n",
              "            'suggestCharts', [key], {});\n",
              "      } catch (error) {\n",
              "        console.error('Error during call to suggestCharts:', error);\n",
              "      }\n",
              "      quickchartButtonEl.classList.remove('colab-df-spinner');\n",
              "      quickchartButtonEl.classList.add('colab-df-quickchart-complete');\n",
              "    }\n",
              "    (() => {\n",
              "      let quickchartButtonEl =\n",
              "        document.querySelector('#df-a4e29aa3-fdf4-4375-8bef-bc657af5ebaa button');\n",
              "      quickchartButtonEl.style.display =\n",
              "        google.colab.kernel.accessAllowed ? 'block' : 'none';\n",
              "    })();\n",
              "  </script>\n",
              "</div>\n",
              "\n",
              "  <div id=\"id_3f080e68-cf05-4e04-88c9-0660e1c7a2ce\">\n",
              "    <style>\n",
              "      .colab-df-generate {\n",
              "        background-color: #E8F0FE;\n",
              "        border: none;\n",
              "        border-radius: 50%;\n",
              "        cursor: pointer;\n",
              "        display: none;\n",
              "        fill: #1967D2;\n",
              "        height: 32px;\n",
              "        padding: 0 0 0 0;\n",
              "        width: 32px;\n",
              "      }\n",
              "\n",
              "      .colab-df-generate:hover {\n",
              "        background-color: #E2EBFA;\n",
              "        box-shadow: 0px 1px 2px rgba(60, 64, 67, 0.3), 0px 1px 3px 1px rgba(60, 64, 67, 0.15);\n",
              "        fill: #174EA6;\n",
              "      }\n",
              "\n",
              "      [theme=dark] .colab-df-generate {\n",
              "        background-color: #3B4455;\n",
              "        fill: #D2E3FC;\n",
              "      }\n",
              "\n",
              "      [theme=dark] .colab-df-generate:hover {\n",
              "        background-color: #434B5C;\n",
              "        box-shadow: 0px 1px 3px 1px rgba(0, 0, 0, 0.15);\n",
              "        filter: drop-shadow(0px 1px 2px rgba(0, 0, 0, 0.3));\n",
              "        fill: #FFFFFF;\n",
              "      }\n",
              "    </style>\n",
              "    <button class=\"colab-df-generate\" onclick=\"generateWithVariable('data')\"\n",
              "            title=\"Generate code using this dataframe.\"\n",
              "            style=\"display:none;\">\n",
              "\n",
              "  <svg xmlns=\"http://www.w3.org/2000/svg\" height=\"24px\"viewBox=\"0 0 24 24\"\n",
              "       width=\"24px\">\n",
              "    <path d=\"M7,19H8.4L18.45,9,17,7.55,7,17.6ZM5,21V16.75L18.45,3.32a2,2,0,0,1,2.83,0l1.4,1.43a1.91,1.91,0,0,1,.58,1.4,1.91,1.91,0,0,1-.58,1.4L9.25,21ZM18.45,9,17,7.55Zm-12,3A5.31,5.31,0,0,0,4.9,8.1,5.31,5.31,0,0,0,1,6.5,5.31,5.31,0,0,0,4.9,4.9,5.31,5.31,0,0,0,6.5,1,5.31,5.31,0,0,0,8.1,4.9,5.31,5.31,0,0,0,12,6.5,5.46,5.46,0,0,0,6.5,12Z\"/>\n",
              "  </svg>\n",
              "    </button>\n",
              "    <script>\n",
              "      (() => {\n",
              "      const buttonEl =\n",
              "        document.querySelector('#id_3f080e68-cf05-4e04-88c9-0660e1c7a2ce button.colab-df-generate');\n",
              "      buttonEl.style.display =\n",
              "        google.colab.kernel.accessAllowed ? 'block' : 'none';\n",
              "\n",
              "      buttonEl.onclick = () => {\n",
              "        google.colab.notebook.generateWithVariable('data');\n",
              "      }\n",
              "      })();\n",
              "    </script>\n",
              "  </div>\n",
              "\n",
              "    </div>\n",
              "  </div>\n"
            ],
            "application/vnd.google.colaboratory.intrinsic+json": {
              "type": "dataframe",
              "variable_name": "data",
              "summary": "{\n  \"name\": \"data\",\n  \"rows\": 322,\n  \"fields\": [\n    {\n      \"column\": \"Volume\",\n      \"properties\": {\n        \"dtype\": \"number\",\n        \"std\": 54.38970963263131,\n        \"min\": 8.0,\n        \"max\": 252.0,\n        \"num_unique_values\": 157,\n        \"samples\": [\n          14.0,\n          124.0,\n          169.0\n        ],\n        \"semantic_type\": \"\",\n        \"description\": \"\"\n      }\n    },\n    {\n      \"column\": \"Centroid x\",\n      \"properties\": {\n        \"dtype\": \"number\",\n        \"std\": 31.084053076294715,\n        \"min\": 5.405263157894737,\n        \"max\": 122.52380952380952,\n        \"num_unique_values\": 321,\n        \"samples\": [\n          73.65806451612903,\n          60.0,\n          81.18303571428571\n        ],\n        \"semantic_type\": \"\",\n        \"description\": \"\"\n      }\n    },\n    {\n      \"column\": \"Centroid y\",\n      \"properties\": {\n        \"dtype\": \"number\",\n        \"std\": 25.419664210044758,\n        \"min\": 0.0,\n        \"max\": 85.0,\n        \"num_unique_values\": 320,\n        \"samples\": [\n          0.6310679611650486,\n          1.7452229299363058,\n          13.709401709401709\n        ],\n        \"semantic_type\": \"\",\n        \"description\": \"\"\n      }\n    },\n    {\n      \"column\": \"Centroid z\",\n      \"properties\": {\n        \"dtype\": \"number\",\n        \"std\": 27.685581861438635,\n        \"min\": 0.12903225806451613,\n        \"max\": 93.0,\n        \"num_unique_values\": 320,\n        \"samples\": [\n          12.174757281553399,\n          10.108695652173912,\n          70.51282051282051\n        ],\n        \"semantic_type\": \"\",\n        \"description\": \"\"\n      }\n    },\n    {\n      \"column\": \"Sphericity (axes)\",\n      \"properties\": {\n        \"dtype\": \"number\",\n        \"std\": 0.12590741777097128,\n        \"min\": 5.583882595237912e-06,\n        \"max\": 0.9900749841550203,\n        \"num_unique_values\": 318,\n        \"samples\": [\n          0.8007911710122612,\n          0.8283576063212563,\n          0.7547372074750549\n        ],\n        \"semantic_type\": \"\",\n        \"description\": \"\"\n      }\n    },\n    {\n      \"column\": \"Image size\",\n      \"properties\": {\n        \"dtype\": \"category\",\n        \"num_unique_values\": 2,\n        \"samples\": [\n          \"\",\n          [\n            124,\n            86,\n            94\n          ]\n        ],\n        \"semantic_type\": \"\",\n        \"description\": \"\"\n      }\n    },\n    {\n      \"column\": \"Total image volume\",\n      \"properties\": {\n        \"dtype\": \"date\",\n        \"min\": \"1970-01-01 00:00:00.001002416\",\n        \"max\": \"1970-01-01 00:00:00.001002416\",\n        \"num_unique_values\": 2,\n        \"samples\": [\n          \"\",\n          1002416\n        ],\n        \"semantic_type\": \"\",\n        \"description\": \"\"\n      }\n    },\n    {\n      \"column\": \"Total object volume (pixels)\",\n      \"properties\": {\n        \"dtype\": \"date\",\n        \"min\": \"1970-01-01 00:00:00.000033504\",\n        \"max\": \"1970-01-01 00:00:00.000033504\",\n        \"num_unique_values\": 2,\n        \"samples\": [\n          \"\",\n          33504.0\n        ],\n        \"semantic_type\": \"\",\n        \"description\": \"\"\n      }\n    },\n    {\n      \"column\": \"Filling ratio\",\n      \"properties\": {\n        \"dtype\": \"date\",\n        \"min\": \"1970-01-01 00:00:00\",\n        \"max\": \"1970-01-01 00:00:00\",\n        \"num_unique_values\": 2,\n        \"samples\": [\n          \"\",\n          0.03342324942937862\n        ],\n        \"semantic_type\": \"\",\n        \"description\": \"\"\n      }\n    },\n    {\n      \"column\": \"Number objects\",\n      \"properties\": {\n        \"dtype\": \"date\",\n        \"min\": \"1970-01-01 00:00:00.000000322\",\n        \"max\": \"1970-01-01 00:00:00.000000322\",\n        \"num_unique_values\": 2,\n        \"samples\": [\n          \"\",\n          322\n        ],\n        \"semantic_type\": \"\",\n        \"description\": \"\"\n      }\n    }\n  ]\n}"
            }
          },
          "metadata": {}
        }
      ],
      "source": [
        "# @title Display the statistics\n",
        "# @markdown This cell displays the statistics of the post-processed result.\n",
        "import pandas as pd\n",
        "data = pd.DataFrame(stats.get_dict())\n",
        "display(data)"
      ]
    },
    {
      "cell_type": "code",
      "execution_count": 13,
      "metadata": {
        "id": "0NhZ-YksAm-1",
        "colab": {
          "base_uri": "https://localhost:8080/",
          "height": 617
        },
        "outputId": "15904f15-5b1c-4b04-8b09-265c42a20e3a"
      },
      "outputs": [
        {
          "output_type": "display_data",
          "data": {
            "text/html": [
              "<html>\n",
              "<head><meta charset=\"utf-8\" /></head>\n",
              "<body>\n",
              "    <div>            <script src=\"https://cdnjs.cloudflare.com/ajax/libs/mathjax/2.7.5/MathJax.js?config=TeX-AMS-MML_SVG\"></script><script type=\"text/javascript\">if (window.MathJax && window.MathJax.Hub && window.MathJax.Hub.Config) {window.MathJax.Hub.Config({SVG: {font: \"STIX-Web\"}});}</script>                <script type=\"text/javascript\">window.PlotlyConfig = {MathJaxConfig: 'local'};</script>\n",
              "        <script charset=\"utf-8\" src=\"https://cdn.plot.ly/plotly-2.35.2.min.js\"></script>                <div id=\"8deab5b9-b248-4c1d-87d5-11a07fc83a2e\" class=\"plotly-graph-div\" style=\"height:600px; width:600px;\"></div>            <script type=\"text/javascript\">                                    window.PLOTLYENV=window.PLOTLYENV || {};                                    if (document.getElementById(\"8deab5b9-b248-4c1d-87d5-11a07fc83a2e\")) {                    Plotly.newPlot(                        \"8deab5b9-b248-4c1d-87d5-11a07fc83a2e\",                        [{\"marker\":{\"color\":[0.778113390202937,6.558316081073915e-6,0.867751475892805,0.6724900551194709,0.6496490311342586,0.8246136966402009,0.7564260205176848,0.8271111699393157,0.8070813964957488,0.7840060626353534,0.8089985632004811,0.8588506896200916,0.6987396275295018,0.7889248536597118,0.7854836813370756,0.7394830976269474,0.8659601816206957,0.7878115144422543,0.7521520338211111,0.5570379015948256,0.7318612535524267,0.7262666341866264,0.7083224324907276,0.9248958719841396,0.7647267562412867,0.7547372074750549,0.7693309055842059,0.7781185148003501,0.7962006819979509,0.6649216461488935,0.7725328820841297,0.842399311969007,0.8452056340289527,0.7806666258821982,0.5667397622079641,7.940489013120586e-6,0.8176156092253656,0.7242677866127719,0.8201079089322325,0.7810788653636126,0.8488492112479908,0.8210911487736938,0.6957888294756901,0.8602101234784469,0.6871667277409662,0.7669035105871386,0.7731588551377598,0.7425174395529056,0.77768152786344,0.8811555134259321,0.8052242846571472,0.8795104733644415,0.7250436239874803,0.8503350980256531,0.7534658674063914,0.8170659689860806,0.6806824652877743,0.6401202553198899,0.8590750987922077,0.794377177731228,0.7779788855778988,0.7813735157594324,0.8951453908958751,0.633227242278556,0.8340711142728079,0.7330275786854215,0.8018412299847716,0.6743652292152279,0.8499244557640541,0.7497650828484949,0.8281814846290728,0.8739214958223238,0.6119729239288948,0.8007911710122612,0.7392870697671103,0.6970050432220537,0.8436131718960269,0.7571491153660286,0.7820761638796572,0.7620077386388721,0.8328302064016561,0.8871059807542431,0.7160098125382697,0.8553881511030408,0.868777140652046,0.8022420014627172,0.830113939976319,0.7793760640557921,0.7883007432602178,0.9338888651344114,0.8081082931399346,0.8174294872540653,0.7023696337309762,0.7632613998483894,0.6355088679759815,0.81573788846251,0.7909892735959708,0.832383007975085,0.8824729922804135,0.8065083021144972,0.780843787108465,0.7747858820561124,0.6287183856709879,0.7482765345192566,0.8520915320695746,0.7685246588756106,0.8165255682790422,0.8084477448724405,0.7211011956290346,0.8584734207950676,0.8217691171733087,0.7235325702030203,0.6604403694587387,0.7381310115585034,0.7489281354250643,0.5945891947030343,0.8649104048121596,0.6804773863424775,0.8114039553027084,0.7967987047891946,0.8428103560559458,0.7459430890826151,0.874679379730978,0.7392380873630052,0.9040334481361451,0.8552670614370991,0.9241377861198946,0.6624390541163084,0.7929275888603069,0.6978989404786817,0.9259756147470455,0.8263404755621953,0.703329247227603,0.91903304391195,0.8550555092038198,0.9404425207814228,0.5419800741729619,0.8284575495139794,0.972774248269205,0.9562509202340264,0.886472334719427,0.761813436774737,0.9381318651589121,0.961524272919319,0.8722737181828836,0.5903286692377033,0.6780307898287445,0.8110059733757264,0.7522635012666123,0.8670359829514068,0.846690569649179,0.8940458821079014,0.7381531838318729,0.8010761916386313,0.9068780826807774,0.9282364352259017,0.8675469907491342,0.8281889026884831,0.9367699361070071,0.8639987736304167,0.9062794315225641,0.7591915183667288,0.8359966193342523,0.8759028205233381,0.7905614083817938,0.7362743161869206,0.5572087841505454,0.7054983536058135,0.7887824292688123,0.814810692590067,0.8127053251049775,0.8475395962667132,0.828326197395962,0.7624425593351521,0.8259625202511736,0.8533435299422558,0.9740195368989969,0.7876297844581062,0.8247915360240446,0.7839015626697039,0.6198837265530422,0.8890263811760847,null,0.7979693612714966,0.8337842214849572,0.7624935081922793,0.7688585249695061,0.9558005500101587,0.7548868685903825,0.7724867786074615,0.8070810644906504,0.732602481074811,0.8595035801463005,0.6753116202648566,0.7548376961947919,0.9449210138026739,0.8936340256404057,0.8281889026884831,0.7931521369510885,0.8337476179497025,0.8011609622174488,0.881710599475175,0.8142547487644628,0.6964884834386188,0.7454754368548142,0.827829423263016,0.73463404655604,0.6808217886559998,0.8249234486672644,0.9015807287768421,0.7713257023563137,0.8835216183731868,0.7872383869148422,0.7565313456274333,0.7901530802925946,0.773810232567798,0.8127095426499865,0.7627105948699767,0.753870912074412,0.7724721070098893,0.7822571915931414,0.9398515888365079,0.713440735965567,null,0.6041424902867837,0.7275405936438452,0.6885781845007924,0.850437600779349,0.7840976559052786,0.5553255720610456,0.9088515140762067,0.8749112664751952,0.7254347427185602,0.7689305572372894,0.7923589565084141,0.863873697577161,6.71331380035703e-6,0.7192740614815127,0.5571031469746139,0.7733184898876263,0.7959519968683676,0.5752785943785209,0.751302730749892,0.7668542610127224,0.5906950913060239,0.794294554572267,0.8173452577313502,0.7645672787327557,0.733039147040728,0.7716646096063902,0.7520063304524814,5.583882595237912e-6,0.7973077446818124,0.7183447982043774,0.7447116166746873,0.844129125786452,0.7352167623155893,0.7868829969761904,0.734875499714706,0.6006375393661342,0.8424287120810539,0.7839961084795855,0.8037261499562866,0.7395324243595747,0.7262949827743476,0.802500012929287,0.8809378060153551,0.7543454148591262,0.7523090786288549,0.7958175426759204,0.749723784743812,0.6513870665380144,0.8242624064255487,0.8155352305519566,0.9197573952862466,0.7956156214155228,null,0.7766822051296737,0.9330814272359151,0.7905863373483205,0.837978207195673,0.8283576063212563,0.7494975771645394,0.7342884533350307,0.7739485134155895,0.8585209951159908,0.8960508966122267,0.9681327202074939,0.811919201082691,0.9074639550955422,0.8292449596599585,0.7906422126616623,0.6436912736364125,0.6091041209085813,0.8184803524992673,0.8612338677746867,0.8913225163756873,0.8375171306304823,0.8653165099441623,0.9084291694718984,0.7816307121264733,0.9142951206988724,0.9067334402135291,0.9049284454999488,0.958810386411596,0.8843543816951562,0.9452545732695448,0.9218788058297961,0.9489110329218354,0.9580572953515045,0.8465986705667612,0.9535777516317652,0.9540929717363331,0.915457237420048,0.9563544358908617,0.9321321315305359,0.9563388726186385,0.9516514280931873,0.9900749841550203,0.9446720778043645,0.9398515888365081,0.8954372940602553],\"colorbar\":{\"title\":{\"text\":\"Sphericity\"}},\"colorscale\":[[0.0,\"#7a0402\"],[0.07142857142857142,\"#b11901\"],[0.14285714285714285,\"#d93806\"],[0.21428571428571427,\"#f36315\"],[0.2857142857142857,\"#fe9b2d\"],[0.35714285714285715,\"#f3c63a\"],[0.42857142857142855,\"#d1e834\"],[0.5,\"#a4fc3b\"],[0.5714285714285714,\"#61fc6c\"],[0.6428571428571429,\"#24eca6\"],[0.7142857142857143,\"#1bcfd4\"],[0.7857142857142857,\"#39a2fc\"],[0.8571428571428571,\"#4675ed\"],[0.9285714285714286,\"#4145ab\"],[1.0,\"#30123b\"]],\"line\":{\"color\":\"rgb(140, 140, 170)\"},\"size\":[190.0,18.0,67.0,108.0,35.0,121.0,32.0,92.0,132.0,103.0,137.0,48.0,111.0,104.0,56.0,142.0,116.0,126.0,109.0,92.0,88.0,123.0,122.0,40.0,137.0,117.0,152.0,129.0,147.0,189.0,100.0,90.0,129.0,130.0,31.0,13.0,92.0,154.0,123.0,82.0,93.0,137.0,126.0,104.0,207.0,178.0,139.0,128.0,140.0,36.0,165.0,93.0,125.0,91.0,124.0,95.0,78.0,21.0,55.0,94.0,100.0,170.0,95.0,165.0,83.0,171.0,117.0,46.0,24.0,123.0,86.0,42.0,53.0,96.0,130.0,179.0,46.0,135.0,130.0,120.0,124.0,93.0,156.0,33.0,110.0,122.0,23.0,156.0,99.0,39.0,202.0,121.0,36.0,105.0,33.0,98.0,99.0,110.0,91.0,131.0,168.0,150.0,37.0,172.0,23.0,150.0,47.0,127.0,127.0,141.0,123.0,52.0,148.0,118.0,138.0,43.0,114.0,137.0,133.0,133.0,118.0,133.0,129.0,131.0,37.0,98.0,19.0,180.0,113.0,116.0,70.0,120.0,170.0,63.0,155.0,112.0,25.0,25.0,51.0,79.0,34.0,187.0,8.0,44.0,174.0,62.0,168.0,107.0,232.0,109.0,17.0,144.0,141.0,106.0,20.0,26.0,79.0,18.0,77.0,73.0,63.0,221.0,170.0,86.0,117.0,147.0,32.0,103.0,202.0,134.0,133.0,30.0,92.0,137.0,155.0,11.0,21.0,118.0,147.0,104.0,99.0,108.0,8.0,74.0,130.0,157.0,154.0,12.0,160.0,175.0,151.0,126.0,45.0,252.0,162.0,24.0,47.0,18.0,224.0,135.0,168.0,14.0,147.0,212.0,132.0,170.0,149.0,139.0,170.0,49.0,155.0,163.0,166.0,175.0,129.0,170.0,125.0,143.0,116.0,163.0,120.0,13.0,169.0,12.0,45.0,157.0,199.0,22.0,133.0,45.0,18.0,157.0,138.0,8.0,167.0,137.0,11.0,119.0,43.0,166.0,118.0,42.0,125.0,165.0,52.0,20.0,93.0,202.0,144.0,134.0,123.0,16.0,117.0,130.0,165.0,136.0,222.0,190.0,107.0,27.0,105.0,137.0,123.0,177.0,192.0,164.0,149.0,140.0,135.0,170.0,99.0,96.0,145.0,156.0,64.0,145.0,8.0,105.0,15.0,126.0,124.0,137.0,150.0,151.0,163.0,124.0,85.0,13.0,146.0,121.0,107.0,123.0,49.0,62.0,12.0,113.0,117.0,100.0,80.0,83.0,61.0,96.0,75.0,72.0,103.0,51.0,101.0,44.0,54.0,44.0,26.0,25.0,27.0,14.0,28.0,25.0,17.0,11.0,24.0,16.0,13.0,21.0],\"sizemin\":20,\"sizemode\":\"diameter\",\"sizeref\":30},\"mode\":\"markers\",\"x\":[5.0,5.0,7.0,10.0,9.0,12.0,12.0,14.0,16.0,17.0,20.0,16.0,20.0,20.0,20.0,22.0,21.0,23.0,22.0,26.0,25.0,26.0,26.0,23.0,27.0,27.0,28.0,29.0,29.0,31.0,29.0,28.0,30.0,30.0,28.0,28.0,31.0,33.0,31.0,31.0,31.0,31.0,33.0,31.0,36.0,34.0,34.0,34.0,33.0,31.0,35.0,33.0,37.0,35.0,38.0,35.0,37.0,34.0,36.0,37.0,40.0,41.0,38.0,43.0,39.0,43.0,42.0,40.0,38.0,44.0,42.0,41.0,42.0,43.0,44.0,45.0,42.0,45.0,44.0,45.0,44.0,44.0,47.0,43.0,45.0,46.0,44.0,49.0,48.0,45.0,49.0,49.0,47.0,50.0,47.0,49.0,50.0,51.0,50.0,52.0,53.0,53.0,50.0,54.0,50.0,54.0,51.0,53.0,54.0,52.0,52.0,53.0,57.0,55.0,55.0,53.0,56.0,57.0,57.0,58.0,56.0,58.0,58.0,59.0,56.0,58.0,56.0,63.0,60.0,61.0,59.0,61.0,64.0,60.0,62.0,61.0,59.0,60.0,60.0,61.0,60.0,66.0,58.0,60.0,64.0,64.0,67.0,63.0,66.0,65.0,62.0,66.0,67.0,65.0,63.0,64.0,65.0,63.0,64.0,65.0,65.0,70.0,69.0,65.0,69.0,70.0,68.0,72.0,71.0,70.0,70.0,68.0,70.0,72.0,73.0,69.0,69.0,73.0,72.0,73.0,75.0,73.0,70.0,74.0,75.0,76.0,76.0,72.0,77.0,78.0,78.0,79.0,76.0,81.0,80.0,75.0,77.0,77.0,81.0,80.0,82.0,77.0,82.0,86.0,83.0,81.0,84.0,83.0,83.0,81.0,84.0,84.0,84.0,86.0,85.0,87.0,85.0,86.0,85.0,87.0,88.0,83.0,88.0,84.0,87.0,90.0,92.0,86.0,90.0,89.0,87.0,90.0,92.0,88.0,93.0,93.0,90.0,94.0,92.0,94.0,94.0,95.0,97.0,97.0,95.0,94.0,96.0,100.0,100.0,99.0,98.0,95.0,101.0,102.0,104.0,100.0,106.0,104.0,103.0,101.0,102.0,106.0,105.0,107.0,107.0,108.0,106.0,107.0,107.0,107.0,106.0,108.0,108.0,109.0,108.0,109.0,104.0,110.0,108.0,111.0,112.0,112.0,113.0,113.0,113.0,114.0,113.0,112.0,116.0,113.0,116.0,117.0,116.0,116.0,115.0,119.0,119.0,119.0,120.0,120.0,120.0,120.0,120.0,120.0,120.0,120.0,120.0,121.0,121.0,121.0,121.0,121.0,121.0,122.0,121.0,121.0,122.0,122.0,122.0,122.0,122.0,122.0],\"y\":[69.0,85.0,65.0,84.0,84.0,49.0,60.0,68.0,21.0,78.0,47.0,49.0,75.0,66.0,34.0,55.0,70.0,77.0,82.0,84.0,63.0,77.0,80.0,32.0,58.0,13.0,61.0,46.0,49.0,80.0,22.0,68.0,18.0,53.0,71.0,58.0,62.0,78.0,81.0,57.0,62.0,63.0,71.0,71.0,16.0,35.0,51.0,52.0,73.0,7.0,40.0,44.0,40.0,64.0,63.0,72.0,24.0,50.0,48.0,68.0,44.0,57.0,63.0,71.0,76.0,43.0,77.0,83.0,39.0,67.0,23.0,46.0,49.0,49.0,80.0,83.0,17.0,20.0,36.0,40.0,79.0,13.0,73.0,3.0,51.0,63.0,5.0,7.0,23.0,48.0,75.0,12.0,24.0,41.0,84.0,23.0,68.0,71.0,13.0,23.0,41.0,45.0,83.0,12.0,26.0,36.0,54.0,71.0,74.0,78.0,50.0,84.0,13.0,30.0,41.0,84.0,20.0,68.0,15.0,21.0,24.0,31.0,31.0,57.0,39.0,43.0,15.0,35.0,47.0,84.0,17.0,69.0,81.0,83.0,26.0,32.0,84.0,2.0,9.0,20.0,39.0,41.0,47.0,61.0,72.0,47.0,54.0,80.0,83.0,22.0,42.0,35.0,52.0,80.0,9.0,19.0,20.0,54.0,8.0,17.0,61.0,75.0,76.0,83.0,8.0,26.0,81.0,0.0,13.0,57.0,67.0,34.0,66.0,67.0,33.0,49.0,25.0,56.0,71.0,73.0,7.0,21.0,85.0,5.0,8.0,10.0,41.0,18.0,27.0,18.0,38.0,7.0,7.0,12.0,2.0,35.0,1.0,26.0,76.0,3.0,8.0,70.0,4.0,9.0,15.0,35.0,61.0,9.0,36.0,52.0,70.0,3.0,68.0,19.0,26.0,29.0,32.0,51.0,60.0,82.0,24.0,51.0,52.0,18.0,41.0,69.0,3.0,62.0,82.0,4.0,76.0,1.0,38.0,33.0,44.0,64.0,0.0,4.0,6.0,32.0,23.0,0.0,20.0,50.0,84.0,31.0,40.0,15.0,28.0,48.0,53.0,85.0,6.0,73.0,29.0,64.0,2.0,8.0,57.0,63.0,69.0,22.0,22.0,55.0,68.0,3.0,37.0,37.0,44.0,45.0,54.0,0.0,62.0,10.0,61.0,65.0,66.0,15.0,15.0,78.0,20.0,26.0,28.0,33.0,81.0,43.0,38.0,22.0,37.0,62.0,82.0,35.0,57.0,84.0,73.0,74.0,5.0,27.0,10.0,14.0,42.0,52.0,78.0,13.0,20.0,21.0,40.0,22.0,42.0,46.0,60.0,5.0,6.0,24.0,31.0,68.0,70.0,14.0,26.0,34.0,43.0,49.0],\"z\":[36.0,83.0,92.0,68.0,92.0,86.0,86.0,76.0,76.0,37.0,88.0,66.0,19.0,28.0,62.0,81.0,74.0,85.0,34.0,10.0,34.0,54.0,6.0,11.0,60.0,70.0,30.0,79.0,53.0,41.0,44.0,67.0,60.0,91.0,0.0,93.0,44.0,26.0,4.0,54.0,85.0,72.0,17.0,66.0,13.0,28.0,76.0,33.0,89.0,84.0,90.0,68.0,13.0,69.0,55.0,64.0,0.0,0.0,60.0,85.0,53.0,38.0,89.0,37.0,19.0,37.0,15.0,92.0,64.0,64.0,54.0,17.0,92.0,42.0,20.0,58.0,18.0,41.0,65.0,26.0,48.0,32.0,9.0,67.0,78.0,81.0,90.0,61.0,47.0,10.0,71.0,26.0,21.0,10.0,27.0,28.0,16.0,72.0,33.0,85.0,89.0,21.0,0.0,15.0,8.0,36.0,17.0,49.0,27.0,50.0,78.0,52.0,71.0,0.0,40.0,30.0,35.0,65.0,81.0,58.0,22.0,70.0,62.0,91.0,45.0,71.0,53.0,3.0,10.0,71.0,19.0,32.0,28.0,35.0,23.0,59.0,53.0,80.0,71.0,38.0,47.0,56.0,82.0,53.0,40.0,0.0,16.0,7.0,84.0,14.0,16.0,61.0,21.0,3.0,49.0,0.0,37.0,6.0,71.0,19.0,53.0,31.0,83.0,35.0,57.0,1.0,0.0,12.0,74.0,40.0,17.0,51.0,91.0,44.0,32.0,92.0,46.0,11.0,38.0,90.0,92.0,11.0,19.0,15.0,42.0,68.0,3.0,73.0,60.0,1.0,70.0,4.0,73.0,34.0,36.0,42.0,27.0,6.0,28.0,9.0,57.0,89.0,43.0,14.0,56.0,32.0,21.0,86.0,63.0,56.0,28.0,70.0,43.0,68.0,71.0,36.0,73.0,39.0,3.0,72.0,63.0,87.0,26.0,93.0,0.0,19.0,82.0,7.0,80.0,0.0,88.0,72.0,10.0,14.0,64.0,14.0,92.0,12.0,92.0,57.0,74.0,42.0,33.0,37.0,29.0,65.0,1.0,71.0,62.0,1.0,44.0,89.0,37.0,1.0,35.0,13.0,67.0,85.0,8.0,0.0,90.0,49.0,59.0,35.0,23.0,50.0,38.0,48.0,34.0,56.0,21.0,43.0,77.0,33.0,45.0,52.0,70.0,75.0,92.0,11.0,16.0,48.0,82.0,55.0,52.0,28.0,37.0,9.0,12.0,45.0,33.0,82.0,0.0,69.0,10.0,46.0,54.0,4.0,59.0,9.0,8.0,34.0,28.0,46.0,16.0,25.0,25.0,5.0,59.0,31.0,32.0,85.0,24.0,13.0,25.0,30.0,72.0,25.0,38.0,36.0,53.0,36.0],\"type\":\"scatter3d\"}],                        {\"template\":{\"data\":{\"histogram2dcontour\":[{\"type\":\"histogram2dcontour\",\"colorbar\":{\"outlinewidth\":0,\"ticks\":\"\"},\"colorscale\":[[0.0,\"#0d0887\"],[0.1111111111111111,\"#46039f\"],[0.2222222222222222,\"#7201a8\"],[0.3333333333333333,\"#9c179e\"],[0.4444444444444444,\"#bd3786\"],[0.5555555555555556,\"#d8576b\"],[0.6666666666666666,\"#ed7953\"],[0.7777777777777778,\"#fb9f3a\"],[0.8888888888888888,\"#fdca26\"],[1.0,\"#f0f921\"]]}],\"choropleth\":[{\"type\":\"choropleth\",\"colorbar\":{\"outlinewidth\":0,\"ticks\":\"\"}}],\"histogram2d\":[{\"type\":\"histogram2d\",\"colorbar\":{\"outlinewidth\":0,\"ticks\":\"\"},\"colorscale\":[[0.0,\"#0d0887\"],[0.1111111111111111,\"#46039f\"],[0.2222222222222222,\"#7201a8\"],[0.3333333333333333,\"#9c179e\"],[0.4444444444444444,\"#bd3786\"],[0.5555555555555556,\"#d8576b\"],[0.6666666666666666,\"#ed7953\"],[0.7777777777777778,\"#fb9f3a\"],[0.8888888888888888,\"#fdca26\"],[1.0,\"#f0f921\"]]}],\"heatmap\":[{\"type\":\"heatmap\",\"colorbar\":{\"outlinewidth\":0,\"ticks\":\"\"},\"colorscale\":[[0.0,\"#0d0887\"],[0.1111111111111111,\"#46039f\"],[0.2222222222222222,\"#7201a8\"],[0.3333333333333333,\"#9c179e\"],[0.4444444444444444,\"#bd3786\"],[0.5555555555555556,\"#d8576b\"],[0.6666666666666666,\"#ed7953\"],[0.7777777777777778,\"#fb9f3a\"],[0.8888888888888888,\"#fdca26\"],[1.0,\"#f0f921\"]]}],\"heatmapgl\":[{\"type\":\"heatmapgl\",\"colorbar\":{\"outlinewidth\":0,\"ticks\":\"\"},\"colorscale\":[[0.0,\"#0d0887\"],[0.1111111111111111,\"#46039f\"],[0.2222222222222222,\"#7201a8\"],[0.3333333333333333,\"#9c179e\"],[0.4444444444444444,\"#bd3786\"],[0.5555555555555556,\"#d8576b\"],[0.6666666666666666,\"#ed7953\"],[0.7777777777777778,\"#fb9f3a\"],[0.8888888888888888,\"#fdca26\"],[1.0,\"#f0f921\"]]}],\"contourcarpet\":[{\"type\":\"contourcarpet\",\"colorbar\":{\"outlinewidth\":0,\"ticks\":\"\"}}],\"contour\":[{\"type\":\"contour\",\"colorbar\":{\"outlinewidth\":0,\"ticks\":\"\"},\"colorscale\":[[0.0,\"#0d0887\"],[0.1111111111111111,\"#46039f\"],[0.2222222222222222,\"#7201a8\"],[0.3333333333333333,\"#9c179e\"],[0.4444444444444444,\"#bd3786\"],[0.5555555555555556,\"#d8576b\"],[0.6666666666666666,\"#ed7953\"],[0.7777777777777778,\"#fb9f3a\"],[0.8888888888888888,\"#fdca26\"],[1.0,\"#f0f921\"]]}],\"surface\":[{\"type\":\"surface\",\"colorbar\":{\"outlinewidth\":0,\"ticks\":\"\"},\"colorscale\":[[0.0,\"#0d0887\"],[0.1111111111111111,\"#46039f\"],[0.2222222222222222,\"#7201a8\"],[0.3333333333333333,\"#9c179e\"],[0.4444444444444444,\"#bd3786\"],[0.5555555555555556,\"#d8576b\"],[0.6666666666666666,\"#ed7953\"],[0.7777777777777778,\"#fb9f3a\"],[0.8888888888888888,\"#fdca26\"],[1.0,\"#f0f921\"]]}],\"mesh3d\":[{\"type\":\"mesh3d\",\"colorbar\":{\"outlinewidth\":0,\"ticks\":\"\"}}],\"scatter\":[{\"fillpattern\":{\"fillmode\":\"overlay\",\"size\":10,\"solidity\":0.2},\"type\":\"scatter\"}],\"parcoords\":[{\"type\":\"parcoords\",\"line\":{\"colorbar\":{\"outlinewidth\":0,\"ticks\":\"\"}}}],\"scatterpolargl\":[{\"type\":\"scatterpolargl\",\"marker\":{\"colorbar\":{\"outlinewidth\":0,\"ticks\":\"\"}}}],\"bar\":[{\"error_x\":{\"color\":\"#2a3f5f\"},\"error_y\":{\"color\":\"#2a3f5f\"},\"marker\":{\"line\":{\"color\":\"#E5ECF6\",\"width\":0.5},\"pattern\":{\"fillmode\":\"overlay\",\"size\":10,\"solidity\":0.2}},\"type\":\"bar\"}],\"scattergeo\":[{\"type\":\"scattergeo\",\"marker\":{\"colorbar\":{\"outlinewidth\":0,\"ticks\":\"\"}}}],\"scatterpolar\":[{\"type\":\"scatterpolar\",\"marker\":{\"colorbar\":{\"outlinewidth\":0,\"ticks\":\"\"}}}],\"histogram\":[{\"marker\":{\"pattern\":{\"fillmode\":\"overlay\",\"size\":10,\"solidity\":0.2}},\"type\":\"histogram\"}],\"scattergl\":[{\"type\":\"scattergl\",\"marker\":{\"colorbar\":{\"outlinewidth\":0,\"ticks\":\"\"}}}],\"scatter3d\":[{\"type\":\"scatter3d\",\"line\":{\"colorbar\":{\"outlinewidth\":0,\"ticks\":\"\"}},\"marker\":{\"colorbar\":{\"outlinewidth\":0,\"ticks\":\"\"}}}],\"scattermapbox\":[{\"type\":\"scattermapbox\",\"marker\":{\"colorbar\":{\"outlinewidth\":0,\"ticks\":\"\"}}}],\"scatterternary\":[{\"type\":\"scatterternary\",\"marker\":{\"colorbar\":{\"outlinewidth\":0,\"ticks\":\"\"}}}],\"scattercarpet\":[{\"type\":\"scattercarpet\",\"marker\":{\"colorbar\":{\"outlinewidth\":0,\"ticks\":\"\"}}}],\"carpet\":[{\"aaxis\":{\"endlinecolor\":\"#2a3f5f\",\"gridcolor\":\"white\",\"linecolor\":\"white\",\"minorgridcolor\":\"white\",\"startlinecolor\":\"#2a3f5f\"},\"baxis\":{\"endlinecolor\":\"#2a3f5f\",\"gridcolor\":\"white\",\"linecolor\":\"white\",\"minorgridcolor\":\"white\",\"startlinecolor\":\"#2a3f5f\"},\"type\":\"carpet\"}],\"table\":[{\"cells\":{\"fill\":{\"color\":\"#EBF0F8\"},\"line\":{\"color\":\"white\"}},\"header\":{\"fill\":{\"color\":\"#C8D4E3\"},\"line\":{\"color\":\"white\"}},\"type\":\"table\"}],\"barpolar\":[{\"marker\":{\"line\":{\"color\":\"#E5ECF6\",\"width\":0.5},\"pattern\":{\"fillmode\":\"overlay\",\"size\":10,\"solidity\":0.2}},\"type\":\"barpolar\"}],\"pie\":[{\"automargin\":true,\"type\":\"pie\"}]},\"layout\":{\"autotypenumbers\":\"strict\",\"colorway\":[\"#636efa\",\"#EF553B\",\"#00cc96\",\"#ab63fa\",\"#FFA15A\",\"#19d3f3\",\"#FF6692\",\"#B6E880\",\"#FF97FF\",\"#FECB52\"],\"font\":{\"color\":\"#2a3f5f\"},\"hovermode\":\"closest\",\"hoverlabel\":{\"align\":\"left\"},\"paper_bgcolor\":\"white\",\"plot_bgcolor\":\"#E5ECF6\",\"polar\":{\"bgcolor\":\"#E5ECF6\",\"angularaxis\":{\"gridcolor\":\"white\",\"linecolor\":\"white\",\"ticks\":\"\"},\"radialaxis\":{\"gridcolor\":\"white\",\"linecolor\":\"white\",\"ticks\":\"\"}},\"ternary\":{\"bgcolor\":\"#E5ECF6\",\"aaxis\":{\"gridcolor\":\"white\",\"linecolor\":\"white\",\"ticks\":\"\"},\"baxis\":{\"gridcolor\":\"white\",\"linecolor\":\"white\",\"ticks\":\"\"},\"caxis\":{\"gridcolor\":\"white\",\"linecolor\":\"white\",\"ticks\":\"\"}},\"coloraxis\":{\"colorbar\":{\"outlinewidth\":0,\"ticks\":\"\"}},\"colorscale\":{\"sequential\":[[0.0,\"#0d0887\"],[0.1111111111111111,\"#46039f\"],[0.2222222222222222,\"#7201a8\"],[0.3333333333333333,\"#9c179e\"],[0.4444444444444444,\"#bd3786\"],[0.5555555555555556,\"#d8576b\"],[0.6666666666666666,\"#ed7953\"],[0.7777777777777778,\"#fb9f3a\"],[0.8888888888888888,\"#fdca26\"],[1.0,\"#f0f921\"]],\"sequentialminus\":[[0.0,\"#0d0887\"],[0.1111111111111111,\"#46039f\"],[0.2222222222222222,\"#7201a8\"],[0.3333333333333333,\"#9c179e\"],[0.4444444444444444,\"#bd3786\"],[0.5555555555555556,\"#d8576b\"],[0.6666666666666666,\"#ed7953\"],[0.7777777777777778,\"#fb9f3a\"],[0.8888888888888888,\"#fdca26\"],[1.0,\"#f0f921\"]],\"diverging\":[[0,\"#8e0152\"],[0.1,\"#c51b7d\"],[0.2,\"#de77ae\"],[0.3,\"#f1b6da\"],[0.4,\"#fde0ef\"],[0.5,\"#f7f7f7\"],[0.6,\"#e6f5d0\"],[0.7,\"#b8e186\"],[0.8,\"#7fbc41\"],[0.9,\"#4d9221\"],[1,\"#276419\"]]},\"xaxis\":{\"gridcolor\":\"white\",\"linecolor\":\"white\",\"ticks\":\"\",\"title\":{\"standoff\":15},\"zerolinecolor\":\"white\",\"automargin\":true,\"zerolinewidth\":2},\"yaxis\":{\"gridcolor\":\"white\",\"linecolor\":\"white\",\"ticks\":\"\",\"title\":{\"standoff\":15},\"zerolinecolor\":\"white\",\"automargin\":true,\"zerolinewidth\":2},\"scene\":{\"xaxis\":{\"backgroundcolor\":\"#E5ECF6\",\"gridcolor\":\"white\",\"linecolor\":\"white\",\"showbackground\":true,\"ticks\":\"\",\"zerolinecolor\":\"white\",\"gridwidth\":2},\"yaxis\":{\"backgroundcolor\":\"#E5ECF6\",\"gridcolor\":\"white\",\"linecolor\":\"white\",\"showbackground\":true,\"ticks\":\"\",\"zerolinecolor\":\"white\",\"gridwidth\":2},\"zaxis\":{\"backgroundcolor\":\"#E5ECF6\",\"gridcolor\":\"white\",\"linecolor\":\"white\",\"showbackground\":true,\"ticks\":\"\",\"zerolinecolor\":\"white\",\"gridwidth\":2}},\"shapedefaults\":{\"line\":{\"color\":\"#2a3f5f\"}},\"annotationdefaults\":{\"arrowcolor\":\"#2a3f5f\",\"arrowhead\":0,\"arrowwidth\":1},\"geo\":{\"bgcolor\":\"white\",\"landcolor\":\"#E5ECF6\",\"subunitcolor\":\"white\",\"showland\":true,\"showlakes\":true,\"lakecolor\":\"white\"},\"title\":{\"x\":0.05},\"mapbox\":{\"style\":\"light\"}}},\"height\":600,\"width\":600,\"title\":{\"text\":\"Total number of cells : 322\"}},                        {\"responsive\": true}                    ).then(function(){\n",
              "                            \n",
              "var gd = document.getElementById('8deab5b9-b248-4c1d-87d5-11a07fc83a2e');\n",
              "var x = new MutationObserver(function (mutations, observer) {{\n",
              "        var display = window.getComputedStyle(gd).display;\n",
              "        if (!display || display === 'none') {{\n",
              "            console.log([gd, 'removed!']);\n",
              "            Plotly.purge(gd);\n",
              "            observer.disconnect();\n",
              "        }}\n",
              "}});\n",
              "\n",
              "// Listen for the removal of the full notebook cells\n",
              "var notebookContainer = gd.closest('#notebook-container');\n",
              "if (notebookContainer) {{\n",
              "    x.observe(notebookContainer, {childList: true});\n",
              "}}\n",
              "\n",
              "// Listen for the clearing of the current output cell\n",
              "var outputEl = gd.closest('.output');\n",
              "if (outputEl) {{\n",
              "    x.observe(outputEl, {childList: true});\n",
              "}}\n",
              "\n",
              "                        })                };                            </script>        </div>\n",
              "</body>\n",
              "</html>"
            ]
          },
          "metadata": {}
        }
      ],
      "source": [
        "# @title Plot the a 3D view, with statistics\n",
        "# @markdown This cell plots a 3D view of the cells, with the volume as the size of the points and the sphericity as the color.\n",
        "import plotly.graph_objects as go\n",
        "import numpy as np\n",
        "\n",
        "def plotly_cells_stats(data):\n",
        "\n",
        "    x = data[\"Centroid x\"]\n",
        "    y = data[\"Centroid y\"]\n",
        "    z = data[\"Centroid z\"]\n",
        "\n",
        "    fig = go.Figure(\n",
        "        data=go.Scatter3d(\n",
        "            x=np.floor(x),\n",
        "            y=np.floor(y),\n",
        "            z=np.floor(z),\n",
        "            mode=\"markers\",\n",
        "            marker=dict(\n",
        "                sizemode=\"diameter\",\n",
        "                sizeref=30,\n",
        "                sizemin=20,\n",
        "                size=data[\"Volume\"],\n",
        "                color=data[\"Sphericity (axes)\"],\n",
        "                colorscale=\"Turbo_r\",\n",
        "                colorbar_title=\"Sphericity\",\n",
        "                line_color=\"rgb(140, 140, 170)\",\n",
        "            ),\n",
        "        )\n",
        "    )\n",
        "\n",
        "    fig.update_layout(\n",
        "        height=600,\n",
        "        width=600,\n",
        "        title=f'Total number of cells : {int(data[\"Number objects\"][0])}',\n",
        "    )\n",
        "\n",
        "    fig.show()\n",
        "\n",
        "plotly_cells_stats(data)"
      ]
    }
  ],
  "metadata": {
    "accelerator": "GPU",
    "colab": {
      "gpuType": "T4",
      "provenance": [],
      "include_colab_link": true
    },
    "kernelspec": {
      "display_name": "Python 3",
      "name": "python3"
    },
    "language_info": {
      "name": "python"
    },
    "widgets": {
      "application/vnd.jupyter.widget-state+json": {
        "7a72ee57e14c440bb2ce281da67e1311": {
          "model_module": "@jupyter-widgets/controls",
          "model_name": "VBoxModel",
          "model_module_version": "1.5.0",
          "state": {
            "_dom_classes": [
              "widget-interact"
            ],
            "_model_module": "@jupyter-widgets/controls",
            "_model_module_version": "1.5.0",
            "_model_name": "VBoxModel",
            "_view_count": null,
            "_view_module": "@jupyter-widgets/controls",
            "_view_module_version": "1.5.0",
            "_view_name": "VBoxView",
            "box_style": "",
            "children": [
              "IPY_MODEL_2692114df7304a1cbc703e8bd0f848c3",
              "IPY_MODEL_697f7288fff64aefbee1a5c0d4894987"
            ],
            "layout": "IPY_MODEL_1e79fde882a44cd984a54a71c3337759"
          }
        },
        "2692114df7304a1cbc703e8bd0f848c3": {
          "model_module": "@jupyter-widgets/controls",
          "model_name": "IntSliderModel",
          "model_module_version": "1.5.0",
          "state": {
            "_dom_classes": [],
            "_model_module": "@jupyter-widgets/controls",
            "_model_module_version": "1.5.0",
            "_model_name": "IntSliderModel",
            "_view_count": null,
            "_view_module": "@jupyter-widgets/controls",
            "_view_module_version": "1.5.0",
            "_view_name": "IntSliderView",
            "continuous_update": true,
            "description": "z",
            "description_tooltip": null,
            "disabled": false,
            "layout": "IPY_MODEL_9cb58613b1a74eaeb285f6d2d77d567b",
            "max": 123,
            "min": 0,
            "orientation": "horizontal",
            "readout": true,
            "readout_format": "d",
            "step": 1,
            "style": "IPY_MODEL_a1d487697e4b4ea6b897f380c2b112cc",
            "value": 62
          }
        },
        "697f7288fff64aefbee1a5c0d4894987": {
          "model_module": "@jupyter-widgets/output",
          "model_name": "OutputModel",
          "model_module_version": "1.0.0",
          "state": {
            "_dom_classes": [],
            "_model_module": "@jupyter-widgets/output",
            "_model_module_version": "1.0.0",
            "_model_name": "OutputModel",
            "_view_count": null,
            "_view_module": "@jupyter-widgets/output",
            "_view_module_version": "1.0.0",
            "_view_name": "OutputView",
            "layout": "IPY_MODEL_10441f745a6f41cf8655b2fafbb8204f",
            "msg_id": "",
            "outputs": [
              {
                "output_type": "display_data",
                "data": {
                  "text/plain": "<Figure size 1500x1500 with 3 Axes>",
                  "image/png": "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\n"
                },
                "metadata": {}
              }
            ]
          }
        },
        "1e79fde882a44cd984a54a71c3337759": {
          "model_module": "@jupyter-widgets/base",
          "model_name": "LayoutModel",
          "model_module_version": "1.2.0",
          "state": {
            "_model_module": "@jupyter-widgets/base",
            "_model_module_version": "1.2.0",
            "_model_name": "LayoutModel",
            "_view_count": null,
            "_view_module": "@jupyter-widgets/base",
            "_view_module_version": "1.2.0",
            "_view_name": "LayoutView",
            "align_content": null,
            "align_items": null,
            "align_self": null,
            "border": null,
            "bottom": null,
            "display": null,
            "flex": null,
            "flex_flow": null,
            "grid_area": null,
            "grid_auto_columns": null,
            "grid_auto_flow": null,
            "grid_auto_rows": null,
            "grid_column": null,
            "grid_gap": null,
            "grid_row": null,
            "grid_template_areas": null,
            "grid_template_columns": null,
            "grid_template_rows": null,
            "height": null,
            "justify_content": null,
            "justify_items": null,
            "left": null,
            "margin": null,
            "max_height": null,
            "max_width": null,
            "min_height": null,
            "min_width": null,
            "object_fit": null,
            "object_position": null,
            "order": null,
            "overflow": null,
            "overflow_x": null,
            "overflow_y": null,
            "padding": null,
            "right": null,
            "top": null,
            "visibility": null,
            "width": null
          }
        },
        "9cb58613b1a74eaeb285f6d2d77d567b": {
          "model_module": "@jupyter-widgets/base",
          "model_name": "LayoutModel",
          "model_module_version": "1.2.0",
          "state": {
            "_model_module": "@jupyter-widgets/base",
            "_model_module_version": "1.2.0",
            "_model_name": "LayoutModel",
            "_view_count": null,
            "_view_module": "@jupyter-widgets/base",
            "_view_module_version": "1.2.0",
            "_view_name": "LayoutView",
            "align_content": null,
            "align_items": null,
            "align_self": null,
            "border": null,
            "bottom": null,
            "display": null,
            "flex": null,
            "flex_flow": null,
            "grid_area": null,
            "grid_auto_columns": null,
            "grid_auto_flow": null,
            "grid_auto_rows": null,
            "grid_column": null,
            "grid_gap": null,
            "grid_row": null,
            "grid_template_areas": null,
            "grid_template_columns": null,
            "grid_template_rows": null,
            "height": null,
            "justify_content": null,
            "justify_items": null,
            "left": null,
            "margin": null,
            "max_height": null,
            "max_width": null,
            "min_height": null,
            "min_width": null,
            "object_fit": null,
            "object_position": null,
            "order": null,
            "overflow": null,
            "overflow_x": null,
            "overflow_y": null,
            "padding": null,
            "right": null,
            "top": null,
            "visibility": null,
            "width": null
          }
        },
        "a1d487697e4b4ea6b897f380c2b112cc": {
          "model_module": "@jupyter-widgets/controls",
          "model_name": "SliderStyleModel",
          "model_module_version": "1.5.0",
          "state": {
            "_model_module": "@jupyter-widgets/controls",
            "_model_module_version": "1.5.0",
            "_model_name": "SliderStyleModel",
            "_view_count": null,
            "_view_module": "@jupyter-widgets/base",
            "_view_module_version": "1.2.0",
            "_view_name": "StyleView",
            "description_width": "",
            "handle_color": null
          }
        },
        "10441f745a6f41cf8655b2fafbb8204f": {
          "model_module": "@jupyter-widgets/base",
          "model_name": "LayoutModel",
          "model_module_version": "1.2.0",
          "state": {
            "_model_module": "@jupyter-widgets/base",
            "_model_module_version": "1.2.0",
            "_model_name": "LayoutModel",
            "_view_count": null,
            "_view_module": "@jupyter-widgets/base",
            "_view_module_version": "1.2.0",
            "_view_name": "LayoutView",
            "align_content": null,
            "align_items": null,
            "align_self": null,
            "border": null,
            "bottom": null,
            "display": null,
            "flex": null,
            "flex_flow": null,
            "grid_area": null,
            "grid_auto_columns": null,
            "grid_auto_flow": null,
            "grid_auto_rows": null,
            "grid_column": null,
            "grid_gap": null,
            "grid_row": null,
            "grid_template_areas": null,
            "grid_template_columns": null,
            "grid_template_rows": null,
            "height": null,
            "justify_content": null,
            "justify_items": null,
            "left": null,
            "margin": null,
            "max_height": null,
            "max_width": null,
            "min_height": null,
            "min_width": null,
            "object_fit": null,
            "object_position": null,
            "order": null,
            "overflow": null,
            "overflow_x": null,
            "overflow_y": null,
            "padding": null,
            "right": null,
            "top": null,
            "visibility": null,
            "width": null
          }
        }
      }
    }
  },
  "nbformat": 4,
  "nbformat_minor": 0
}