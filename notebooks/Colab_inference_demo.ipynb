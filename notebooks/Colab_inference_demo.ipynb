{
  "cells": [
    {
      "cell_type": "markdown",
      "metadata": {
        "id": "view-in-github",
        "colab_type": "text"
      },
      "source": [
        "<a href=\"https://colab.research.google.com/github/AdaptiveMotorControlLab/CellSeg3d/blob/main/notebooks/Colab_inference_demo.ipynb\" target=\"_parent\"><img src=\"https://colab.research.google.com/assets/colab-badge.svg\" alt=\"Open In Colab\"/></a>"
      ]
    },
    {
      "cell_type": "markdown",
      "metadata": {
        "id": "PoYFnmmQAm-x"
      },
      "source": [
        "# **CellSeg3D : inference demo notebook**\n",
        "\n",
        "---\n",
        "This notebook is part of the [CellSeg3D project](https://github.com/AdaptiveMotorControlLab/CellSeg3d) in the [Mathis Lab of Adaptive Intelligence](https://www.mackenziemathislab.org/).\n",
        "\n",
        "- 💜 The foundation of this notebook owes much to the **[ZeroCostDL4Mic](https://github.com/HenriquesLab/ZeroCostDL4Mic)** project and to the **[DeepLabCut](https://github.com/DeepLabCut/DeepLabCut)** team."
      ]
    },
    {
      "cell_type": "markdown",
      "metadata": {
        "id": "vJLmPrWhAm-z"
      },
      "source": [
        "# **1. Installing dependencies**\n",
        "---"
      ]
    },
    {
      "cell_type": "markdown",
      "metadata": {
        "id": "CUNTOWCnAm-z"
      },
      "source": [
        "## **1.1 Installing CellSeg3D**\n",
        "---"
      ]
    },
    {
      "cell_type": "code",
      "execution_count": 1,
      "metadata": {
        "id": "bnFKu6uFAm-z",
        "collapsed": true,
        "outputId": "7affcbb6-ae7e-43a8-97e1-56029e79dcf4",
        "colab": {
          "base_uri": "https://localhost:8080/"
        }
      },
      "outputs": [
        {
          "output_type": "stream",
          "name": "stdout",
          "text": [
            "fatal: destination path './CellSeg3D' already exists and is not an empty directory.\n",
            "Requirement already satisfied: napari-cellseg3d in /usr/local/lib/python3.10/dist-packages (0.2.1)\n",
            "Requirement already satisfied: numpy in /usr/local/lib/python3.10/dist-packages (from napari-cellseg3d) (1.26.4)\n",
            "Requirement already satisfied: napari>=0.4.14 in /usr/local/lib/python3.10/dist-packages (from napari[all]>=0.4.14->napari-cellseg3d) (0.5.5)\n",
            "Requirement already satisfied: QtPy in /usr/local/lib/python3.10/dist-packages (from napari-cellseg3d) (2.4.2)\n",
            "Requirement already satisfied: scikit-image>=0.19.2 in /usr/local/lib/python3.10/dist-packages (from napari-cellseg3d) (0.25.0)\n",
            "Requirement already satisfied: matplotlib>=3.4.1 in /usr/local/lib/python3.10/dist-packages (from napari-cellseg3d) (3.8.0)\n",
            "Requirement already satisfied: tifffile>=2022.2.9 in /usr/local/lib/python3.10/dist-packages (from napari-cellseg3d) (2024.12.12)\n",
            "Requirement already satisfied: imagecodecs>=2023.3.16 in /usr/local/lib/python3.10/dist-packages (from napari-cellseg3d) (2024.9.22)\n",
            "Requirement already satisfied: torch>=1.11 in /usr/local/lib/python3.10/dist-packages (from napari-cellseg3d) (2.5.1+cu121)\n",
            "Requirement already satisfied: monai>=0.9.0 in /usr/local/lib/python3.10/dist-packages (from monai[einops,nibabel]>=0.9.0->napari-cellseg3d) (1.4.0)\n",
            "Requirement already satisfied: itk in /usr/local/lib/python3.10/dist-packages (from napari-cellseg3d) (5.4.0)\n",
            "Requirement already satisfied: tqdm in /usr/local/lib/python3.10/dist-packages (from napari-cellseg3d) (4.67.1)\n",
            "Requirement already satisfied: pyclesperanto-prototype in /usr/local/lib/python3.10/dist-packages (from napari-cellseg3d) (0.24.5)\n",
            "Requirement already satisfied: contourpy>=1.0.1 in /usr/local/lib/python3.10/dist-packages (from matplotlib>=3.4.1->napari-cellseg3d) (1.3.1)\n",
            "Requirement already satisfied: cycler>=0.10 in /usr/local/lib/python3.10/dist-packages (from matplotlib>=3.4.1->napari-cellseg3d) (0.12.1)\n",
            "Requirement already satisfied: fonttools>=4.22.0 in /usr/local/lib/python3.10/dist-packages (from matplotlib>=3.4.1->napari-cellseg3d) (4.55.3)\n",
            "Requirement already satisfied: kiwisolver>=1.0.1 in /usr/local/lib/python3.10/dist-packages (from matplotlib>=3.4.1->napari-cellseg3d) (1.4.7)\n",
            "Requirement already satisfied: packaging>=20.0 in /usr/local/lib/python3.10/dist-packages (from matplotlib>=3.4.1->napari-cellseg3d) (24.2)\n",
            "Requirement already satisfied: pillow>=6.2.0 in /usr/local/lib/python3.10/dist-packages (from matplotlib>=3.4.1->napari-cellseg3d) (11.0.0)\n",
            "Requirement already satisfied: pyparsing>=2.3.1 in /usr/local/lib/python3.10/dist-packages (from matplotlib>=3.4.1->napari-cellseg3d) (3.2.0)\n",
            "Requirement already satisfied: python-dateutil>=2.7 in /usr/local/lib/python3.10/dist-packages (from matplotlib>=3.4.1->napari-cellseg3d) (2.8.2)\n",
            "Requirement already satisfied: einops in /usr/local/lib/python3.10/dist-packages (from monai[einops,nibabel]>=0.9.0->napari-cellseg3d) (0.8.0)\n",
            "Requirement already satisfied: nibabel in /usr/local/lib/python3.10/dist-packages (from monai[einops,nibabel]>=0.9.0->napari-cellseg3d) (5.3.2)\n",
            "Requirement already satisfied: appdirs>=1.4.4 in /usr/local/lib/python3.10/dist-packages (from napari>=0.4.14->napari[all]>=0.4.14->napari-cellseg3d) (1.4.4)\n",
            "Requirement already satisfied: app-model<0.4.0,>=0.3.0 in /usr/local/lib/python3.10/dist-packages (from napari>=0.4.14->napari[all]>=0.4.14->napari-cellseg3d) (0.3.1)\n",
            "Requirement already satisfied: cachey>=0.2.1 in /usr/local/lib/python3.10/dist-packages (from napari>=0.4.14->napari[all]>=0.4.14->napari-cellseg3d) (0.2.1)\n",
            "Requirement already satisfied: certifi>=2018.1.18 in /usr/local/lib/python3.10/dist-packages (from napari>=0.4.14->napari[all]>=0.4.14->napari-cellseg3d) (2024.12.14)\n",
            "Requirement already satisfied: dask>=2021.10.0 in /usr/local/lib/python3.10/dist-packages (from dask[array]>=2021.10.0->napari>=0.4.14->napari[all]>=0.4.14->napari-cellseg3d) (2024.10.0)\n",
            "Requirement already satisfied: imageio!=2.22.1,>=2.20 in /usr/local/lib/python3.10/dist-packages (from napari>=0.4.14->napari[all]>=0.4.14->napari-cellseg3d) (2.36.1)\n",
            "Requirement already satisfied: jsonschema>=3.2.0 in /usr/local/lib/python3.10/dist-packages (from napari>=0.4.14->napari[all]>=0.4.14->napari-cellseg3d) (4.23.0)\n",
            "Requirement already satisfied: lazy_loader>=0.2 in /usr/local/lib/python3.10/dist-packages (from napari>=0.4.14->napari[all]>=0.4.14->napari-cellseg3d) (0.4)\n",
            "Requirement already satisfied: magicgui>=0.7.0 in /usr/local/lib/python3.10/dist-packages (from napari>=0.4.14->napari[all]>=0.4.14->napari-cellseg3d) (0.10.0)\n",
            "Requirement already satisfied: napari-console>=0.1.1 in /usr/local/lib/python3.10/dist-packages (from napari>=0.4.14->napari[all]>=0.4.14->napari-cellseg3d) (0.1.3)\n",
            "Requirement already satisfied: napari-plugin-engine>=0.1.9 in /usr/local/lib/python3.10/dist-packages (from napari>=0.4.14->napari[all]>=0.4.14->napari-cellseg3d) (0.2.0)\n",
            "Requirement already satisfied: napari-svg>=0.1.8 in /usr/local/lib/python3.10/dist-packages (from napari>=0.4.14->napari[all]>=0.4.14->napari-cellseg3d) (0.2.0)\n",
            "Requirement already satisfied: npe2>=0.7.6 in /usr/local/lib/python3.10/dist-packages (from napari>=0.4.14->napari[all]>=0.4.14->napari-cellseg3d) (0.7.7)\n",
            "Requirement already satisfied: numpydoc>=0.9.2 in /usr/local/lib/python3.10/dist-packages (from napari>=0.4.14->napari[all]>=0.4.14->napari-cellseg3d) (1.8.0)\n",
            "Requirement already satisfied: pandas>=1.3.0 in /usr/local/lib/python3.10/dist-packages (from napari>=0.4.14->napari[all]>=0.4.14->napari-cellseg3d) (2.2.2)\n",
            "Requirement already satisfied: pint>=0.17 in /usr/local/lib/python3.10/dist-packages (from napari>=0.4.14->napari[all]>=0.4.14->napari-cellseg3d) (0.24.4)\n",
            "Requirement already satisfied: psutil>=5.0 in /usr/local/lib/python3.10/dist-packages (from napari>=0.4.14->napari[all]>=0.4.14->napari-cellseg3d) (5.9.5)\n",
            "Requirement already satisfied: psygnal>=0.5.0 in /usr/local/lib/python3.10/dist-packages (from napari>=0.4.14->napari[all]>=0.4.14->napari-cellseg3d) (0.11.1)\n",
            "Requirement already satisfied: pydantic>=1.9.0 in /usr/local/lib/python3.10/dist-packages (from napari>=0.4.14->napari[all]>=0.4.14->napari-cellseg3d) (2.10.3)\n",
            "Requirement already satisfied: pygments>=2.6.0 in /usr/local/lib/python3.10/dist-packages (from napari>=0.4.14->napari[all]>=0.4.14->napari-cellseg3d) (2.18.0)\n",
            "Requirement already satisfied: PyOpenGL>=3.1.0 in /usr/local/lib/python3.10/dist-packages (from napari>=0.4.14->napari[all]>=0.4.14->napari-cellseg3d) (3.1.7)\n",
            "Requirement already satisfied: PyYAML>=5.1 in /usr/local/lib/python3.10/dist-packages (from napari>=0.4.14->napari[all]>=0.4.14->napari-cellseg3d) (6.0.2)\n",
            "Requirement already satisfied: scipy>=1.5.4 in /usr/local/lib/python3.10/dist-packages (from napari>=0.4.14->napari[all]>=0.4.14->napari-cellseg3d) (1.13.1)\n",
            "Requirement already satisfied: superqt>=0.6.7 in /usr/local/lib/python3.10/dist-packages (from napari>=0.4.14->napari[all]>=0.4.14->napari-cellseg3d) (0.7.0)\n",
            "Requirement already satisfied: toolz>=0.10.0 in /usr/local/lib/python3.10/dist-packages (from napari>=0.4.14->napari[all]>=0.4.14->napari-cellseg3d) (0.12.1)\n",
            "Requirement already satisfied: typing_extensions>=4.2.0 in /usr/local/lib/python3.10/dist-packages (from napari>=0.4.14->napari[all]>=0.4.14->napari-cellseg3d) (4.12.2)\n",
            "Requirement already satisfied: vispy<0.15,>=0.14.1 in /usr/local/lib/python3.10/dist-packages (from napari>=0.4.14->napari[all]>=0.4.14->napari-cellseg3d) (0.14.3)\n",
            "Requirement already satisfied: wrapt>=1.11.1 in /usr/local/lib/python3.10/dist-packages (from napari>=0.4.14->napari[all]>=0.4.14->napari-cellseg3d) (1.17.0)\n",
            "Requirement already satisfied: napari-plugin-manager<0.2.0,>=0.1.3 in /usr/local/lib/python3.10/dist-packages (from napari[all]>=0.4.14->napari-cellseg3d) (0.1.3)\n",
            "Requirement already satisfied: networkx>=3.0 in /usr/local/lib/python3.10/dist-packages (from scikit-image>=0.19.2->napari-cellseg3d) (3.4.2)\n",
            "Requirement already satisfied: filelock in /usr/local/lib/python3.10/dist-packages (from torch>=1.11->napari-cellseg3d) (3.16.1)\n",
            "Requirement already satisfied: jinja2 in /usr/local/lib/python3.10/dist-packages (from torch>=1.11->napari-cellseg3d) (3.1.4)\n",
            "Requirement already satisfied: fsspec in /usr/local/lib/python3.10/dist-packages (from torch>=1.11->napari-cellseg3d) (2024.10.0)\n",
            "Requirement already satisfied: sympy==1.13.1 in /usr/local/lib/python3.10/dist-packages (from torch>=1.11->napari-cellseg3d) (1.13.1)\n",
            "Requirement already satisfied: mpmath<1.4,>=1.1.0 in /usr/local/lib/python3.10/dist-packages (from sympy==1.13.1->torch>=1.11->napari-cellseg3d) (1.3.0)\n",
            "Requirement already satisfied: itk-core==5.4.0 in /usr/local/lib/python3.10/dist-packages (from itk->napari-cellseg3d) (5.4.0)\n",
            "Requirement already satisfied: itk-numerics==5.4.0 in /usr/local/lib/python3.10/dist-packages (from itk->napari-cellseg3d) (5.4.0)\n",
            "Requirement already satisfied: itk-io==5.4.0 in /usr/local/lib/python3.10/dist-packages (from itk->napari-cellseg3d) (5.4.0)\n",
            "Requirement already satisfied: itk-filtering==5.4.0 in /usr/local/lib/python3.10/dist-packages (from itk->napari-cellseg3d) (5.4.0)\n",
            "Requirement already satisfied: itk-registration==5.4.0 in /usr/local/lib/python3.10/dist-packages (from itk->napari-cellseg3d) (5.4.0)\n",
            "Requirement already satisfied: itk-segmentation==5.4.0 in /usr/local/lib/python3.10/dist-packages (from itk->napari-cellseg3d) (5.4.0)\n",
            "Requirement already satisfied: pyopencl in /usr/local/lib/python3.10/dist-packages (from pyclesperanto-prototype->napari-cellseg3d) (2024.3)\n",
            "Requirement already satisfied: transforms3d in /usr/local/lib/python3.10/dist-packages (from pyclesperanto-prototype->napari-cellseg3d) (0.4.2)\n",
            "Requirement already satisfied: in-n-out>=0.1.5 in /usr/local/lib/python3.10/dist-packages (from app-model<0.4.0,>=0.3.0->napari>=0.4.14->napari[all]>=0.4.14->napari-cellseg3d) (0.2.1)\n",
            "Requirement already satisfied: pydantic-compat>=0.1.1 in /usr/local/lib/python3.10/dist-packages (from app-model<0.4.0,>=0.3.0->napari>=0.4.14->napari[all]>=0.4.14->napari-cellseg3d) (0.1.2)\n",
            "Requirement already satisfied: heapdict in /usr/local/lib/python3.10/dist-packages (from cachey>=0.2.1->napari>=0.4.14->napari[all]>=0.4.14->napari-cellseg3d) (1.0.1)\n",
            "Requirement already satisfied: click>=8.1 in /usr/local/lib/python3.10/dist-packages (from dask>=2021.10.0->dask[array]>=2021.10.0->napari>=0.4.14->napari[all]>=0.4.14->napari-cellseg3d) (8.1.7)\n",
            "Requirement already satisfied: cloudpickle>=3.0.0 in /usr/local/lib/python3.10/dist-packages (from dask>=2021.10.0->dask[array]>=2021.10.0->napari>=0.4.14->napari[all]>=0.4.14->napari-cellseg3d) (3.1.0)\n",
            "Requirement already satisfied: partd>=1.4.0 in /usr/local/lib/python3.10/dist-packages (from dask>=2021.10.0->dask[array]>=2021.10.0->napari>=0.4.14->napari[all]>=0.4.14->napari-cellseg3d) (1.4.2)\n",
            "Requirement already satisfied: importlib-metadata>=4.13.0 in /usr/local/lib/python3.10/dist-packages (from dask>=2021.10.0->dask[array]>=2021.10.0->napari>=0.4.14->napari[all]>=0.4.14->napari-cellseg3d) (8.5.0)\n",
            "Requirement already satisfied: attrs>=22.2.0 in /usr/local/lib/python3.10/dist-packages (from jsonschema>=3.2.0->napari>=0.4.14->napari[all]>=0.4.14->napari-cellseg3d) (24.3.0)\n",
            "Requirement already satisfied: jsonschema-specifications>=2023.03.6 in /usr/local/lib/python3.10/dist-packages (from jsonschema>=3.2.0->napari>=0.4.14->napari[all]>=0.4.14->napari-cellseg3d) (2024.10.1)\n",
            "Requirement already satisfied: referencing>=0.28.4 in /usr/local/lib/python3.10/dist-packages (from jsonschema>=3.2.0->napari>=0.4.14->napari[all]>=0.4.14->napari-cellseg3d) (0.35.1)\n",
            "Requirement already satisfied: rpds-py>=0.7.1 in /usr/local/lib/python3.10/dist-packages (from jsonschema>=3.2.0->napari>=0.4.14->napari[all]>=0.4.14->napari-cellseg3d) (0.22.3)\n",
            "Requirement already satisfied: docstring-parser>=0.7 in /usr/local/lib/python3.10/dist-packages (from magicgui>=0.7.0->napari>=0.4.14->napari[all]>=0.4.14->napari-cellseg3d) (0.16)\n",
            "Requirement already satisfied: IPython>=7.7.0 in /usr/local/lib/python3.10/dist-packages (from napari-console>=0.1.1->napari>=0.4.14->napari[all]>=0.4.14->napari-cellseg3d) (7.34.0)\n",
            "Requirement already satisfied: ipykernel>=5.2.0 in /usr/local/lib/python3.10/dist-packages (from napari-console>=0.1.1->napari>=0.4.14->napari[all]>=0.4.14->napari-cellseg3d) (5.5.6)\n",
            "Requirement already satisfied: qtconsole!=4.7.6,!=5.4.2,>=4.5.1 in /usr/local/lib/python3.10/dist-packages (from napari-console>=0.1.1->napari>=0.4.14->napari[all]>=0.4.14->napari-cellseg3d) (5.6.1)\n",
            "Requirement already satisfied: pip in /usr/local/lib/python3.10/dist-packages (from napari-plugin-manager<0.2.0,>=0.1.3->napari[all]>=0.4.14->napari-cellseg3d) (24.1.2)\n",
            "Requirement already satisfied: build>=1 in /usr/local/lib/python3.10/dist-packages (from npe2>=0.7.6->napari>=0.4.14->napari[all]>=0.4.14->napari-cellseg3d) (1.2.2.post1)\n",
            "Requirement already satisfied: rich in /usr/local/lib/python3.10/dist-packages (from npe2>=0.7.6->napari>=0.4.14->napari[all]>=0.4.14->napari-cellseg3d) (13.9.4)\n",
            "Requirement already satisfied: tomli-w in /usr/local/lib/python3.10/dist-packages (from npe2>=0.7.6->napari>=0.4.14->napari[all]>=0.4.14->napari-cellseg3d) (1.1.0)\n",
            "Requirement already satisfied: tomli in /usr/local/lib/python3.10/dist-packages (from npe2>=0.7.6->napari>=0.4.14->napari[all]>=0.4.14->napari-cellseg3d) (2.2.1)\n",
            "Requirement already satisfied: typer in /usr/local/lib/python3.10/dist-packages (from npe2>=0.7.6->napari>=0.4.14->napari[all]>=0.4.14->napari-cellseg3d) (0.15.1)\n",
            "Requirement already satisfied: sphinx>=6 in /usr/local/lib/python3.10/dist-packages (from numpydoc>=0.9.2->napari>=0.4.14->napari[all]>=0.4.14->napari-cellseg3d) (8.1.3)\n",
            "Requirement already satisfied: tabulate>=0.8.10 in /usr/local/lib/python3.10/dist-packages (from numpydoc>=0.9.2->napari>=0.4.14->napari[all]>=0.4.14->napari-cellseg3d) (0.9.0)\n",
            "Requirement already satisfied: pytz>=2020.1 in /usr/local/lib/python3.10/dist-packages (from pandas>=1.3.0->napari>=0.4.14->napari[all]>=0.4.14->napari-cellseg3d) (2024.2)\n",
            "Requirement already satisfied: tzdata>=2022.7 in /usr/local/lib/python3.10/dist-packages (from pandas>=1.3.0->napari>=0.4.14->napari[all]>=0.4.14->napari-cellseg3d) (2024.2)\n",
            "Requirement already satisfied: platformdirs>=2.1.0 in /usr/local/lib/python3.10/dist-packages (from pint>=0.17->napari>=0.4.14->napari[all]>=0.4.14->napari-cellseg3d) (4.3.6)\n",
            "Requirement already satisfied: flexcache>=0.3 in /usr/local/lib/python3.10/dist-packages (from pint>=0.17->napari>=0.4.14->napari[all]>=0.4.14->napari-cellseg3d) (0.3)\n",
            "Requirement already satisfied: flexparser>=0.4 in /usr/local/lib/python3.10/dist-packages (from pint>=0.17->napari>=0.4.14->napari[all]>=0.4.14->napari-cellseg3d) (0.4)\n",
            "Requirement already satisfied: annotated-types>=0.6.0 in /usr/local/lib/python3.10/dist-packages (from pydantic>=1.9.0->napari>=0.4.14->napari[all]>=0.4.14->napari-cellseg3d) (0.7.0)\n",
            "Requirement already satisfied: pydantic-core==2.27.1 in /usr/local/lib/python3.10/dist-packages (from pydantic>=1.9.0->napari>=0.4.14->napari[all]>=0.4.14->napari-cellseg3d) (2.27.1)\n",
            "Requirement already satisfied: six>=1.5 in /usr/local/lib/python3.10/dist-packages (from python-dateutil>=2.7->matplotlib>=3.4.1->napari-cellseg3d) (1.17.0)\n",
            "Requirement already satisfied: pooch>=1.6.0 in /usr/local/lib/python3.10/dist-packages (from scikit-image[data]>=0.19.1->napari>=0.4.14->napari[all]>=0.4.14->napari-cellseg3d) (1.8.2)\n",
            "Requirement already satisfied: freetype-py in /usr/local/lib/python3.10/dist-packages (from vispy<0.15,>=0.14.1->napari>=0.4.14->napari[all]>=0.4.14->napari-cellseg3d) (2.5.1)\n",
            "Requirement already satisfied: hsluv in /usr/local/lib/python3.10/dist-packages (from vispy<0.15,>=0.14.1->napari>=0.4.14->napari[all]>=0.4.14->napari-cellseg3d) (5.0.4)\n",
            "Requirement already satisfied: MarkupSafe>=2.0 in /usr/local/lib/python3.10/dist-packages (from jinja2->torch>=1.11->napari-cellseg3d) (3.0.2)\n",
            "Requirement already satisfied: triangle in /usr/local/lib/python3.10/dist-packages (from napari>=0.4.14->napari[all]>=0.4.14->napari-cellseg3d) (20230923)\n",
            "Requirement already satisfied: numba>=0.57.1 in /usr/local/lib/python3.10/dist-packages (from napari>=0.4.14->napari[all]>=0.4.14->napari-cellseg3d) (0.60.0)\n",
            "Requirement already satisfied: zarr>=2.12.0 in /usr/local/lib/python3.10/dist-packages (from napari>=0.4.14->napari[all]>=0.4.14->napari-cellseg3d) (2.18.3)\n",
            "Requirement already satisfied: importlib-resources>=5.12 in /usr/local/lib/python3.10/dist-packages (from nibabel->monai[einops,nibabel]>=0.9.0->napari-cellseg3d) (6.4.5)\n",
            "Requirement already satisfied: pytools>=2024.1.5 in /usr/local/lib/python3.10/dist-packages (from pyopencl->pyclesperanto-prototype->napari-cellseg3d) (2024.1.21)\n",
            "Requirement already satisfied: pyproject_hooks in /usr/local/lib/python3.10/dist-packages (from build>=1->npe2>=0.7.6->napari>=0.4.14->napari[all]>=0.4.14->napari-cellseg3d) (1.2.0)\n",
            "Requirement already satisfied: zipp>=3.20 in /usr/local/lib/python3.10/dist-packages (from importlib-metadata>=4.13.0->dask>=2021.10.0->dask[array]>=2021.10.0->napari>=0.4.14->napari[all]>=0.4.14->napari-cellseg3d) (3.21.0)\n",
            "Requirement already satisfied: ipython-genutils in /usr/local/lib/python3.10/dist-packages (from ipykernel>=5.2.0->napari-console>=0.1.1->napari>=0.4.14->napari[all]>=0.4.14->napari-cellseg3d) (0.2.0)\n",
            "Requirement already satisfied: traitlets>=4.1.0 in /usr/local/lib/python3.10/dist-packages (from ipykernel>=5.2.0->napari-console>=0.1.1->napari>=0.4.14->napari[all]>=0.4.14->napari-cellseg3d) (5.7.1)\n",
            "Requirement already satisfied: jupyter-client in /usr/local/lib/python3.10/dist-packages (from ipykernel>=5.2.0->napari-console>=0.1.1->napari>=0.4.14->napari[all]>=0.4.14->napari-cellseg3d) (6.1.12)\n",
            "Requirement already satisfied: tornado>=4.2 in /usr/local/lib/python3.10/dist-packages (from ipykernel>=5.2.0->napari-console>=0.1.1->napari>=0.4.14->napari[all]>=0.4.14->napari-cellseg3d) (6.3.3)\n",
            "Requirement already satisfied: setuptools>=18.5 in /usr/local/lib/python3.10/dist-packages (from IPython>=7.7.0->napari-console>=0.1.1->napari>=0.4.14->napari[all]>=0.4.14->napari-cellseg3d) (75.1.0)\n",
            "Requirement already satisfied: jedi>=0.16 in /usr/local/lib/python3.10/dist-packages (from IPython>=7.7.0->napari-console>=0.1.1->napari>=0.4.14->napari[all]>=0.4.14->napari-cellseg3d) (0.19.2)\n",
            "Requirement already satisfied: decorator in /usr/local/lib/python3.10/dist-packages (from IPython>=7.7.0->napari-console>=0.1.1->napari>=0.4.14->napari[all]>=0.4.14->napari-cellseg3d) (4.4.2)\n",
            "Requirement already satisfied: pickleshare in /usr/local/lib/python3.10/dist-packages (from IPython>=7.7.0->napari-console>=0.1.1->napari>=0.4.14->napari[all]>=0.4.14->napari-cellseg3d) (0.7.5)\n",
            "Requirement already satisfied: prompt-toolkit!=3.0.0,!=3.0.1,<3.1.0,>=2.0.0 in /usr/local/lib/python3.10/dist-packages (from IPython>=7.7.0->napari-console>=0.1.1->napari>=0.4.14->napari[all]>=0.4.14->napari-cellseg3d) (3.0.48)\n",
            "Requirement already satisfied: backcall in /usr/local/lib/python3.10/dist-packages (from IPython>=7.7.0->napari-console>=0.1.1->napari>=0.4.14->napari[all]>=0.4.14->napari-cellseg3d) (0.2.0)\n",
            "Requirement already satisfied: matplotlib-inline in /usr/local/lib/python3.10/dist-packages (from IPython>=7.7.0->napari-console>=0.1.1->napari>=0.4.14->napari[all]>=0.4.14->napari-cellseg3d) (0.1.7)\n",
            "Requirement already satisfied: pexpect>4.3 in /usr/local/lib/python3.10/dist-packages (from IPython>=7.7.0->napari-console>=0.1.1->napari>=0.4.14->napari[all]>=0.4.14->napari-cellseg3d) (4.9.0)\n",
            "Requirement already satisfied: llvmlite<0.44,>=0.43.0dev0 in /usr/local/lib/python3.10/dist-packages (from numba>=0.57.1->napari>=0.4.14->napari[all]>=0.4.14->napari-cellseg3d) (0.43.0)\n",
            "Requirement already satisfied: locket in /usr/local/lib/python3.10/dist-packages (from partd>=1.4.0->dask>=2021.10.0->dask[array]>=2021.10.0->napari>=0.4.14->napari[all]>=0.4.14->napari-cellseg3d) (1.0.0)\n",
            "Requirement already satisfied: requests>=2.19.0 in /usr/local/lib/python3.10/dist-packages (from pooch>=1.6.0->scikit-image[data]>=0.19.1->napari>=0.4.14->napari[all]>=0.4.14->napari-cellseg3d) (2.32.3)\n",
            "Requirement already satisfied: jupyter-core in /usr/local/lib/python3.10/dist-packages (from qtconsole!=4.7.6,!=5.4.2,>=4.5.1->napari-console>=0.1.1->napari>=0.4.14->napari[all]>=0.4.14->napari-cellseg3d) (5.7.2)\n",
            "Requirement already satisfied: sphinxcontrib-applehelp>=1.0.7 in /usr/local/lib/python3.10/dist-packages (from sphinx>=6->numpydoc>=0.9.2->napari>=0.4.14->napari[all]>=0.4.14->napari-cellseg3d) (2.0.0)\n",
            "Requirement already satisfied: sphinxcontrib-devhelp>=1.0.6 in /usr/local/lib/python3.10/dist-packages (from sphinx>=6->numpydoc>=0.9.2->napari>=0.4.14->napari[all]>=0.4.14->napari-cellseg3d) (2.0.0)\n",
            "Requirement already satisfied: sphinxcontrib-htmlhelp>=2.0.6 in /usr/local/lib/python3.10/dist-packages (from sphinx>=6->numpydoc>=0.9.2->napari>=0.4.14->napari[all]>=0.4.14->napari-cellseg3d) (2.1.0)\n",
            "Requirement already satisfied: sphinxcontrib-jsmath>=1.0.1 in /usr/local/lib/python3.10/dist-packages (from sphinx>=6->numpydoc>=0.9.2->napari>=0.4.14->napari[all]>=0.4.14->napari-cellseg3d) (1.0.1)\n",
            "Requirement already satisfied: sphinxcontrib-qthelp>=1.0.6 in /usr/local/lib/python3.10/dist-packages (from sphinx>=6->numpydoc>=0.9.2->napari>=0.4.14->napari[all]>=0.4.14->napari-cellseg3d) (2.0.0)\n",
            "Requirement already satisfied: sphinxcontrib-serializinghtml>=1.1.9 in /usr/local/lib/python3.10/dist-packages (from sphinx>=6->numpydoc>=0.9.2->napari>=0.4.14->napari[all]>=0.4.14->napari-cellseg3d) (2.0.0)\n",
            "Requirement already satisfied: docutils<0.22,>=0.20 in /usr/local/lib/python3.10/dist-packages (from sphinx>=6->numpydoc>=0.9.2->napari>=0.4.14->napari[all]>=0.4.14->napari-cellseg3d) (0.21.2)\n",
            "Requirement already satisfied: snowballstemmer>=2.2 in /usr/local/lib/python3.10/dist-packages (from sphinx>=6->numpydoc>=0.9.2->napari>=0.4.14->napari[all]>=0.4.14->napari-cellseg3d) (2.2.0)\n",
            "Requirement already satisfied: babel>=2.13 in /usr/local/lib/python3.10/dist-packages (from sphinx>=6->numpydoc>=0.9.2->napari>=0.4.14->napari[all]>=0.4.14->napari-cellseg3d) (2.16.0)\n",
            "Requirement already satisfied: alabaster>=0.7.14 in /usr/local/lib/python3.10/dist-packages (from sphinx>=6->numpydoc>=0.9.2->napari>=0.4.14->napari[all]>=0.4.14->napari-cellseg3d) (1.0.0)\n",
            "Requirement already satisfied: imagesize>=1.3 in /usr/local/lib/python3.10/dist-packages (from sphinx>=6->numpydoc>=0.9.2->napari>=0.4.14->napari[all]>=0.4.14->napari-cellseg3d) (1.4.1)\n",
            "Requirement already satisfied: pyconify>=0.1.4 in /usr/local/lib/python3.10/dist-packages (from superqt[iconify]>=0.6.1->magicgui>=0.7.0->napari>=0.4.14->napari[all]>=0.4.14->napari-cellseg3d) (0.1.6)\n",
            "Requirement already satisfied: asciitree in /usr/local/lib/python3.10/dist-packages (from zarr>=2.12.0->napari>=0.4.14->napari[all]>=0.4.14->napari-cellseg3d) (0.3.3)\n",
            "Requirement already satisfied: numcodecs>=0.10.0 in /usr/local/lib/python3.10/dist-packages (from zarr>=2.12.0->napari>=0.4.14->napari[all]>=0.4.14->napari-cellseg3d) (0.13.1)\n",
            "Requirement already satisfied: fasteners in /usr/local/lib/python3.10/dist-packages (from zarr>=2.12.0->napari>=0.4.14->napari[all]>=0.4.14->napari-cellseg3d) (0.19)\n",
            "Requirement already satisfied: PyQt5!=5.15.0,>=5.13.2 in /usr/local/lib/python3.10/dist-packages (from napari>=0.4.14->napari[all]>=0.4.14->napari-cellseg3d) (5.15.11)\n",
            "Requirement already satisfied: markdown-it-py>=2.2.0 in /usr/local/lib/python3.10/dist-packages (from rich->npe2>=0.7.6->napari>=0.4.14->napari[all]>=0.4.14->napari-cellseg3d) (3.0.0)\n",
            "Requirement already satisfied: shellingham>=1.3.0 in /usr/local/lib/python3.10/dist-packages (from typer->npe2>=0.7.6->napari>=0.4.14->napari[all]>=0.4.14->napari-cellseg3d) (1.5.4)\n",
            "Requirement already satisfied: parso<0.9.0,>=0.8.4 in /usr/local/lib/python3.10/dist-packages (from jedi>=0.16->IPython>=7.7.0->napari-console>=0.1.1->napari>=0.4.14->napari[all]>=0.4.14->napari-cellseg3d) (0.8.4)\n",
            "Requirement already satisfied: pyzmq>=13 in /usr/local/lib/python3.10/dist-packages (from jupyter-client->ipykernel>=5.2.0->napari-console>=0.1.1->napari>=0.4.14->napari[all]>=0.4.14->napari-cellseg3d) (24.0.1)\n",
            "Requirement already satisfied: mdurl~=0.1 in /usr/local/lib/python3.10/dist-packages (from markdown-it-py>=2.2.0->rich->npe2>=0.7.6->napari>=0.4.14->napari[all]>=0.4.14->napari-cellseg3d) (0.1.2)\n",
            "Requirement already satisfied: ptyprocess>=0.5 in /usr/local/lib/python3.10/dist-packages (from pexpect>4.3->IPython>=7.7.0->napari-console>=0.1.1->napari>=0.4.14->napari[all]>=0.4.14->napari-cellseg3d) (0.7.0)\n",
            "Requirement already satisfied: wcwidth in /usr/local/lib/python3.10/dist-packages (from prompt-toolkit!=3.0.0,!=3.0.1,<3.1.0,>=2.0.0->IPython>=7.7.0->napari-console>=0.1.1->napari>=0.4.14->napari[all]>=0.4.14->napari-cellseg3d) (0.2.13)\n",
            "Requirement already satisfied: PyQt5-sip<13,>=12.15 in /usr/local/lib/python3.10/dist-packages (from PyQt5!=5.15.0,>=5.13.2->napari>=0.4.14->napari[all]>=0.4.14->napari-cellseg3d) (12.16.1)\n",
            "Requirement already satisfied: PyQt5-Qt5<5.16.0,>=5.15.2 in /usr/local/lib/python3.10/dist-packages (from PyQt5!=5.15.0,>=5.13.2->napari>=0.4.14->napari[all]>=0.4.14->napari-cellseg3d) (5.15.16)\n",
            "Requirement already satisfied: charset-normalizer<4,>=2 in /usr/local/lib/python3.10/dist-packages (from requests>=2.19.0->pooch>=1.6.0->scikit-image[data]>=0.19.1->napari>=0.4.14->napari[all]>=0.4.14->napari-cellseg3d) (3.4.0)\n",
            "Requirement already satisfied: idna<4,>=2.5 in /usr/local/lib/python3.10/dist-packages (from requests>=2.19.0->pooch>=1.6.0->scikit-image[data]>=0.19.1->napari>=0.4.14->napari[all]>=0.4.14->napari-cellseg3d) (3.10)\n",
            "Requirement already satisfied: urllib3<3,>=1.21.1 in /usr/local/lib/python3.10/dist-packages (from requests>=2.19.0->pooch>=1.6.0->scikit-image[data]>=0.19.1->napari>=0.4.14->napari[all]>=0.4.14->napari-cellseg3d) (2.2.3)\n"
          ]
        }
      ],
      "source": [
        "#@markdown ##Install CellSeg3D and grab demo data\n",
        "!git clone https://github.com/AdaptiveMotorControlLab/CellSeg3d.git --branch main --single-branch ./CellSeg3D\n",
        "!pip install napari-cellseg3d"
      ]
    },
    {
      "cell_type": "markdown",
      "metadata": {
        "id": "pSVZsebrAm-0"
      },
      "source": [
        "## **1.3 Load key dependencies**\n",
        "---"
      ]
    },
    {
      "cell_type": "code",
      "execution_count": null,
      "metadata": {
        "id": "vzm75tE_Am-0",
        "outputId": "4ec61a88-e6de-421a-88d5-84c785bfcf54",
        "colab": {
          "base_uri": "https://localhost:8080/"
        }
      },
      "outputs": [
        {
          "output_type": "stream",
          "name": "stderr",
          "text": [
            "/usr/local/lib/python3.10/dist-packages/pytools/persistent_dict.py:52: RecommendedHashNotFoundWarning: Unable to import recommended hash 'siphash24.siphash13', falling back to 'hashlib.sha256'. Run 'python3 -m pip install siphash24' to install the recommended hash.\n",
            "  warn(\"Unable to import recommended hash 'siphash24.siphash13', \"\n"
          ]
        }
      ],
      "source": [
        "# @title Load libraries\n",
        "import napari_cellseg3d\n",
        "from tifffile import imread\n",
        "from pathlib import Path\n",
        "from napari_cellseg3d.dev_scripts import remote_inference as cs3d\n",
        "from napari_cellseg3d.utils import LOGGER as logger\n",
        "\n",
        "import logging\n",
        "\n",
        "logger.setLevel(logging.INFO)"
      ]
    },
    {
      "cell_type": "markdown",
      "metadata": {
        "id": "XLEJsiVNAm-0"
      },
      "source": [
        "# **2. Inference**\n",
        "---"
      ]
    },
    {
      "cell_type": "markdown",
      "metadata": {
        "id": "gjp4WL40Am-0"
      },
      "source": [
        "\n",
        "## **2.1. Check for GPU access**\n",
        "---\n",
        "\n",
        "By default, this session is configured to use Python 3 and GPU acceleration. To verify or adjust these settings:\n",
        "\n",
        "<font size = 4>Navigate to Runtime and select Change the Runtime type.\n",
        "\n",
        "<font size = 4>For Runtime type, ensure it's set to Python 3 (the programming language this program is written in).\n",
        "\n",
        "<font size = 4>Under Accelerator, choose GPU (Graphics Processing Unit).\n"
      ]
    },
    {
      "cell_type": "code",
      "execution_count": null,
      "metadata": {
        "id": "Fe8hNkOpAm-0"
      },
      "outputs": [],
      "source": [
        "#@markdown This cell verifies if GPU access is available.\n",
        "\n",
        "import torch\n",
        "if not torch.cuda.is_available():\n",
        "  print('You do not have GPU access.')\n",
        "  print('Did you change your runtime?')\n",
        "  print('If the runtime setting is correct then Google did not allocate a GPU for your session')\n",
        "  print('Expect slow performance. To access GPU try reconnecting later')\n",
        "\n",
        "else:\n",
        "  print('You have GPU access')\n",
        "  !nvidia-smi\n"
      ]
    },
    {
      "cell_type": "markdown",
      "metadata": {
        "id": "JBCyJAGsAm-0"
      },
      "source": [
        "## **2.2 Run inference**\n",
        "---"
      ]
    },
    {
      "cell_type": "code",
      "execution_count": null,
      "metadata": {
        "id": "O0jLRpARAm-0"
      },
      "outputs": [],
      "source": [
        "demo_image_path = \"/content/CellSeg3D/examples/c5image.tif\"\n",
        "demo_image = imread(demo_image_path)\n",
        "inference_config = cs3d.CONFIG\n",
        "post_process_config = cs3d.PostProcessConfig()\n",
        "# select cle device for colab\n",
        "import pyclesperanto_prototype as cle\n",
        "cle.select_device(\"cupy\")"
      ]
    },
    {
      "cell_type": "markdown",
      "source": [
        "### Select the pretrained model"
      ],
      "metadata": {
        "id": "b6vIW_oDlpok"
      }
    },
    {
      "cell_type": "code",
      "source": [
        "model_selection = \"WNet3D\" #@param [\"SwinUNetR\", \"WNet3D\", \"SegResNet\"]\n",
        "print(f\"Selected model: {model_selection}\")"
      ],
      "metadata": {
        "id": "5tkEI1q-loqB"
      },
      "execution_count": null,
      "outputs": []
    },
    {
      "cell_type": "code",
      "source": [
        "from napari_cellseg3d.config import ModelInfo\n",
        "\n",
        "model_info = ModelInfo(\n",
        "    name=model_selection,\n",
        "    model_input_size=64 if model_selection == \"SegResNet\" else [64,64,64],\n",
        "    num_classes=2,\n",
        ")\n",
        "inference_config.model_info = model_info"
      ],
      "metadata": {
        "id": "aPFS4WTdmPo3"
      },
      "execution_count": null,
      "outputs": []
    },
    {
      "cell_type": "code",
      "execution_count": null,
      "metadata": {
        "id": "hIEKoyEGAm-0"
      },
      "outputs": [],
      "source": [
        "result = cs3d.inference_on_images(\n",
        "    demo_image,\n",
        "    config=inference_config,\n",
        ")"
      ]
    },
    {
      "cell_type": "code",
      "execution_count": null,
      "metadata": {
        "id": "IFbmZ3_zAm-1",
        "cellView": "form"
      },
      "outputs": [],
      "source": [
        "# @title Post-process the result\n",
        "# @markdown This cell post-processes the result of the inference : thresholding, instance segmentation, and statistics.\n",
        "instance_segmentation,stats = cs3d.post_processing(\n",
        "    result[0].semantic_segmentation,\n",
        "    config=post_process_config,\n",
        ")"
      ]
    },
    {
      "cell_type": "code",
      "execution_count": null,
      "metadata": {
        "id": "TMRiQ-m4Am-1"
      },
      "outputs": [],
      "source": [
        "# @title Display the result\n",
        "#@markdown This cell displays the result of the inference and post-processing. Use the slider to navigate through the z-stack.\n",
        "# @markdown *KNOWN ISSUE* : The colormap of the labels is not consistent between the z-stacks.\n",
        "import matplotlib.pyplot as plt\n",
        "import ipywidgets as widgets\n",
        "from IPython.display import display\n",
        "import matplotlib\n",
        "import colorsys\n",
        "import numpy as np\n",
        "\n",
        "def random_label_cmap(n=2**16, h = (0,1), l = (.4,1), s =(.2,.8)):\n",
        "    \"\"\"FUNCTION TAKEN FROM STARDIST REPO : https://github.com/stardist/stardist/blob/c6c261081c6f9717fa9f5c47720ad2d5a9153224/stardist/plot/plot.py#L8\"\"\"\n",
        "    h,l,s = np.random.uniform(*h,n), np.random.uniform(*l,n), np.random.uniform(*s,n)\n",
        "    cols = np.stack([colorsys.hls_to_rgb(_h,_l,_s) for _h,_l,_s in zip(h,l,s)],axis=0)\n",
        "    cols[0] = 0\n",
        "    # reset the random generator to the first draw to keep the colormap consistent\n",
        "\n",
        "    return matplotlib.colors.ListedColormap(cols)\n",
        "\n",
        "label_cmap = random_label_cmap(n=instance_segmentation.max()+1)\n",
        "\n",
        "def update_plot(z):\n",
        "    plt.figure(figsize=(15, 15))\n",
        "    plt.subplot(1, 3, 1)\n",
        "    plt.imshow(demo_image[z], cmap='gray')\n",
        "    plt.subplot(1, 3, 2)\n",
        "    plt.imshow(result[0].semantic_segmentation[z], cmap='turbo')\n",
        "    plt.subplot(1, 3, 3)\n",
        "    plt.imshow(instance_segmentation[z], cmap=label_cmap)\n",
        "    plt.show()\n",
        "\n",
        "# Create a slider\n",
        "z_slider = widgets.IntSlider(min=0, max=demo_image.shape[0]-1, step=1, value=demo_image.shape[0] // 2)\n",
        "\n",
        "# Display the slider and update the plot when the slider is changed\n",
        "widgets.interact(update_plot, z=z_slider)"
      ]
    },
    {
      "cell_type": "code",
      "execution_count": null,
      "metadata": {
        "id": "Tw5exJ5EAm-1"
      },
      "outputs": [],
      "source": [
        "# @title Display the statistics\n",
        "# @markdown This cell displays the statistics of the post-processed result.\n",
        "import pandas as pd\n",
        "data = pd.DataFrame(stats.get_dict())\n",
        "display(data)"
      ]
    },
    {
      "cell_type": "code",
      "execution_count": null,
      "metadata": {
        "id": "0NhZ-YksAm-1"
      },
      "outputs": [],
      "source": [
        "# @title Plot the a 3D view, with statistics\n",
        "# @markdown This cell plots a 3D view of the cells, with the volume as the size of the points and the sphericity as the color.\n",
        "import plotly.graph_objects as go\n",
        "import numpy as np\n",
        "\n",
        "def plotly_cells_stats(data):\n",
        "\n",
        "    x = data[\"Centroid x\"]\n",
        "    y = data[\"Centroid y\"]\n",
        "    z = data[\"Centroid z\"]\n",
        "\n",
        "    fig = go.Figure(\n",
        "        data=go.Scatter3d(\n",
        "            x=np.floor(x),\n",
        "            y=np.floor(y),\n",
        "            z=np.floor(z),\n",
        "            mode=\"markers\",\n",
        "            marker=dict(\n",
        "                sizemode=\"diameter\",\n",
        "                sizeref=30,\n",
        "                sizemin=20,\n",
        "                size=data[\"Volume\"],\n",
        "                color=data[\"Sphericity (axes)\"],\n",
        "                colorscale=\"Turbo_r\",\n",
        "                colorbar_title=\"Sphericity\",\n",
        "                line_color=\"rgb(140, 140, 170)\",\n",
        "            ),\n",
        "        )\n",
        "    )\n",
        "\n",
        "    fig.update_layout(\n",
        "        height=600,\n",
        "        width=600,\n",
        "        title=f'Total number of cells : {int(data[\"Number objects\"][0])}',\n",
        "    )\n",
        "\n",
        "    fig.show(renderer=\"colab\")\n",
        "\n",
        "plotly_cells_stats(data)"
      ]
    }
  ],
  "metadata": {
    "accelerator": "GPU",
    "colab": {
      "gpuType": "T4",
      "provenance": [],
      "include_colab_link": true
    },
    "kernelspec": {
      "display_name": "Python 3",
      "name": "python3"
    },
    "language_info": {
      "name": "python"
    }
  },
  "nbformat": 4,
  "nbformat_minor": 0
}
